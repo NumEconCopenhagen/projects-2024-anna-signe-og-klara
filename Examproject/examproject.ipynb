{
 "cells": [
  {
   "cell_type": "markdown",
   "metadata": {},
   "source": [
    "**Table of contents**<a id='toc0_'></a>    \n",
    "- 1. [Problem 1: Production economy and CO2 taxation](#toc1_)    \n",
    "- 2. [Problem 2: Career choice model](#toc2_)    \n",
    "- 3. [Problem 3: Barycentric interpolation](#toc3_)    \n",
    "\n",
    "<!-- vscode-jupyter-toc-config\n",
    "\tnumbering=true\n",
    "\tanchor=true\n",
    "\tflat=false\n",
    "\tminLevel=2\n",
    "\tmaxLevel=6\n",
    "\t/vscode-jupyter-toc-config -->\n",
    "<!-- THIS CELL WILL BE REPLACED ON TOC UPDATE. DO NOT WRITE YOUR TEXT IN THIS CELL -->"
   ]
  },
  {
   "cell_type": "code",
   "execution_count": null,
   "metadata": {},
   "outputs": [],
   "source": [
    "# Write your code here\n",
    "import numpy as np\n",
    "from types import SimpleNamespace\n",
    "import matplotlib.pyplot as plt\n",
    "from scipy import optimize\n",
    "from scipy.optimize import minimize\n",
    "import pandas as pd\n",
    "\n",
    "# autoreload modules when code is run. Otherwise, python will not see recent changes. \n",
    "%load_ext autoreload\n",
    "%autoreload 2\n",
    "\n",
    "# We import our project from the py-file\n",
    "from examproject import ProductionEconomyClass\n",
    "\n",
    "# We import our class\n",
    "economy = ProductionEconomyClass()"
   ]
  },
  {
   "cell_type": "markdown",
   "metadata": {},
   "source": [
    "## 1. <a id='toc1_'></a>[Problem 1: Production economy and CO2 taxation](#toc0_)"
   ]
  },
  {
   "cell_type": "markdown",
   "metadata": {},
   "source": [
    "Consider a production economy with two firms indexed by $j \\in \\{1,2\\}$. Each produce its own good. They solve\n",
    "\n",
    "$$\n",
    "\\begin{align*}\n",
    "\\max_{y_{j}}\\pi_{j}&=p_{j}y_{j}-w_{j}\\ell_{j}\\\\\\text{s.t.}\\;&y_{j}=A\\ell_{j}^{\\gamma}.\n",
    "\\end{align*}\n",
    "$$\n",
    "\n",
    "Optimal firm behavior is\n",
    "\n",
    "$$\n",
    "\\begin{align*}\n",
    "\\ell_{j}^{\\star}(w,p_{j})&=\\left(\\frac{p_{j}A\\gamma}{w}\\right)^{\\frac{1}{1-\\gamma}} \\\\\n",
    "y_{j}^{\\star}(w,p_{j})&=A\\left(\\ell_{j}^{\\star}(w,p_{j})\\right)^{\\gamma}\n",
    "\\end{align*}\n",
    "$$\n",
    "\n",
    "The implied profits are\n",
    "\n",
    "$$\n",
    "\\pi_{j}^*(w,p_{j})=\\frac{1-\\gamma}{\\gamma}w\\cdot\\left(\\frac{p_{j}A\\gamma}{w}\\right)^{\\frac{1}{1-\\gamma}}\n",
    "$$\n",
    "\n",
    "A single consumer supplies labor, and consumes the goods the firms produce. She also recieves the implied profits of the firm.<br>\n",
    "She solves:\n",
    "\n",
    "$$\n",
    "\\begin{align*}\n",
    "U(p_1,p_2,w,\\tau,T) = \\max_{c_{1},c_{2},\\ell} & \\log(c_{1}^{\\alpha}c_{2}^{1-\\alpha})-\\nu\\frac{\\ell^{1+\\epsilon}}{1+\\epsilon} \\\\\n",
    "\\text{s.t.}\\,\\,\\,&p_{1}c_{1}+(p_{2}+\\tau)c_{2}=w\\ell+T+\\pi_{1}^*(w,p_{1})+\\pi_{2}^*(w,p_{2})\n",
    "\\end{align*}\n",
    "$$\n",
    "\n",
    "where $\\tau$ is a tax and $T$ is lump-sum transfer. <br>\n",
    "For a given $\\ell$, it can be shown that optimal behavior is\n",
    "\n",
    "$$\n",
    "\\begin{align*}\n",
    "c_{1}(\\ell)&=\\alpha\\frac{w\\ell+T+\\pi_{1}^*(w,p_{1})+\\pi_{2}^*(w,p_{2})}{p_{1}} \\\\\n",
    "c_{2}(\\ell)&=(1-\\alpha)\\frac{w\\ell+T+\\pi_{1}^*(w,p_{1})+\\pi_{2}^*(w,p_{2})}{p_{2}+\\tau} \\\\\n",
    "\\end{align*}\n",
    "$$\n",
    "Such that optimal behavior is:\n",
    "$$\n",
    "\\ell^* = \\underset{\\ell}{\\arg\\max} \\log(\\left(c_{1}(\\ell)\\right)^{\\alpha}\\cdot \\left(c_{2}(\\ell)\\right)^{1-\\alpha})-\\nu\\frac{\\ell^{1+\\epsilon}}{1+\\epsilon} \n",
    "$$\n",
    "With optimal consumption:\n",
    "$$\n",
    "\\begin{align*}\n",
    "c_1^*=c_{1}(\\ell^*) \\\\\n",
    "c_2^*=c_{2}(\\ell^*)\\\\\n",
    "\\end{align*}\n",
    "$$\n",
    "\n",
    "\n",
    "The government chooses $\\tau$ and balances its budget so $T=\\tau c_2^*$. We initially set $\\tau,T=0$.\n",
    "\n",
    "Market clearing requires:\n",
    "\n",
    "1. Labor market: $\\ell^* = \\ell_1^* + \\ell_2^*$\n",
    "1. Good market 1: $c_1^* = y_1^*$\n",
    "1. Good market 2: $c_2^* = y_2^*$\n"
   ]
  },
  {
   "cell_type": "markdown",
   "metadata": {},
   "source": [
    "**Question 1:** Check market clearing conditions for $p_1$ in `linspace(0.1,2.0,10)` and $p_2$ in `linspace(0.1,2.0,10)`. We choose $w=1$ as numeraire."
   ]
  },
  {
   "cell_type": "code",
   "execution_count": null,
   "metadata": {},
   "outputs": [],
   "source": [
    "# Question 1\n",
    "economy.check_market_clearing()"
   ]
  },
  {
   "cell_type": "markdown",
   "metadata": {},
   "source": [
    "**Answer:**\n",
    "\n",
    "In the py.file we have started by initializing the class, hereby defining parameters, initialized placerholders for the prices and set the wage as numerarie. Following we have defined the optimal labor and production-function, defined the function for profit and utility as given above.\n",
    "\n",
    "Above we see the check for market clearing, implying that supply meets demand for a set og prices in the defined range. We loop/iterate over possible combinations of prices for p1 and p2 within the range, where the optimal labor and production is calculated from these prices. The method we choose then check for market clearing in terms of labor and production, hereby meeting the conditions for market clearing as asked in the question. In our setup we check for market clearing at all three markets, labor and good 1 and 2, though we could have used Walras Law. Walras Law for market clearing implies, that if n-1 market in a economy clears, then the last market clears aswell. \n",
    "\n",
    "\n",
    "From the result printed above, we see that for all combination itterated over in the loop, none of the three markets meets the market clearing condition. This implies, that non of the increments in the interval defined above will imply an equilibrium. Though, this does not imply that the markets cannot clear, just that the onces tested above isn't the solution. Hereby, market clearing could be obtained either by changing the increments, the intervals etc."
   ]
  },
  {
   "cell_type": "markdown",
   "metadata": {},
   "source": [
    "**Question 2:** Find the equilibrium prices $p_1$ and $p_2$.<br>\n",
    "*Hint: you can use Walras' law to only check 2 of the market clearings*"
   ]
  },
  {
   "cell_type": "code",
   "execution_count": null,
   "metadata": {},
   "outputs": [],
   "source": [
    "# Question 2\n",
    "economy.find_equilibrium_prices()\n",
    "\n",
    "economy.consumption_without_tax()"
   ]
  },
  {
   "cell_type": "markdown",
   "metadata": {},
   "source": [
    "**Answer:**\n",
    "\n",
    "Above we find that the prices that results in market clearing conditions being met are $p1=1.10$ and $p2=1.67$. From this we see, that the prices were within the range defined above, but simply wasn't tested as they weren't the \"correct\" intercrements within the interval.\n",
    "\n",
    "From the equilibrium prices, we calculate the consumption in order to compare with the next question, when there is introduced a tax on carbon emission. \n",
    "\n",
    "We see from the Cob-Douglas utility function for the consumer, that the weight for good preference is given by $\\alpha=0.3$. This implies that there is a greater weight on consumption for good 2, which is to be seen in the consumption of the two goods, where the consumption of c2 (without tax) is way higher than the consumption of c1 (without tax). Hereby the consumers preferences from their utility functions are reflected in their consumption in equilibrium."
   ]
  },
  {
   "cell_type": "markdown",
   "metadata": {},
   "source": [
    "Assume the government care about the social welfare function:\n",
    "\n",
    "$$\n",
    "SWF = U - \\kappa y_2^*\n",
    "$$"
   ]
  },
  {
   "cell_type": "markdown",
   "metadata": {},
   "source": [
    "Here $\\kappa$ measures the social cost of carbon emitted by the production of $y_2$ in equilibrium."
   ]
  },
  {
   "cell_type": "markdown",
   "metadata": {},
   "source": [
    "**Question 3:** What values of $\\tau$ and (implied) $T$ should the government choose to maximize $SWF$?"
   ]
  },
  {
   "cell_type": "code",
   "execution_count": null,
   "metadata": {},
   "outputs": [],
   "source": [
    "# Question 3\n",
    "economy.find_optimal_tax()"
   ]
  },
  {
   "cell_type": "markdown",
   "metadata": {},
   "source": [
    "**Answer:**\n",
    "\n",
    "In order to answer the question above, firstly, we assume that the economy is in equlibrium with the prices p1 and p2 above, yielding that the market clarings conditions are met. From this equilibrium, we shock the model by introducting two taxes, one being the tax on consumption of c2 in form of a carbon emission tax, and one being the lumpsum transfering back to the consumers.\n",
    "\n",
    "From the social welfare function, we see that there is a negative externality attached to consumption of good 2, which \n",
    "implies that the social optimal consumption of c2 is lower than in the market equilibrium, as the markets price doesn't reflect the social cost.\n",
    "\n",
    "We see above that the optimal tax rate for carbon emission $\\tau=0.18$ and the lump-sum tax is 0.67. \n",
    "We find that the maximized SWF is 0.63. \n",
    "We calculate the consumption of the two goods after the carbon emission tax is being introduced and lump-sum transfered from the government to the consumers as well. \n",
    "\n",
    "First of, we see that the tax on carbon emission only affects the demand for c2, hereby implying that there is no carbon emission from c1. In practice, c2 are effected by the carbon tax by implying a higher effective price for the good. Before the price was simply p2, though after introducing the tax - the price is effectively given by $p2+\\tau$. As $\\tau>0$ we find a increase in the price for c2. This would lead to a lower demand for c2 relative to c1, which is exactly what we find when calculating the consumption of the two goods following the demand. Hereby there is a degree of possibility for subtitution, as we see that the consumers change their consumption towards c1. If the carbon tax were to increase, we would most likely find a even greater substitution towards c1.\n",
    "\n",
    "We find that the lumpsum transfer is a direct compensation to the consumer funded by the tax revenue, as this is given by $T=\\tau\\times c2^*$. This transfer helps to redistribute income and possibly mitigate the negative effects of the tax on household consumption.\n",
    "\n",
    "The optimal tax rate of 0.47 reflects a balance between raising enough revenue to fund transfers and not overburdening households to the point where their consumption and labor supply decisions significantly lower overall welfare. Where te lump-sum transfer is a crucial element, as it helps to alleviate the burden of the tax on households by returning some of the collected tax revenue, which supports their consumption and labor supply decisions.\n",
    "\n",
    "The maximized SWF function yields a value of -0.63. This might be explained by the general social negative effect there is associated with the consumption of c2. Even though, a tax of $\\tau=0.47$ is introduced, the social cost, reflecting the negative externality, is not high enough to compensate for the negative social cost associated with c2, therefore - the social welfare function is negative even though we set the optimal tax rate."
   ]
  },
  {
   "cell_type": "markdown",
   "metadata": {},
   "source": [
    "## 2. <a id='toc2_'></a>[Problem 2: Career choice model](#toc0_)"
   ]
  },
  {
   "cell_type": "markdown",
   "metadata": {},
   "source": [
    "Consider a graduate $i$ making a choice between entering $J$ different career tracks. <br>\n",
    "Entering career $j$ yields utility $u^k_{ij}$. This value is unknown to the graduate ex ante, but will ex post be: <br>\n",
    "$$\n",
    "    u_{i,j}^k = v_{j} + \\epsilon_{i,j}^k\n",
    "$$\n",
    "\n",
    "They know that $\\epsilon^k_{i,j}\\sim \\mathcal{N}(0,\\sigma^2)$, but they do not observe $\\epsilon^k_{i,j}$ before making their career choice. <br>"
   ]
  },
  {
   "cell_type": "markdown",
   "metadata": {},
   "source": [
    "Consider the concrete case of $J=3$ with:\n",
    "$$\n",
    "\\begin{align*}\n",
    "    v_{1} &= 1 \\\\\n",
    "    v_{2} &= 2 \\\\\n",
    "    v_{3} &= 3\n",
    "\\end{align*}\n",
    "$$"
   ]
  },
  {
   "cell_type": "markdown",
   "metadata": {},
   "source": [
    "If the graduates know the values of $v_j$ and the distribution of $\\epsilon_{i,j}^k$, they can calculate the expected utility of each career track using simulation: <br>\n",
    "$$\n",
    "    \\mathbb{E}\\left[ u^k_{i,j}\\vert v_j \\right] \\approx v_j + \\frac{1}{K}\\sum_{k=1}^K \\epsilon_{i,j}^k\n",
    "$$"
   ]
  },
  {
   "cell_type": "code",
   "execution_count": null,
   "metadata": {},
   "outputs": [],
   "source": [
    "par = SimpleNamespace()\n",
    "par.J = 3\n",
    "par.N = 10\n",
    "par.K = 10000\n",
    "\n",
    "par.F = np.arange(1,par.N+1)\n",
    "par.sigma = 2\n",
    "\n",
    "par.v = np.array([1,2,3])\n",
    "par.c = 1"
   ]
  },
  {
   "cell_type": "markdown",
   "metadata": {},
   "source": [
    "**Question 1:** Simulate and calculate expected utility and the average realised utility for $K=10000$ draws, for each career choice $j$.\n"
   ]
  },
  {
   "cell_type": "code",
   "execution_count": null,
   "metadata": {},
   "outputs": [],
   "source": [
    "# Import the CareerChoiceSimulation class\n",
    "from examproject import CareerChoiceSimulation\n",
    "\n",
    "# Create an instance of CareerChoiceSimulation\n",
    "simulator = CareerChoiceSimulation()"
   ]
  },
  {
   "cell_type": "code",
   "execution_count": null,
   "metadata": {},
   "outputs": [],
   "source": [
    "# Question 1\n",
    "# Perform simulation and get results\n",
    "overall_expected_utilities, overall_avg_realized_utilities = simulator.simulate_utility()\n",
    "\n",
    "# Print results\n",
    "J = 3  # Number of career tracks\n",
    "\n",
    "print(\"Overall Expected Utilities:\")\n",
    "for j in range(J):\n",
    "    print(f\"Career {j+1}: {overall_expected_utilities[j]}\")\n",
    "\n",
    "print(\"\\nOverall Average Realized Utilities:\")\n",
    "for j in range(J):\n",
    "    print(f\"Career {j+1}: {overall_avg_realized_utilities[j]:.2f}\")"
   ]
  },
  {
   "cell_type": "markdown",
   "metadata": {},
   "source": [
    "**Answer:**\n",
    "\n",
    "From the above results we observe that the overall average realized utilities are almost the same as the expected utilities. This means that the graduates are almost correct in their beliefs about their observed utility. This implies that the realized utilities are effected by some noise term, which the graduates do not take into account when making their expectations. On average though they are almost cancled out."
   ]
  },
  {
   "cell_type": "markdown",
   "metadata": {},
   "source": [
    "Now consider a new scenario: Imagine that the graduate does not know $v_j$. The *only* prior information they have on the value of each job, comes from their $F_{i}$ friends that work in each career $j$. After talking with them, they know the average utility of their friends (which includes their friends' noise term), giving them the prior expecation: <br>\n",
    "$$\n",
    "\\tilde{u}^k_{i,j}\\left( F_{i}\\right) = \\frac{1}{F_{i}}\\sum_{f=1}^{F_{i}} \\left(v_{j} + \\epsilon^k_{f,j}\\right), \\; \\epsilon^k_{f,j}\\sim \\mathcal{N}(0,\\sigma^2)\n",
    "$$\n",
    "For ease of notation consider that each graduate have $F_{i}=i$ friends in each career. <br>"
   ]
  },
  {
   "cell_type": "markdown",
   "metadata": {},
   "source": [
    "For $K$ times do the following: <br>\n",
    "1. For each person $i$ draw $J\\cdot F_i$ values of $\\epsilon_{f,j}^{k}$, and calculate the prior expected utility of each career track, $\\tilde{u}^k_{i,j}\\left( F_{i}\\right)$. <br>\n",
    "Also draw their own $J$ noise terms, $\\epsilon_{i,j}^k$\n",
    "1. Each person $i$ chooses the career track with the highest expected utility: $$j_i^{k*}= \\arg\\max_{j\\in{1,2\\dots,J}}\\left\\{ \\tilde{u}^k_{i,j}\\left( F_{i}\\right)\\right\\} $$\n",
    "1. Store the chosen careers: $j_i^{k*}$, the prior expectation of the value of their chosen career: $\\tilde{u}^k_{i,j=j_i^{k*}}\\left( F_{i}\\right)$, and the realized value of their chosen career track: $u^k_{i,j=j_i^{k*}}=v_{j=j_i^{k*}}+\\epsilon_{i,j=j_i^{k*}}^k$."
   ]
  },
  {
   "cell_type": "markdown",
   "metadata": {},
   "source": [
    "Chosen values will be: <br>\n",
    "$i\\in\\left\\{1,2\\dots,N\\right\\}, N=10$ <br>\n",
    "$F_i = i$<br>\n",
    "So there are 10 graduates. The first has 1 friend in each career, the second has 2 friends, ... the tenth has 10 friends."
   ]
  },
  {
   "cell_type": "markdown",
   "metadata": {},
   "source": [
    "**Question 2:** Simulate and visualize: For each type of graduate, $i$, the share of graduates choosing each career, the average subjective expected utility of the graduates, and the average ex post realized utility given their choice. <br>\n",
    "That is, calculate and visualize: <br>\n",
    "$$\n",
    "\\begin{align*}\n",
    "    \\frac{1}{K} \\sum_{k=1}^{K} \\mathbb{I}\\left\\{ j=j_i^{k*} \\right\\}  \\;\\forall j\\in\\left\\{1,2,\\dots,J\\right\\}\n",
    "\\end{align*}\n",
    "$$\n",
    "$$\n",
    "\\begin{align*}\n",
    "    \\frac{1}{K} \\sum_{k=1}^{K} \\tilde{u}^k_{ij=j_i^{k*}}\\left( F_{i}\\right)\n",
    "\\end{align*}\n",
    "$$\n",
    "And \n",
    "$$\n",
    "\\begin{align*}\n",
    "    \\frac{1}{K} \\sum_{k=1}^{K} u^k_{ij=j_i^{k*}} \n",
    "\\end{align*}\n",
    "$$\n",
    "For each graduate $i$."
   ]
  },
  {
   "cell_type": "code",
   "execution_count": null,
   "metadata": {},
   "outputs": [],
   "source": [
    "# Question 2\n",
    "share_grad_choosing_career, ave_sub_exp_utility, ave_ex_post_real_utility = simulator.simulate_career_choices_prior()\n",
    "\n",
    "# Visualize the results\n",
    "plt.figure(figsize=(14, 10))\n",
    "\n",
    "# Share of Graduates Choosing Each Career\n",
    "plt.subplot(3, 1, 1)\n",
    "colors = ['#1f77b4', '#ff7f0e', '#2ca02c']  # Different color scheme\n",
    "for idx, career in enumerate(range(1, simulator.par.J + 1)):\n",
    "    plt.plot(share_grad_choosing_career.index, share_grad_choosing_career[career], label=f'Career {career}', color=colors[idx], marker='o', linestyle='-')\n",
    "plt.title('Share of Graduates Choosing Each Career')\n",
    "plt.xlabel('Graduate')\n",
    "plt.ylabel('Share')\n",
    "plt.xticks(np.arange(1, simulator.par.N + 1))  # Ensure all graduates are displayed on x-axis\n",
    "plt.legend()\n",
    "plt.grid(True, linestyle='--', alpha=0.7)\n",
    "\n",
    "# Average Subjective Expected Utility\n",
    "plt.subplot(3, 1, 2)\n",
    "plt.plot(ave_sub_exp_utility.index, ave_sub_exp_utility, label='Average Subjective Expected Utility', color='#9467bd', marker='s', linestyle='-')\n",
    "plt.title('Average Subjective Expected Utility of the Graduate')\n",
    "plt.xlabel('Graduate')\n",
    "plt.ylabel('Avg. Exp. Utility')\n",
    "plt.xticks(np.arange(1, simulator.par.N + 1))  # Ensure all graduates are displayed on x-axis\n",
    "plt.legend()\n",
    "plt.grid(True, linestyle='--', alpha=0.7)\n",
    "\n",
    "# Average Ex Post Realized Utility\n",
    "plt.subplot(3, 1, 3)\n",
    "plt.plot(ave_ex_post_real_utility.index, ave_ex_post_real_utility, label='Average Ex Post Realized Utility', color='#d62728', marker='^', linestyle='-')\n",
    "plt.title('Average Ex Post Realized Utility Given their Choice')\n",
    "plt.xlabel('Graduate')\n",
    "plt.ylabel('Avg. Realized Utility')\n",
    "plt.xticks(np.arange(1, simulator.par.N + 1))  # Ensure all graduates are displayed on x-axis\n",
    "plt.legend()\n",
    "plt.grid(True, linestyle='--', alpha=0.7)\n",
    "\n",
    "plt.tight_layout()\n",
    "plt.show()"
   ]
  },
  {
   "cell_type": "markdown",
   "metadata": {},
   "source": [
    "**Answer:**\n",
    "\n",
    "In this question we do not know $v_j$ and therefore the graduates has to make a judgment about their expected utility on behalf of their friends average utility from their respective career. \n",
    "When looking at each type of graduate defined by the number of friends we observe that the share of graduates choosing career 3 increases with the number of friends to almost 85 pct. The opposite effect is the case when looking at career 1 and 2, where career 1 almost decreases to a share of 0 and career 2 decreases to a share around 15 pct. This implies that when having more friends to make judgments of own utility from the careers on the less errors will affect the graduates beliefs of their own expected utility. This means that they will choose the career where their friends gain the most utility from it. \n",
    "\n",
    "This is also shown in the next two graphs where the expected utility and the realized utility approaches each other the more friends the graduate has. At around 7-10 friends the average realized utility and the average expected utility differs very little. This shows us that the graduates are able to make somehow correct predictions about their own expected utility when having a lot of friends to base the judgment on.\n"
   ]
  },
  {
   "cell_type": "markdown",
   "metadata": {},
   "source": [
    "After a year of working in their career, the graduates learn $u^k_{ij}$ for their chosen job $j_i^{k*}$ perfectly. <br>\n",
    "The can switch to one of the two remaining careers, for which they have the same prior as before, but it will now include a switching cost of $c$ which is known.\n",
    "Their new priors can be written as: \n",
    "$$\n",
    "\\tilde{u}^{k,2}_{ij}\\left( F_{i}\\right) = \\begin{cases}\n",
    "            \\tilde{u}^k_{ij}\\left( F_{i}\\right)-c & \\text{if } j \\neq j_i^{k*} \\\\\n",
    "            u_{ij=j_i^{k*}} & \\text{if } j = j_i^{k*}\n",
    "        \\end{cases}\n",
    "$$"
   ]
  },
  {
   "cell_type": "markdown",
   "metadata": {},
   "source": [
    "We will set $c=1$."
   ]
  },
  {
   "cell_type": "markdown",
   "metadata": {},
   "source": [
    "Their realized utility will be: <br>\n",
    "$$\n",
    "u^{k,2}_{ij}= \\begin{cases}\n",
    "            u_{ij}^k -c & \\text{if } j \\neq j_i^{k*} \\\\\n",
    "            u_{ij=j_i^{k*}} & \\text{if } j = j_i^{k*}\n",
    "        \\end{cases}\n",
    "$$"
   ]
  },
  {
   "cell_type": "markdown",
   "metadata": {},
   "source": [
    "**Question 3:** Following the same approach as in question 2, find the new optimal career choice for each $i$, $k$. Then for each $i$, calculate the average subjective expected utility from their new optimal career choice, and the ex post realized utility of that career. Also, for each $i$, calculate the share of graduates that chooses to switch careers, conditional on which career they chose in the first year. <br>"
   ]
  },
  {
   "cell_type": "code",
   "execution_count": null,
   "metadata": {},
   "outputs": [],
   "source": [
    "share_grad_switching, ave_sub_exp_utility_switching, ave_ex_post_real_utility_switching = simulator.simulate_career_choices_switching_stats()\n",
    "\n",
    "# Visualize the results\n",
    "plt.figure(figsize=(14, 10))\n",
    "\n",
    "# Share of Graduates Choosing Each Career after Switching\n",
    "plt.subplot(3, 1, 1)\n",
    "colors = ['#1f77b4', '#ff7f0e', '#2ca02c']\n",
    "for idx, career in enumerate(range(1, simulator.par.J + 1)):\n",
    "    plt.plot(share_grad_switching.index, share_grad_switching[career], label=f'Career {career}', color=colors[idx], marker='o', linestyle='-')\n",
    "plt.title('Optimal Career Choice for each Graduate after Switching')\n",
    "plt.xlabel('Graduate')\n",
    "plt.ylabel('Share')\n",
    "plt.xticks(np.arange(1, simulator.par.N + 1))\n",
    "plt.legend()\n",
    "plt.grid(True, linestyle='--', alpha=0.7)\n",
    "\n",
    "# Average Subjective Expected Utility after Switching\n",
    "plt.subplot(3, 1, 2)\n",
    "plt.plot(ave_sub_exp_utility_switching.index, ave_sub_exp_utility_switching, label='Average Subjective Expected Utility', color='#9467bd', marker='s', linestyle='-')\n",
    "plt.title('Average Subjective Expected Utility after Switching')\n",
    "plt.xlabel('Graduate')\n",
    "plt.ylabel('Avg. Exp. Utility')\n",
    "plt.xticks(np.arange(1, simulator.par.N + 1))\n",
    "plt.legend()\n",
    "plt.grid(True, linestyle='--', alpha=0.7)\n",
    "\n",
    "# Average Ex Post Realized Utility after Switching\n",
    "plt.subplot(3, 1, 3)\n",
    "plt.plot(ave_ex_post_real_utility_switching.index, ave_ex_post_real_utility_switching, label='Average Ex Post Realized Utility', color='#d62728', marker='^', linestyle='-')\n",
    "plt.title('Average Ex Post Realized Utility after Switching')\n",
    "plt.xlabel('Graduate')\n",
    "plt.ylabel('Avg. Realized Utility')\n",
    "plt.xticks(np.arange(1, simulator.par.N + 1))\n",
    "plt.legend()\n",
    "plt.grid(True, linestyle='--', alpha=0.7)\n",
    "\n",
    "plt.tight_layout()\n",
    "plt.show()"
   ]
  },
  {
   "cell_type": "code",
   "execution_count": null,
   "metadata": {},
   "outputs": [],
   "source": [
    "\n",
    "def simulate_career_choices(seed=7):\n",
    "    \"\"\"Simulate initial career choices for graduates based on expected utility.\"\"\"\n",
    "    np.random.seed(seed)\n",
    "    results = []\n",
    "\n",
    "    for k in range(par.K):\n",
    "        epsilon_friends = {i: np.random.normal(0, par.sigma, (i, par.J)) for i in range(1, par.N + 1)}\n",
    "        epsilon_personal = {i: np.random.normal(0, par.sigma, par.J) for i in range(1, par.N + 1)}\n",
    "\n",
    "        for i in range(1, par.N + 1):\n",
    "            # Calculate prior expected utilities\n",
    "            prior_exp_utilities = par.v + np.mean(epsilon_friends[i], axis=0)\n",
    "\n",
    "            # Determine the career choice with the highest expected utility\n",
    "            chosen_career = np.argmax(prior_exp_utilities) + 1\n",
    "\n",
    "            # Calculate the realized utility\n",
    "            realized_utility = par.v[chosen_career - 1] + epsilon_personal[i][chosen_career - 1]\n",
    "\n",
    "            results.append({\n",
    "                'Graduate': i,\n",
    "                'Chosen Career': chosen_career,\n",
    "                'Prior Expected Utility': prior_exp_utilities[chosen_career - 1],\n",
    "                'Realized Utility': realized_utility\n",
    "            })\n",
    "\n",
    "    return pd.DataFrame(results)\n",
    "\n",
    "def simulate_career_choices_switching(seed=7):\n",
    "    \"\"\"Simulate career choices with the possibility of switching based on realized utility.\"\"\"\n",
    "    np.random.seed(seed)\n",
    "    initial_results = simulate_career_choices(seed)\n",
    "    results_with_switching = []\n",
    "\n",
    "    for k in range(par.K):\n",
    "        epsilon_friends = {i: np.random.normal(0, par.sigma, (i, par.J)) for i in range(1, par.N + 1)}\n",
    "        epsilon_personal = {i: np.random.normal(0, par.sigma, par.J) for i in range(1, par.N + 1)}\n",
    "\n",
    "        for i in range(1, par.N + 1):\n",
    "            # Calculate prior expected utilities\n",
    "            prior_exp_utilities = par.v + np.mean(epsilon_friends[i], axis=0)\n",
    "\n",
    "            # Determine the career choice with the highest expected utility\n",
    "            chosen_career = np.argmax(prior_exp_utilities) + 1\n",
    "\n",
    "            # Calculate the realized utility\n",
    "            realized_utility = par.v[chosen_career - 1] + epsilon_personal[i][chosen_career - 1]\n",
    "\n",
    "            # Reconsider career choice after learning the realized utility\n",
    "            new_prior_exp_utilities = prior_exp_utilities - par.c\n",
    "            new_prior_exp_utilities[chosen_career - 1] = realized_utility\n",
    "\n",
    "            new_chosen_career = np.argmax(new_prior_exp_utilities) + 1\n",
    "            new_realized_utility = par.v[new_chosen_career - 1] + epsilon_personal[i][new_chosen_career - 1]\n",
    "\n",
    "            results_with_switching.append({\n",
    "                'Graduate': i,\n",
    "                'Initial Chosen Career': chosen_career,\n",
    "                'Initial Realized Utility': realized_utility,\n",
    "                'New Chosen Career': new_chosen_career,\n",
    "                'New Realized Utility': new_realized_utility,\n",
    "                'Prior Expected Utility': prior_exp_utilities[chosen_career - 1],\n",
    "                'Switched': chosen_career != new_chosen_career\n",
    "            })\n",
    "\n",
    "    return pd.DataFrame(results_with_switching)\n",
    "\n",
    "# Perform the simulation with switching\n",
    "results_with_switching_df = simulate_career_choices_switching()\n",
    "\n",
    "# Calculate the share of graduates that switch careers based on their initial career choice\n",
    "switching_stats = results_with_switching_df.groupby('Initial Chosen Career')['Switched'].mean()\n",
    "\n",
    "# Calculate the share of graduates switching from each initial career choice\n",
    "switching_shares = results_with_switching_df.groupby(['Graduate', 'Initial Chosen Career'])['Switched'].mean().unstack()\n",
    "\n",
    "# Plotting the results with enhanced readability\n",
    "plt.figure(figsize=(12, 8))\n",
    "\n",
    "# Plot the share of graduates switching from each initial career\n",
    "for career in range(1, par.J + 1):\n",
    "    plt.plot(switching_shares.index, switching_shares[career], marker='o', label=f'Switched from Career {career}')\n",
    "\n",
    "# Add titles and labels with increased font sizes\n",
    "plt.title('Share of Graduates Switching Careers (Second Year)', fontsize=16)\n",
    "plt.xlabel('Number of Friends $(F_i)$', fontsize=14)\n",
    "plt.ylabel('Share of Graduates Switching Careers', fontsize=14)\n",
    "\n",
    "# Add a legend with a larger font size\n",
    "plt.legend(fontsize=12)\n",
    "\n",
    "# Add a grid with improved styling\n",
    "plt.grid(True, linestyle='--', alpha=0.7)\n",
    "\n",
    "# Add tight layout for better spacing\n",
    "plt.tight_layout()\n",
    "\n",
    "# Show the plot\n",
    "plt.show()"
   ]
  },
  {
   "cell_type": "markdown",
   "metadata": {},
   "source": [
    "\n",
    "**Answer:**\n",
    "\n",
    "When the graduates are able to change their career after one year we observe a slight change in the shares and utility. The pattern is though the same: the share of graduates in career 3 still increases by number of friends, and decreases in career 1 and 2 by the number of friends. Though the decrease is smaller for career 2 and the increase is smaller for career 3. \n",
    "\n",
    "Looking at the utility we actually observe that the average realized utility actually increases a lot and ends up being larger than the average expected utility. This implies that the graduates actually underestimate their own utility from changing career based on the utility from their friends. This implies that the friends utility might not represent the utility the graduate gains from changing career. This could be due to the fact that the gain in utility is now relative to what have been observed before, which can make the gain in utility seem even larger if the graduate was unhappy about their previous career.  \n",
    "\n",
    "Above we have also printed the share of graduates switching careers, based on what career they are switching from. In line with the observed utility from the three careers, most graduates choose to switch career if they where originally in career 1, where also a positive trend is observed for the number of friends. The second most people switch from career 2, which seems to not really have a trend. The least people switch from career 3, which has a negative trend depending on number of friends. \n",
    "\n",
    "All in all this implies that the more friends the graduate have, and thereby the more observation you can make judgment on behalf of, the more correct will your expectations be."
   ]
  },
  {
   "cell_type": "markdown",
   "metadata": {},
   "source": [
    "## 3. <a id='toc3_'></a>[Problem 3: Barycentric interpolation](#toc0_)"
   ]
  },
  {
   "cell_type": "markdown",
   "metadata": {},
   "source": [
    "**Problem:** We have a set of random points in the unit square,\n",
    "\n",
    "$$\n",
    "\\mathcal{X} = \\{(x_1,x_2)\\,|\\,x_1\\sim\\mathcal{U}(0,1),x_2\\sim\\mathcal{U}(0,1)\\}.\n",
    "$$\n",
    "\n",
    "For these points, we know the value of some function $f(x_1,x_2)$,\n",
    "\n",
    "$$\n",
    "\\mathcal{F} = \\{f(x_1,x_2) \\,|\\, (x_1,x_2) \\in \\mathcal{X}\\}.\n",
    "$$\n",
    "\n",
    "Now we want to approximate the value $f(y_1,y_2)$ for some  $y=(y_1,y_2)$, where $y_1\\sim\\mathcal{U}(0,1)$ and $y_2\\sim\\mathcal{U}(0,1)$.\n",
    "\n",
    "**Building block I**\n",
    "\n",
    "For an arbitrary triangle $ABC$ and a point $y$, define the so-called barycentric coordinates as:\n",
    "\n",
    "$$\n",
    "\\begin{align*}\n",
    "  r^{ABC}_1 &= \\frac{(B_2-C_2)(y_1-C_1) + (C_1-B_1)(y_2-C_2)}{(B_2-C_2)(A_1-C_1) + (C_1-B_1)(A_2-C_2)} \\\\\n",
    "  r^{ABC}_2 &= \\frac{(C_2-A_2)(y_1-C_1) + (A_1-C_1)(y_2-C_2)}{(B_2-C_2)(A_1-C_1) + (C_1-B_1)(A_2-C_2)} \\\\\n",
    "  r^{ABC}_3 &= 1 - r_1 - r_2.\n",
    "\\end{align*}\n",
    "$$\n",
    "\n",
    "If $r^{ABC}_1 \\in [0,1]$, $r^{ABC}_2 \\in [0,1]$, and $r^{ABC}_3 \\in [0,1]$, then the point is inside the triangle.\n",
    "\n",
    "We always have $y = r^{ABC}_1 A + r^{ABC}_2 B + r^{ABC}_3 C$.\n",
    "\n",
    "**Building block II**\n",
    "\n",
    "Define the following points:\n",
    "\n",
    "$$\n",
    "\\begin{align*}\n",
    "A&=\\arg\\min_{(x_{1},x_{2})\\in\\mathcal{X}}\\sqrt{\\left(x_{1}-y_{1}\\right)^{2}+\\left(x_{2}-y_{2}\\right)^{2}}\\text{ s.t. }x_{1}>y_{1}\\text{ and }x_{2}>y_{2}\\\\\n",
    "B&=\\arg\\min_{(x_{1},x_{2})\\in\\mathcal{X}}\\sqrt{\\left(x_{1}-y_{1}\\right)^{2}+\\left(x_{2}-y_{2}\\right)^{2}}\\text{ s.t. }x_{1}>y_{1}\\text{ and }x_{2}<y_{2}\\\\\n",
    "C&=\\arg\\min_{(x_{1},x_{2})\\in\\mathcal{X}}\\sqrt{\\left(x_{1}-y_{1}\\right)^{2}+\\left(x_{2}-y_{2}\\right)^{2}}\\text{ s.t. }x_{1}<y_{1}\\text{ and }x_{2}<y_{2}\\\\\n",
    "D&=\\arg\\min_{(x_{1},x_{2})\\in\\mathcal{X}}\\sqrt{\\left(x_{1}-y_{1}\\right)^{2}+\\left(x_{2}-y_{2}\\right)^{2}}\\text{ s.t. }x_{1}<y_{1}\\text{ and }x_{2}>y_{2}.\n",
    "\\end{align*}\n",
    "$$\n",
    "\n",
    "**Algorithm:**\n",
    "\n",
    "1. Compute $A$, $B$, $C$, and $D$. If not possible return `NaN`.\n",
    "1. If $y$ is inside the triangle $ABC$ return $r^{ABC}_1 f(A) + r^{ABC}_2 f(B) + r^{ABC}_3 f(C)$.\n",
    "1. If $y$ is inside the triangle $CDA$ return $r^{CDA}_1 f(C) + r^{CDA}_2 f(D) + r^{CDA}_3 f(A)$.\n",
    "1. Return `NaN`.\n",
    "\n"
   ]
  },
  {
   "cell_type": "markdown",
   "metadata": {},
   "source": [
    "**Sample:**"
   ]
  },
  {
   "cell_type": "code",
   "execution_count": null,
   "metadata": {},
   "outputs": [],
   "source": [
    "rng = np.random.default_rng(2024)\n",
    "\n",
    "X = rng.uniform(size=(50,2))\n",
    "y = rng.uniform(size=(2,))\n"
   ]
  },
  {
   "cell_type": "markdown",
   "metadata": {},
   "source": [
    "**Questions 1:** Find $A$, $B$, $C$ and $D$. Illustrate these together with $X$, $y$ and the triangles $ABC$ and $CDA$."
   ]
  },
  {
   "cell_type": "code",
   "execution_count": null,
   "metadata": {},
   "outputs": [],
   "source": [
    "## Problem 3: Barycentric Interpolation\n",
    "\n",
    "# Import the class\n",
    "from examproject import BarycentricInterpolation\n",
    "\n",
    "# Create an instance of the class\n",
    "barycentric = BarycentricInterpolation()\n",
    "\n",
    "## Question 1 \n",
    "\n",
    "# Generate random points X in the unit square\n",
    "rng = np.random.default_rng(2024)\n",
    "X = rng.uniform(size=(50, 2))\n",
    "\n",
    "# Generate a random point y\n",
    "y = rng.uniform(size=(2,))\n",
    "\n",
    "# Find A, B, C, and D\n",
    "A, B, C, D = barycentric.closest_points_in_quadrants(X, y)\n",
    "\n",
    "# Plot the points and triangles\n",
    "barycentric.plot_points_and_triangles(X, y, A, B, C, D)"
   ]
  },
  {
   "cell_type": "markdown",
   "metadata": {},
   "source": [
    "Based on the assignment equations and the samples given, we have computed the four points and plotted them as triangles with the point y and X. From looking at the plot, y is clearly within the area of the computed points, however it is not completely clear if it lies on the line between the triangles, or within the lower one. This is computed in question 2. "
   ]
  },
  {
   "cell_type": "markdown",
   "metadata": {},
   "source": [
    "**Question 2:** Compute the barycentric coordinates of the point $y$ with respect to the triangles $ABC$ and $CDA$. Which triangle is $y$ located inside?"
   ]
  },
  {
   "cell_type": "code",
   "execution_count": null,
   "metadata": {},
   "outputs": [],
   "source": [
    "## Question 2\n",
    "# Compute barycentric coordinates and check triangles\n",
    "results = barycentric.compute_barycentric_and_check(y, A, B, C, D)\n",
    "\n",
    "# Print the results\n",
    "print(\"Barycentric coordinates with respect to ABC:\", results[\"barycentric_ABC\"])\n",
    "print(\"Barycentric coordinates with respect to CDA:\", results[\"barycentric_CDA\"])\n",
    "print(\"Is y inside triangle ABC?\", results[\"inside_ABC\"])\n",
    "print(\"Is y inside triangle CDA?\", results[\"inside_CDA\"])"
   ]
  },
  {
   "cell_type": "markdown",
   "metadata": {},
   "source": [
    "Now, from computing the barycentric coordinates wrt. the two triangles, we see that y lies within the ABC triangle. "
   ]
  },
  {
   "cell_type": "markdown",
   "metadata": {},
   "source": [
    "Now consider the function:\n",
    "$$\n",
    "f(x_1,x_2) = x_1 \\cdot x_2\n",
    "$$"
   ]
  },
  {
   "cell_type": "code",
   "execution_count": null,
   "metadata": {},
   "outputs": [],
   "source": [
    "f = lambda x: x[0]*x[1]\n",
    "F = np.array([f(x) for x in X])"
   ]
  },
  {
   "cell_type": "markdown",
   "metadata": {},
   "source": [
    "**Question 3:** Compute the approximation of $f(y)$ using the full algorithm. Compare with the true value."
   ]
  },
  {
   "cell_type": "code",
   "execution_count": null,
   "metadata": {},
   "outputs": [],
   "source": [
    "## Question 3\n",
    "# Compute and compare function values\n",
    "results_compare = barycentric.compute_and_compare(y, X)\n",
    "\n",
    "# Print the results of the function comparison\n",
    "print(\"Approximated f(y):\", results_compare[\"approximated_f_y\"])\n",
    "print(\"True f(y):\", results_compare[\"true_f_y\"])"
   ]
  },
  {
   "cell_type": "markdown",
   "metadata": {},
   "source": [
    "From approximating the value of f(y), we see that using interpolation we arrive relatively close to the true value - a difference of cirka 0.0051. "
   ]
  },
  {
   "cell_type": "markdown",
   "metadata": {},
   "source": [
    "**Question 4:** Repeat question 3 for all points in the set $Y$."
   ]
  },
  {
   "cell_type": "code",
   "execution_count": null,
   "metadata": {},
   "outputs": [],
   "source": [
    "Y = [(0.2,0.2),(0.8,0.2),(0.8,0.8),(0.8,0.2),(0.5,0.5)]"
   ]
  },
  {
   "cell_type": "code",
   "execution_count": null,
   "metadata": {},
   "outputs": [],
   "source": [
    "## Question 4\n",
    "\n",
    "# Compute and compare function values for all points in Y\n",
    "results_multiple = barycentric.compute_and_compare_multiple_Y(X)\n",
    "\n",
    "# Print the results\n",
    "print(\"Approximated and true function values for all points in Y:\")\n",
    "for result in results_multiple:\n",
    "    print(f\"Point {result['point']}: Approximated f(y) = {result['approximated_f_y']}, True f(y) = {result['true_f_y']}\")\n"
   ]
  },
  {
   "cell_type": "markdown",
   "metadata": {},
   "source": [
    "Now, when computing the approximated values of the function for all values of Y, all but one point is approximately close to the true value. \n",
    "\n",
    "For the point (0.8, 0.8) we see that interpolating returns NaN. This implies that the points are not found correctly, why we compute the closest points for this value of y below. "
   ]
  },
  {
   "cell_type": "code",
   "execution_count": null,
   "metadata": {},
   "outputs": [],
   "source": [
    "# Now, compute closest points for (0.8, 0.8)\n",
    "y_specific = (0.8, 0.8)\n",
    "A, B, C, D = barycentric.closest_points_in_quadrants(X, y_specific)\n",
    "print(f\"\\nClosest points to {y_specific}:\")\n",
    "print(f\"A={A}\")\n",
    "print(f\"B={B}\")\n",
    "print(f\"C={C}\")\n",
    "print(f\"D={D}\")"
   ]
  },
  {
   "cell_type": "markdown",
   "metadata": {},
   "source": [
    "We see that it returns NaN for the point A for (0.8, 0.8). We expect the explanation to be, if there are no points in X that satisfy the condition for quadrant A.\n",
    "\n",
    "To get a visual look of this, we plot the point y=(0.8, 0.8) and the points (except A which is NaN). "
   ]
  },
  {
   "cell_type": "code",
   "execution_count": null,
   "metadata": {},
   "outputs": [],
   "source": [
    "barycentric.plot_y_specific(X, y_specific, A, B, C, D)"
   ]
  },
  {
   "cell_type": "markdown",
   "metadata": {},
   "source": [
    "From the plot we see that there isn't a point in the top-right quadrant from y=(0.8, 0.8), which is why A returns as NaN. This implies that y won't be inside either triangle, such that interpolation won't work."
   ]
  }
 ],
 "metadata": {
  "kernelspec": {
   "display_name": "base",
   "language": "python",
   "name": "python3"
  },
  "language_info": {
   "codemirror_mode": {
    "name": "ipython",
    "version": 3
   },
   "file_extension": ".py",
   "mimetype": "text/x-python",
   "name": "python",
   "nbconvert_exporter": "python",
   "pygments_lexer": "ipython3",
   "version": "3.11.8"
  }
 },
 "nbformat": 4,
 "nbformat_minor": 2
}
