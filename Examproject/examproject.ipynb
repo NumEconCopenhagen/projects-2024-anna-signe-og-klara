{
 "cells": [
  {
   "cell_type": "markdown",
   "metadata": {},
   "source": [
    "**Table of contents**<a id='toc0_'></a>    \n",
    "- 1. [Problem 1: Production economy and CO2 taxation](#toc1_)    \n",
    "- 2. [Problem 2: Career choice model](#toc2_)    \n",
    "- 3. [Problem 3: Barycentric interpolation](#toc3_)    \n",
    "\n",
    "<!-- vscode-jupyter-toc-config\n",
    "\tnumbering=true\n",
    "\tanchor=true\n",
    "\tflat=false\n",
    "\tminLevel=2\n",
    "\tmaxLevel=6\n",
    "\t/vscode-jupyter-toc-config -->\n",
    "<!-- THIS CELL WILL BE REPLACED ON TOC UPDATE. DO NOT WRITE YOUR TEXT IN THIS CELL -->"
   ]
  },
  {
   "cell_type": "code",
   "execution_count": 2,
   "metadata": {},
   "outputs": [],
   "source": [
    "# Write your code here\n",
    "import numpy as np\n",
    "from types import SimpleNamespace\n",
    "import matplotlib.pyplot as plt\n",
    "from scipy import optimize\n",
    "from scipy.optimize import minimize\n",
    "\n",
    "# autoreload modules when code is run. Otherwise, python will not see recent changes. \n",
    "%load_ext autoreload\n",
    "%autoreload 2\n",
    "\n",
    "# We import our project from the py-file\n",
    "from examproject import ProductionEconomyClass\n",
    "\n",
    "# We import our class\n",
    "economy = ProductionEconomyClass()"
   ]
  },
  {
   "cell_type": "markdown",
   "metadata": {},
   "source": [
    "## 1. <a id='toc1_'></a>[Problem 1: Production economy and CO2 taxation](#toc0_)"
   ]
  },
  {
   "cell_type": "markdown",
   "metadata": {},
   "source": [
    "Consider a production economy with two firms indexed by $j \\in \\{1,2\\}$. Each produce its own good. They solve\n",
    "\n",
    "$$\n",
    "\\begin{align*}\n",
    "\\max_{y_{j}}\\pi_{j}&=p_{j}y_{j}-w_{j}\\ell_{j}\\\\\\text{s.t.}\\;&y_{j}=A\\ell_{j}^{\\gamma}.\n",
    "\\end{align*}\n",
    "$$\n",
    "\n",
    "Optimal firm behavior is\n",
    "\n",
    "$$\n",
    "\\begin{align*}\n",
    "\\ell_{j}^{\\star}(w,p_{j})&=\\left(\\frac{p_{j}A\\gamma}{w}\\right)^{\\frac{1}{1-\\gamma}} \\\\\n",
    "y_{j}^{\\star}(w,p_{j})&=A\\left(\\ell_{j}^{\\star}(w,p_{j})\\right)^{\\gamma}\n",
    "\\end{align*}\n",
    "$$\n",
    "\n",
    "The implied profits are\n",
    "\n",
    "$$\n",
    "\\pi_{j}^*(w,p_{j})=\\frac{1-\\gamma}{\\gamma}w\\cdot\\left(\\frac{p_{j}A\\gamma}{w}\\right)^{\\frac{1}{1-\\gamma}}\n",
    "$$\n",
    "\n",
    "A single consumer supplies labor, and consumes the goods the firms produce. She also recieves the implied profits of the firm.<br>\n",
    "She solves:\n",
    "\n",
    "$$\n",
    "\\begin{align*}\n",
    "U(p_1,p_2,w,\\tau,T) = \\max_{c_{1},c_{2},\\ell} & \\log(c_{1}^{\\alpha}c_{2}^{1-\\alpha})-\\nu\\frac{\\ell^{1+\\epsilon}}{1+\\epsilon} \\\\\n",
    "\\text{s.t.}\\,\\,\\,&p_{1}c_{1}+(p_{2}+\\tau)c_{2}=w\\ell+T+\\pi_{1}^*(w,p_{1})+\\pi_{2}^*(w,p_{2})\n",
    "\\end{align*}\n",
    "$$\n",
    "\n",
    "where $\\tau$ is a tax and $T$ is lump-sum transfer. <br>\n",
    "For a given $\\ell$, it can be shown that optimal behavior is\n",
    "\n",
    "$$\n",
    "\\begin{align*}\n",
    "c_{1}(\\ell)&=\\alpha\\frac{w\\ell+T+\\pi_{1}^*(w,p_{1})+\\pi_{2}^*(w,p_{2})}{p_{1}} \\\\\n",
    "c_{2}(\\ell)&=(1-\\alpha)\\frac{w\\ell+T+\\pi_{1}^*(w,p_{1})+\\pi_{2}^*(w,p_{2})}{p_{2}+\\tau} \\\\\n",
    "\\end{align*}\n",
    "$$\n",
    "Such that optimal behavior is:\n",
    "$$\n",
    "\\ell^* = \\underset{\\ell}{\\arg\\max} \\log(\\left(c_{1}(\\ell)\\right)^{\\alpha}\\cdot \\left(c_{2}(\\ell)\\right)^{1-\\alpha})-\\nu\\frac{\\ell^{1+\\epsilon}}{1+\\epsilon} \n",
    "$$\n",
    "With optimal consumption:\n",
    "$$\n",
    "\\begin{align*}\n",
    "c_1^*=c_{1}(\\ell^*) \\\\\n",
    "c_2^*=c_{2}(\\ell^*)\\\\\n",
    "\\end{align*}\n",
    "$$\n",
    "\n",
    "\n",
    "The government chooses $\\tau$ and balances its budget so $T=\\tau c_2^*$. We initially set $\\tau,T=0$.\n",
    "\n",
    "Market clearing requires:\n",
    "\n",
    "1. Labor market: $\\ell^* = \\ell_1^* + \\ell_2^*$\n",
    "1. Good market 1: $c_1^* = y_1^*$\n",
    "1. Good market 2: $c_2^* = y_2^*$\n"
   ]
  },
  {
   "cell_type": "markdown",
   "metadata": {},
   "source": [
    "**Question 1:** Check market clearing conditions for $p_1$ in `linspace(0.1,2.0,10)` and $p_2$ in `linspace(0.1,2.0,10)`. We choose $w=1$ as numeraire."
   ]
  },
  {
   "cell_type": "code",
   "execution_count": 3,
   "metadata": {},
   "outputs": [
    {
     "name": "stdout",
     "output_type": "stream",
     "text": [
      "p1 = 0.1, p2 = 0.1\n",
      "Labor Market Clearing: False\n",
      "Good 1 Market Clearing: False\n",
      "Good 2 Market Clearing: False\n",
      "------------------------------\n",
      "p1 = 0.1, p2 = 0.3\n",
      "Labor Market Clearing: False\n",
      "Good 1 Market Clearing: False\n",
      "Good 2 Market Clearing: False\n",
      "------------------------------\n",
      "p1 = 0.1, p2 = 0.5\n",
      "Labor Market Clearing: False\n",
      "Good 1 Market Clearing: False\n",
      "Good 2 Market Clearing: False\n",
      "------------------------------\n",
      "p1 = 0.1, p2 = 0.7\n",
      "Labor Market Clearing: False\n",
      "Good 1 Market Clearing: False\n",
      "Good 2 Market Clearing: False\n",
      "------------------------------\n",
      "p1 = 0.1, p2 = 0.9\n",
      "Labor Market Clearing: False\n",
      "Good 1 Market Clearing: False\n",
      "Good 2 Market Clearing: False\n",
      "------------------------------\n",
      "p1 = 0.1, p2 = 1.2\n",
      "Labor Market Clearing: False\n",
      "Good 1 Market Clearing: False\n",
      "Good 2 Market Clearing: False\n",
      "------------------------------\n",
      "p1 = 0.1, p2 = 1.4\n",
      "Labor Market Clearing: False\n",
      "Good 1 Market Clearing: False\n",
      "Good 2 Market Clearing: False\n",
      "------------------------------\n",
      "p1 = 0.1, p2 = 1.6\n",
      "Labor Market Clearing: False\n",
      "Good 1 Market Clearing: False\n",
      "Good 2 Market Clearing: False\n",
      "------------------------------\n",
      "p1 = 0.1, p2 = 1.8\n",
      "Labor Market Clearing: False\n",
      "Good 1 Market Clearing: False\n",
      "Good 2 Market Clearing: False\n",
      "------------------------------\n",
      "p1 = 0.1, p2 = 2.0\n",
      "Labor Market Clearing: False\n",
      "Good 1 Market Clearing: False\n",
      "Good 2 Market Clearing: False\n",
      "------------------------------\n",
      "p1 = 0.3, p2 = 0.1\n",
      "Labor Market Clearing: False\n",
      "Good 1 Market Clearing: False\n",
      "Good 2 Market Clearing: False\n",
      "------------------------------\n",
      "p1 = 0.3, p2 = 0.3\n",
      "Labor Market Clearing: False\n",
      "Good 1 Market Clearing: False\n",
      "Good 2 Market Clearing: False\n",
      "------------------------------\n",
      "p1 = 0.3, p2 = 0.5\n",
      "Labor Market Clearing: False\n",
      "Good 1 Market Clearing: False\n",
      "Good 2 Market Clearing: False\n",
      "------------------------------\n",
      "p1 = 0.3, p2 = 0.7\n",
      "Labor Market Clearing: False\n",
      "Good 1 Market Clearing: False\n",
      "Good 2 Market Clearing: False\n",
      "------------------------------\n",
      "p1 = 0.3, p2 = 0.9\n",
      "Labor Market Clearing: False\n",
      "Good 1 Market Clearing: False\n",
      "Good 2 Market Clearing: False\n",
      "------------------------------\n",
      "p1 = 0.3, p2 = 1.2\n",
      "Labor Market Clearing: False\n",
      "Good 1 Market Clearing: False\n",
      "Good 2 Market Clearing: False\n",
      "------------------------------\n",
      "p1 = 0.3, p2 = 1.4\n",
      "Labor Market Clearing: False\n",
      "Good 1 Market Clearing: False\n",
      "Good 2 Market Clearing: False\n",
      "------------------------------\n",
      "p1 = 0.3, p2 = 1.6\n",
      "Labor Market Clearing: False\n",
      "Good 1 Market Clearing: False\n",
      "Good 2 Market Clearing: False\n",
      "------------------------------\n",
      "p1 = 0.3, p2 = 1.8\n",
      "Labor Market Clearing: False\n",
      "Good 1 Market Clearing: False\n",
      "Good 2 Market Clearing: False\n",
      "------------------------------\n",
      "p1 = 0.3, p2 = 2.0\n",
      "Labor Market Clearing: False\n",
      "Good 1 Market Clearing: False\n",
      "Good 2 Market Clearing: False\n",
      "------------------------------\n",
      "p1 = 0.5, p2 = 0.1\n",
      "Labor Market Clearing: False\n",
      "Good 1 Market Clearing: False\n",
      "Good 2 Market Clearing: False\n",
      "------------------------------\n",
      "p1 = 0.5, p2 = 0.3\n",
      "Labor Market Clearing: False\n",
      "Good 1 Market Clearing: False\n",
      "Good 2 Market Clearing: False\n",
      "------------------------------\n",
      "p1 = 0.5, p2 = 0.5\n",
      "Labor Market Clearing: False\n",
      "Good 1 Market Clearing: False\n",
      "Good 2 Market Clearing: False\n",
      "------------------------------\n",
      "p1 = 0.5, p2 = 0.7\n",
      "Labor Market Clearing: False\n",
      "Good 1 Market Clearing: False\n",
      "Good 2 Market Clearing: False\n",
      "------------------------------\n",
      "p1 = 0.5, p2 = 0.9\n",
      "Labor Market Clearing: False\n",
      "Good 1 Market Clearing: False\n",
      "Good 2 Market Clearing: False\n",
      "------------------------------\n",
      "p1 = 0.5, p2 = 1.2\n",
      "Labor Market Clearing: False\n",
      "Good 1 Market Clearing: False\n",
      "Good 2 Market Clearing: False\n",
      "------------------------------\n",
      "p1 = 0.5, p2 = 1.4\n",
      "Labor Market Clearing: False\n",
      "Good 1 Market Clearing: False\n",
      "Good 2 Market Clearing: False\n",
      "------------------------------\n",
      "p1 = 0.5, p2 = 1.6\n",
      "Labor Market Clearing: False\n",
      "Good 1 Market Clearing: False\n",
      "Good 2 Market Clearing: False\n",
      "------------------------------\n",
      "p1 = 0.5, p2 = 1.8\n",
      "Labor Market Clearing: False\n",
      "Good 1 Market Clearing: False\n",
      "Good 2 Market Clearing: False\n",
      "------------------------------\n",
      "p1 = 0.5, p2 = 2.0\n",
      "Labor Market Clearing: False\n",
      "Good 1 Market Clearing: False\n",
      "Good 2 Market Clearing: False\n",
      "------------------------------\n",
      "p1 = 0.7, p2 = 0.1\n",
      "Labor Market Clearing: False\n",
      "Good 1 Market Clearing: False\n",
      "Good 2 Market Clearing: False\n",
      "------------------------------\n",
      "p1 = 0.7, p2 = 0.3\n",
      "Labor Market Clearing: False\n",
      "Good 1 Market Clearing: False\n",
      "Good 2 Market Clearing: False\n",
      "------------------------------\n",
      "p1 = 0.7, p2 = 0.5\n",
      "Labor Market Clearing: False\n",
      "Good 1 Market Clearing: False\n",
      "Good 2 Market Clearing: False\n",
      "------------------------------\n",
      "p1 = 0.7, p2 = 0.7\n",
      "Labor Market Clearing: False\n",
      "Good 1 Market Clearing: False\n",
      "Good 2 Market Clearing: False\n",
      "------------------------------\n",
      "p1 = 0.7, p2 = 0.9\n",
      "Labor Market Clearing: False\n",
      "Good 1 Market Clearing: False\n",
      "Good 2 Market Clearing: False\n",
      "------------------------------\n",
      "p1 = 0.7, p2 = 1.2\n",
      "Labor Market Clearing: False\n",
      "Good 1 Market Clearing: False\n",
      "Good 2 Market Clearing: False\n",
      "------------------------------\n",
      "p1 = 0.7, p2 = 1.4\n",
      "Labor Market Clearing: False\n",
      "Good 1 Market Clearing: False\n",
      "Good 2 Market Clearing: False\n",
      "------------------------------\n",
      "p1 = 0.7, p2 = 1.6\n",
      "Labor Market Clearing: False\n",
      "Good 1 Market Clearing: False\n",
      "Good 2 Market Clearing: False\n",
      "------------------------------\n",
      "p1 = 0.7, p2 = 1.8\n",
      "Labor Market Clearing: False\n",
      "Good 1 Market Clearing: False\n",
      "Good 2 Market Clearing: False\n",
      "------------------------------\n",
      "p1 = 0.7, p2 = 2.0\n",
      "Labor Market Clearing: False\n",
      "Good 1 Market Clearing: False\n",
      "Good 2 Market Clearing: False\n",
      "------------------------------\n",
      "p1 = 0.9, p2 = 0.1\n",
      "Labor Market Clearing: False\n",
      "Good 1 Market Clearing: False\n",
      "Good 2 Market Clearing: False\n",
      "------------------------------\n",
      "p1 = 0.9, p2 = 0.3\n",
      "Labor Market Clearing: False\n",
      "Good 1 Market Clearing: False\n",
      "Good 2 Market Clearing: False\n",
      "------------------------------\n",
      "p1 = 0.9, p2 = 0.5\n",
      "Labor Market Clearing: False\n",
      "Good 1 Market Clearing: False\n",
      "Good 2 Market Clearing: False\n",
      "------------------------------\n",
      "p1 = 0.9, p2 = 0.7\n",
      "Labor Market Clearing: False\n",
      "Good 1 Market Clearing: False\n",
      "Good 2 Market Clearing: False\n",
      "------------------------------\n",
      "p1 = 0.9, p2 = 0.9\n",
      "Labor Market Clearing: False\n",
      "Good 1 Market Clearing: False\n",
      "Good 2 Market Clearing: False\n",
      "------------------------------\n",
      "p1 = 0.9, p2 = 1.2\n",
      "Labor Market Clearing: False\n",
      "Good 1 Market Clearing: False\n",
      "Good 2 Market Clearing: False\n",
      "------------------------------\n",
      "p1 = 0.9, p2 = 1.4\n",
      "Labor Market Clearing: False\n",
      "Good 1 Market Clearing: False\n",
      "Good 2 Market Clearing: False\n",
      "------------------------------\n",
      "p1 = 0.9, p2 = 1.6\n",
      "Labor Market Clearing: False\n",
      "Good 1 Market Clearing: False\n",
      "Good 2 Market Clearing: False\n",
      "------------------------------\n",
      "p1 = 0.9, p2 = 1.8\n",
      "Labor Market Clearing: False\n",
      "Good 1 Market Clearing: False\n",
      "Good 2 Market Clearing: False\n",
      "------------------------------\n",
      "p1 = 0.9, p2 = 2.0\n",
      "Labor Market Clearing: False\n",
      "Good 1 Market Clearing: False\n",
      "Good 2 Market Clearing: False\n",
      "------------------------------\n",
      "p1 = 1.2, p2 = 0.1\n",
      "Labor Market Clearing: False\n",
      "Good 1 Market Clearing: False\n",
      "Good 2 Market Clearing: False\n",
      "------------------------------\n",
      "p1 = 1.2, p2 = 0.3\n",
      "Labor Market Clearing: False\n",
      "Good 1 Market Clearing: False\n",
      "Good 2 Market Clearing: False\n",
      "------------------------------\n",
      "p1 = 1.2, p2 = 0.5\n",
      "Labor Market Clearing: False\n",
      "Good 1 Market Clearing: False\n",
      "Good 2 Market Clearing: False\n",
      "------------------------------\n",
      "p1 = 1.2, p2 = 0.7\n",
      "Labor Market Clearing: False\n",
      "Good 1 Market Clearing: False\n",
      "Good 2 Market Clearing: False\n",
      "------------------------------\n",
      "p1 = 1.2, p2 = 0.9\n",
      "Labor Market Clearing: False\n",
      "Good 1 Market Clearing: False\n",
      "Good 2 Market Clearing: False\n",
      "------------------------------\n",
      "p1 = 1.2, p2 = 1.2\n",
      "Labor Market Clearing: False\n",
      "Good 1 Market Clearing: False\n",
      "Good 2 Market Clearing: False\n",
      "------------------------------\n",
      "p1 = 1.2, p2 = 1.4\n",
      "Labor Market Clearing: False\n",
      "Good 1 Market Clearing: False\n",
      "Good 2 Market Clearing: False\n",
      "------------------------------\n",
      "p1 = 1.2, p2 = 1.6\n",
      "Labor Market Clearing: False\n",
      "Good 1 Market Clearing: False\n",
      "Good 2 Market Clearing: False\n",
      "------------------------------\n",
      "p1 = 1.2, p2 = 1.8\n",
      "Labor Market Clearing: False\n",
      "Good 1 Market Clearing: False\n",
      "Good 2 Market Clearing: False\n",
      "------------------------------\n",
      "p1 = 1.2, p2 = 2.0\n",
      "Labor Market Clearing: False\n",
      "Good 1 Market Clearing: False\n",
      "Good 2 Market Clearing: False\n",
      "------------------------------\n",
      "p1 = 1.4, p2 = 0.1\n",
      "Labor Market Clearing: False\n",
      "Good 1 Market Clearing: False\n",
      "Good 2 Market Clearing: False\n",
      "------------------------------\n",
      "p1 = 1.4, p2 = 0.3\n",
      "Labor Market Clearing: False\n",
      "Good 1 Market Clearing: False\n",
      "Good 2 Market Clearing: False\n",
      "------------------------------\n",
      "p1 = 1.4, p2 = 0.5\n",
      "Labor Market Clearing: False\n",
      "Good 1 Market Clearing: False\n",
      "Good 2 Market Clearing: False\n",
      "------------------------------\n",
      "p1 = 1.4, p2 = 0.7\n",
      "Labor Market Clearing: False\n",
      "Good 1 Market Clearing: False\n",
      "Good 2 Market Clearing: False\n",
      "------------------------------\n",
      "p1 = 1.4, p2 = 0.9\n",
      "Labor Market Clearing: False\n",
      "Good 1 Market Clearing: False\n",
      "Good 2 Market Clearing: False\n",
      "------------------------------\n",
      "p1 = 1.4, p2 = 1.2\n",
      "Labor Market Clearing: False\n",
      "Good 1 Market Clearing: False\n",
      "Good 2 Market Clearing: False\n",
      "------------------------------\n",
      "p1 = 1.4, p2 = 1.4\n",
      "Labor Market Clearing: False\n",
      "Good 1 Market Clearing: False\n",
      "Good 2 Market Clearing: False\n",
      "------------------------------\n",
      "p1 = 1.4, p2 = 1.6\n",
      "Labor Market Clearing: False\n",
      "Good 1 Market Clearing: False\n",
      "Good 2 Market Clearing: False\n",
      "------------------------------\n",
      "p1 = 1.4, p2 = 1.8\n",
      "Labor Market Clearing: False\n",
      "Good 1 Market Clearing: False\n",
      "Good 2 Market Clearing: False\n",
      "------------------------------\n",
      "p1 = 1.4, p2 = 2.0\n",
      "Labor Market Clearing: False\n",
      "Good 1 Market Clearing: False\n",
      "Good 2 Market Clearing: False\n",
      "------------------------------\n",
      "p1 = 1.6, p2 = 0.1\n",
      "Labor Market Clearing: False\n",
      "Good 1 Market Clearing: False\n",
      "Good 2 Market Clearing: False\n",
      "------------------------------\n",
      "p1 = 1.6, p2 = 0.3\n",
      "Labor Market Clearing: False\n",
      "Good 1 Market Clearing: False\n",
      "Good 2 Market Clearing: False\n",
      "------------------------------\n",
      "p1 = 1.6, p2 = 0.5\n",
      "Labor Market Clearing: False\n",
      "Good 1 Market Clearing: False\n",
      "Good 2 Market Clearing: False\n",
      "------------------------------\n",
      "p1 = 1.6, p2 = 0.7\n",
      "Labor Market Clearing: False\n",
      "Good 1 Market Clearing: False\n",
      "Good 2 Market Clearing: False\n",
      "------------------------------\n",
      "p1 = 1.6, p2 = 0.9\n",
      "Labor Market Clearing: False\n",
      "Good 1 Market Clearing: False\n",
      "Good 2 Market Clearing: False\n",
      "------------------------------\n",
      "p1 = 1.6, p2 = 1.2\n",
      "Labor Market Clearing: False\n",
      "Good 1 Market Clearing: False\n",
      "Good 2 Market Clearing: False\n",
      "------------------------------\n",
      "p1 = 1.6, p2 = 1.4\n",
      "Labor Market Clearing: False\n",
      "Good 1 Market Clearing: False\n",
      "Good 2 Market Clearing: False\n",
      "------------------------------\n",
      "p1 = 1.6, p2 = 1.6\n",
      "Labor Market Clearing: False\n",
      "Good 1 Market Clearing: False\n",
      "Good 2 Market Clearing: False\n",
      "------------------------------\n",
      "p1 = 1.6, p2 = 1.8\n",
      "Labor Market Clearing: False\n",
      "Good 1 Market Clearing: False\n",
      "Good 2 Market Clearing: False\n",
      "------------------------------\n",
      "p1 = 1.6, p2 = 2.0\n",
      "Labor Market Clearing: False\n",
      "Good 1 Market Clearing: False\n",
      "Good 2 Market Clearing: False\n",
      "------------------------------\n",
      "p1 = 1.8, p2 = 0.1\n",
      "Labor Market Clearing: False\n",
      "Good 1 Market Clearing: False\n",
      "Good 2 Market Clearing: False\n",
      "------------------------------\n",
      "p1 = 1.8, p2 = 0.3\n",
      "Labor Market Clearing: False\n",
      "Good 1 Market Clearing: False\n",
      "Good 2 Market Clearing: False\n",
      "------------------------------\n",
      "p1 = 1.8, p2 = 0.5\n",
      "Labor Market Clearing: False\n",
      "Good 1 Market Clearing: False\n",
      "Good 2 Market Clearing: False\n",
      "------------------------------\n",
      "p1 = 1.8, p2 = 0.7\n",
      "Labor Market Clearing: False\n",
      "Good 1 Market Clearing: False\n",
      "Good 2 Market Clearing: False\n",
      "------------------------------\n",
      "p1 = 1.8, p2 = 0.9\n",
      "Labor Market Clearing: False\n",
      "Good 1 Market Clearing: False\n",
      "Good 2 Market Clearing: False\n",
      "------------------------------\n",
      "p1 = 1.8, p2 = 1.2\n",
      "Labor Market Clearing: False\n",
      "Good 1 Market Clearing: False\n",
      "Good 2 Market Clearing: False\n",
      "------------------------------\n",
      "p1 = 1.8, p2 = 1.4\n",
      "Labor Market Clearing: False\n",
      "Good 1 Market Clearing: False\n",
      "Good 2 Market Clearing: False\n",
      "------------------------------\n",
      "p1 = 1.8, p2 = 1.6\n",
      "Labor Market Clearing: False\n",
      "Good 1 Market Clearing: False\n",
      "Good 2 Market Clearing: False\n",
      "------------------------------\n",
      "p1 = 1.8, p2 = 1.8\n",
      "Labor Market Clearing: False\n",
      "Good 1 Market Clearing: False\n",
      "Good 2 Market Clearing: False\n",
      "------------------------------\n",
      "p1 = 1.8, p2 = 2.0\n",
      "Labor Market Clearing: False\n",
      "Good 1 Market Clearing: False\n",
      "Good 2 Market Clearing: False\n",
      "------------------------------\n",
      "p1 = 2.0, p2 = 0.1\n",
      "Labor Market Clearing: False\n",
      "Good 1 Market Clearing: False\n",
      "Good 2 Market Clearing: False\n",
      "------------------------------\n",
      "p1 = 2.0, p2 = 0.3\n",
      "Labor Market Clearing: False\n",
      "Good 1 Market Clearing: False\n",
      "Good 2 Market Clearing: False\n",
      "------------------------------\n",
      "p1 = 2.0, p2 = 0.5\n",
      "Labor Market Clearing: False\n",
      "Good 1 Market Clearing: False\n",
      "Good 2 Market Clearing: False\n",
      "------------------------------\n",
      "p1 = 2.0, p2 = 0.7\n",
      "Labor Market Clearing: False\n",
      "Good 1 Market Clearing: False\n",
      "Good 2 Market Clearing: False\n",
      "------------------------------\n",
      "p1 = 2.0, p2 = 0.9\n",
      "Labor Market Clearing: False\n",
      "Good 1 Market Clearing: False\n",
      "Good 2 Market Clearing: False\n",
      "------------------------------\n",
      "p1 = 2.0, p2 = 1.2\n",
      "Labor Market Clearing: False\n",
      "Good 1 Market Clearing: False\n",
      "Good 2 Market Clearing: False\n",
      "------------------------------\n",
      "p1 = 2.0, p2 = 1.4\n",
      "Labor Market Clearing: False\n",
      "Good 1 Market Clearing: False\n",
      "Good 2 Market Clearing: False\n",
      "------------------------------\n",
      "p1 = 2.0, p2 = 1.6\n",
      "Labor Market Clearing: False\n",
      "Good 1 Market Clearing: False\n",
      "Good 2 Market Clearing: False\n",
      "------------------------------\n",
      "p1 = 2.0, p2 = 1.8\n",
      "Labor Market Clearing: False\n",
      "Good 1 Market Clearing: False\n",
      "Good 2 Market Clearing: False\n",
      "------------------------------\n",
      "p1 = 2.0, p2 = 2.0\n",
      "Labor Market Clearing: False\n",
      "Good 1 Market Clearing: False\n",
      "Good 2 Market Clearing: False\n",
      "------------------------------\n"
     ]
    }
   ],
   "source": [
    "# Question 1\n",
    "economy.check_market_clearing()"
   ]
  },
  {
   "cell_type": "markdown",
   "metadata": {},
   "source": [
    "**Answer:**\n",
    "\n",
    "In the py.file we have started by initializing the class, hereby defining parameters, initialized placerholders for the prices and set the wage as numerarie. Following we have defined the optimal labor and production-function, defined the function for profit and utility as given above.\n",
    "\n",
    "Above we see the check for market clearing, implying that supply meets demand for a set og prices in the defined range. We loop/iterate over possible combinations of prices for p1 and p2 within the range, where the optimal labor and production is calculated from these prices. The method we choose then check for market clearing in terms of labor and production, hereby meeting the conditions for market clearing as asked in the question. In our setup we check for market clearing at all three markets, labor and good 1 and 2, though we could have used Walras Law. Walras Law for market clearing implies, that if n-1 market in a economy clears, then the last market clears aswell. \n",
    "\n",
    "\n",
    "From the result printed above, we see that for all combination itterated over in the loop, none of the three markets meets the market clearing condition. This implies, that non of the increments in the interval defined above will imply an equilibrium. Though, this does not imply that the markets cannot clear, just that the onces tested above isn't the solution. Hereby, market clearing could be obtained either by changing the increments, the intervals etc."
   ]
  },
  {
   "cell_type": "markdown",
   "metadata": {},
   "source": [
    "**Question 2:** Find the equilibrium prices $p_1$ and $p_2$.<br>\n",
    "*Hint: you can use Walras' law to only check 2 of the market clearings*"
   ]
  },
  {
   "cell_type": "code",
   "execution_count": 4,
   "metadata": {},
   "outputs": [
    {
     "name": "stdout",
     "output_type": "stream",
     "text": [
      "Equilibrium prices: p1 = 1.10, p2 = 1.67\n",
      "Consumption of c1 without tax: 0.48\n",
      "Consumption of c2 without tax: 0.73\n"
     ]
    }
   ],
   "source": [
    "# Question 2\n",
    "economy.find_equilibrium_prices()\n",
    "\n",
    "economy.consumption_without_tax()"
   ]
  },
  {
   "cell_type": "markdown",
   "metadata": {},
   "source": [
    "**Answer:**\n",
    "\n",
    "Above we find that the prices that results in market clearing conditions being met are $p1=1.10$ and $p2=1.67$. From this we see, that the prices were within the range defined above, but simply wasn't tested as they weren't the \"correct\" intercrements within the interval.\n",
    "\n",
    "From the equilibrium prices, we calculate the consumption in order to compare with the next question, when there is introduced a tax on carbon emission. \n",
    "\n",
    "We see from the Cob-Douglas utility function for the consumer, that the weight for good preference is given by $\\alpha=0.3$. This implies that there is a greater weight on consumption for good 2, which is to be seen in the consumption of the two goods, where the consumption of c2 (without tax) is way higher than the consumption of c1 (without tax). Hereby the consumers preferences from their utility functions are reflected in their consumption in equilibrium."
   ]
  },
  {
   "cell_type": "markdown",
   "metadata": {},
   "source": [
    "Assume the government care about the social welfare function:\n",
    "\n",
    "$$\n",
    "SWF = U - \\kappa y_2^*\n",
    "$$"
   ]
  },
  {
   "cell_type": "markdown",
   "metadata": {},
   "source": [
    "Here $\\kappa$ measures the social cost of carbon emitted by the production of $y_2$ in equilibrium."
   ]
  },
  {
   "cell_type": "markdown",
   "metadata": {},
   "source": [
    "**Question 3:** What values of $\\tau$ and (implied) $T$ should the government choose to maximize $SWF$?"
   ]
  },
  {
   "cell_type": "code",
   "execution_count": 5,
   "metadata": {},
   "outputs": [
    {
     "name": "stdout",
     "output_type": "stream",
     "text": [
      "Consumption of c1 with tax:   0.55\n",
      "Consumption of c2 with tax:   0.66\n",
      "Optimal tax rate:             0.47\n",
      "Optimal lumpsum transfer:     0.31\n",
      "Social welfare:              -0.64\n"
     ]
    }
   ],
   "source": [
    "# Question 3\n",
    "economy.find_optimal_tax()"
   ]
  },
  {
   "cell_type": "code",
   "execution_count": 6,
   "metadata": {},
   "outputs": [],
   "source": [
    "#economy.find_optimal_prices_and_tax()\n",
    "#economy.consumption_with_tax()"
   ]
  },
  {
   "cell_type": "markdown",
   "metadata": {},
   "source": [
    "**Answer:**\n",
    "\n",
    "In order to answer the question above, firstly, we assume that the economy is in equlibrium with the prices p1 and p2 above, yielding that the market clarings conditions are met. From this equilibrium, we shock the model by introducting two taxes, one being the tax on consumption of c2 in form of a carbon emission tax, and one being the lumpsum transfering back to the consumers.\n",
    "\n",
    "From the social welfare function, we see that there is a negative externality attached to consumption of good 2, which \n",
    "implies that the social optimal consumption of c2 is lower than in the market equilibrium, as the markets price doesn't reflect the social cost.\n",
    "\n",
    "We see above that the optimal tax rate for carbon emission $\\tau=0.18$ and the lump-sum tax is 0.67. \n",
    "We find that the maximized SWF is 0.63. \n",
    "We calculate the consumption of the two goods after the carbon emission tax is being introduced and lump-sum transfered from the government to the consumers as well. \n",
    "\n",
    "First of, we see that the tax on carbon emission only affects the demand for c2, hereby implying that there is no carbon emission from c1. In practice, c2 are effected by the carbon tax by implying a higher effective price for the good. Before the price was simply p2, though after introducing the tax - the price is effectively given by $p2+\\tau$. As $\\tau>0$ we find a increase in the price for c2. This would lead to a lower demand for c2 relative to c1, which is exactly what we find when calculating the consumption of the two goods following the demand. Hereby there is a degree of possibility for subtitution, as we see that the consumers change their consumption towards c1. If the carbon tax were to increase, we would most likely find a even greater substitution towards c1.\n",
    "\n",
    "We find that the lumpsum transfer is a direct compensation to the consumer funded by the tax revenue, as this is given by $T=\\tau\\times c2^*$. This transfer helps to redistribute income and possibly mitigate the negative effects of the tax on household consumption.\n",
    "\n",
    "The optimal tax rate of 0.47 reflects a balance between raising enough revenue to fund transfers and not overburdening households to the point where their consumption and labor supply decisions significantly lower overall welfare. Where te lump-sum transfer is a crucial element, as it helps to alleviate the burden of the tax on households by returning some of the collected tax revenue, which supports their consumption and labor supply decisions.\n",
    "\n",
    "The maximized SWF function yields a value of -0.63. This might be explained by the general social negative effect there is associated with the consumption of c2. Even though, a tax of $\\tau=0.47$ is introduced, the social cost, reflecting the negative externality, is not high enough to compensate for the negative social cost associated with c2, therefore - the social welfare function is negative even though we set the optimal tax rate."
   ]
  },
  {
   "cell_type": "markdown",
   "metadata": {},
   "source": [
    "## 2. <a id='toc2_'></a>[Problem 2: Career choice model](#toc0_)"
   ]
  },
  {
   "cell_type": "markdown",
   "metadata": {},
   "source": [
    "Consider a graduate $i$ making a choice between entering $J$ different career tracks. <br>\n",
    "Entering career $j$ yields utility $u^k_{ij}$. This value is unknown to the graduate ex ante, but will ex post be: <br>\n",
    "$$\n",
    "    u_{i,j}^k = v_{j} + \\epsilon_{i,j}^k\n",
    "$$\n",
    "\n",
    "They know that $\\epsilon^k_{i,j}\\sim \\mathcal{N}(0,\\sigma^2)$, but they do not observe $\\epsilon^k_{i,j}$ before making their career choice. <br>"
   ]
  },
  {
   "cell_type": "markdown",
   "metadata": {},
   "source": [
    "Consider the concrete case of $J=3$ with:\n",
    "$$\n",
    "\\begin{align*}\n",
    "    v_{1} &= 1 \\\\\n",
    "    v_{2} &= 2 \\\\\n",
    "    v_{3} &= 3\n",
    "\\end{align*}\n",
    "$$"
   ]
  },
  {
   "cell_type": "markdown",
   "metadata": {},
   "source": [
    "If the graduates know the values of $v_j$ and the distribution of $\\epsilon_{i,j}^k$, they can calculate the expected utility of each career track using simulation: <br>\n",
    "$$\n",
    "    \\mathbb{E}\\left[ u^k_{i,j}\\vert v_j \\right] \\approx v_j + \\frac{1}{K}\\sum_{k=1}^K \\epsilon_{i,j}^k\n",
    "$$"
   ]
  },
  {
   "cell_type": "code",
   "execution_count": 7,
   "metadata": {},
   "outputs": [],
   "source": [
    "par = SimpleNamespace()\n",
    "par.J = 3\n",
    "par.N = 10\n",
    "par.K = 10000\n",
    "\n",
    "par.F = np.arange(1,par.N+1)\n",
    "par.sigma = 2\n",
    "\n",
    "par.v = np.array([1,2,3])\n",
    "par.c = 1"
   ]
  },
  {
   "cell_type": "markdown",
   "metadata": {},
   "source": [
    "**Question 1:** Simulate and calculate expected utility and the average realised utility for $K=10000$ draws, for each career choice $j$.\n"
   ]
  },
  {
   "cell_type": "code",
   "execution_count": 8,
   "metadata": {},
   "outputs": [],
   "source": [
    "# write your answer here"
   ]
  },
  {
   "cell_type": "markdown",
   "metadata": {},
   "source": [
    "Now consider a new scenario: Imagine that the graduate does not know $v_j$. The *only* prior information they have on the value of each job, comes from their $F_{i}$ friends that work in each career $j$. After talking with them, they know the average utility of their friends (which includes their friends' noise term), giving them the prior expecation: <br>\n",
    "$$\n",
    "\\tilde{u}^k_{i,j}\\left( F_{i}\\right) = \\frac{1}{F_{i}}\\sum_{f=1}^{F_{i}} \\left(v_{j} + \\epsilon^k_{f,j}\\right), \\; \\epsilon^k_{f,j}\\sim \\mathcal{N}(0,\\sigma^2)\n",
    "$$\n",
    "For ease of notation consider that each graduate have $F_{i}=i$ friends in each career. <br>"
   ]
  },
  {
   "cell_type": "markdown",
   "metadata": {},
   "source": [
    "For $K$ times do the following: <br>\n",
    "1. For each person $i$ draw $J\\cdot F_i$ values of $\\epsilon_{f,j}^{k}$, and calculate the prior expected utility of each career track, $\\tilde{u}^k_{i,j}\\left( F_{i}\\right)$. <br>\n",
    "Also draw their own $J$ noise terms, $\\epsilon_{i,j}^k$\n",
    "1. Each person $i$ chooses the career track with the highest expected utility: $$j_i^{k*}= \\arg\\max_{j\\in{1,2\\dots,J}}\\left\\{ \\tilde{u}^k_{i,j}\\left( F_{i}\\right)\\right\\} $$\n",
    "1. Store the chosen careers: $j_i^{k*}$, the prior expectation of the value of their chosen career: $\\tilde{u}^k_{i,j=j_i^{k*}}\\left( F_{i}\\right)$, and the realized value of their chosen career track: $u^k_{i,j=j_i^{k*}}=v_{j=j_i^{k*}}+\\epsilon_{i,j=j_i^{k*}}^k$."
   ]
  },
  {
   "cell_type": "markdown",
   "metadata": {},
   "source": [
    "Chosen values will be: <br>\n",
    "$i\\in\\left\\{1,2\\dots,N\\right\\}, N=10$ <br>\n",
    "$F_i = i$<br>\n",
    "So there are 10 graduates. The first has 1 friend in each career, the second has 2 friends, ... the tenth has 10 friends."
   ]
  },
  {
   "cell_type": "markdown",
   "metadata": {},
   "source": [
    "**Question 2:** Simulate and visualize: For each type of graduate, $i$, the share of graduates choosing each career, the average subjective expected utility of the graduates, and the average ex post realized utility given their choice. <br>\n",
    "That is, calculate and visualize: <br>\n",
    "$$\n",
    "\\begin{align*}\n",
    "    \\frac{1}{K} \\sum_{k=1}^{K} \\mathbb{I}\\left\\{ j=j_i^{k*} \\right\\}  \\;\\forall j\\in\\left\\{1,2,\\dots,J\\right\\}\n",
    "\\end{align*}\n",
    "$$\n",
    "$$\n",
    "\\begin{align*}\n",
    "    \\frac{1}{K} \\sum_{k=1}^{K} \\tilde{u}^k_{ij=j_i^{k*}}\\left( F_{i}\\right)\n",
    "\\end{align*}\n",
    "$$\n",
    "And \n",
    "$$\n",
    "\\begin{align*}\n",
    "    \\frac{1}{K} \\sum_{k=1}^{K} u^k_{ij=j_i^{k*}} \n",
    "\\end{align*}\n",
    "$$\n",
    "For each graduate $i$."
   ]
  },
  {
   "cell_type": "code",
   "execution_count": 9,
   "metadata": {},
   "outputs": [],
   "source": [
    "# Write your answer here "
   ]
  },
  {
   "cell_type": "markdown",
   "metadata": {},
   "source": [
    "After a year of working in their career, the graduates learn $u^k_{ij}$ for their chosen job $j_i^{k*}$ perfectly. <br>\n",
    "The can switch to one of the two remaining careers, for which they have the same prior as before, but it will now include a switching cost of $c$ which is known.\n",
    "Their new priors can be written as: \n",
    "$$\n",
    "\\tilde{u}^{k,2}_{ij}\\left( F_{i}\\right) = \\begin{cases}\n",
    "            \\tilde{u}^k_{ij}\\left( F_{i}\\right)-c & \\text{if } j \\neq j_i^{k*} \\\\\n",
    "            u_{ij=j_i^{k*}} & \\text{if } j = j_i^{k*}\n",
    "        \\end{cases}\n",
    "$$"
   ]
  },
  {
   "cell_type": "markdown",
   "metadata": {},
   "source": [
    "We will set $c=1$."
   ]
  },
  {
   "cell_type": "markdown",
   "metadata": {},
   "source": [
    "Their realized utility will be: <br>\n",
    "$$\n",
    "u^{k,2}_{ij}= \\begin{cases}\n",
    "            u_{ij}^k -c & \\text{if } j \\neq j_i^{k*} \\\\\n",
    "            u_{ij=j_i^{k*}} & \\text{if } j = j_i^{k*}\n",
    "        \\end{cases}\n",
    "$$"
   ]
  },
  {
   "cell_type": "markdown",
   "metadata": {},
   "source": [
    "**Question 3:** Following the same approach as in question 2, find the new optimal career choice for each $i$, $k$. Then for each $i$, calculate the average subjective expected utility from their new optimal career choice, and the ex post realized utility of that career. Also, for each $i$, calculate the share of graduates that chooses to switch careers, conditional on which career they chose in the first year. <br>"
   ]
  },
  {
   "cell_type": "code",
   "execution_count": 10,
   "metadata": {},
   "outputs": [],
   "source": [
    "# write your answer here"
   ]
  },
  {
   "cell_type": "markdown",
   "metadata": {},
   "source": [
    "## 3. <a id='toc3_'></a>[Problem 3: Barycentric interpolation](#toc0_)"
   ]
  },
  {
   "cell_type": "markdown",
   "metadata": {},
   "source": [
    "**Problem:** We have a set of random points in the unit square,\n",
    "\n",
    "$$\n",
    "\\mathcal{X} = \\{(x_1,x_2)\\,|\\,x_1\\sim\\mathcal{U}(0,1),x_2\\sim\\mathcal{U}(0,1)\\}.\n",
    "$$\n",
    "\n",
    "For these points, we know the value of some function $f(x_1,x_2)$,\n",
    "\n",
    "$$\n",
    "\\mathcal{F} = \\{f(x_1,x_2) \\,|\\, (x_1,x_2) \\in \\mathcal{X}\\}.\n",
    "$$\n",
    "\n",
    "Now we want to approximate the value $f(y_1,y_2)$ for some  $y=(y_1,y_2)$, where $y_1\\sim\\mathcal{U}(0,1)$ and $y_2\\sim\\mathcal{U}(0,1)$.\n",
    "\n",
    "**Building block I**\n",
    "\n",
    "For an arbitrary triangle $ABC$ and a point $y$, define the so-called barycentric coordinates as:\n",
    "\n",
    "$$\n",
    "\\begin{align*}\n",
    "  r^{ABC}_1 &= \\frac{(B_2-C_2)(y_1-C_1) + (C_1-B_1)(y_2-C_2)}{(B_2-C_2)(A_1-C_1) + (C_1-B_1)(A_2-C_2)} \\\\\n",
    "  r^{ABC}_2 &= \\frac{(C_2-A_2)(y_1-C_1) + (A_1-C_1)(y_2-C_2)}{(B_2-C_2)(A_1-C_1) + (C_1-B_1)(A_2-C_2)} \\\\\n",
    "  r^{ABC}_3 &= 1 - r_1 - r_2.\n",
    "\\end{align*}\n",
    "$$\n",
    "\n",
    "If $r^{ABC}_1 \\in [0,1]$, $r^{ABC}_2 \\in [0,1]$, and $r^{ABC}_3 \\in [0,1]$, then the point is inside the triangle.\n",
    "\n",
    "We always have $y = r^{ABC}_1 A + r^{ABC}_2 B + r^{ABC}_3 C$.\n",
    "\n",
    "**Building block II**\n",
    "\n",
    "Define the following points:\n",
    "\n",
    "$$\n",
    "\\begin{align*}\n",
    "A&=\\arg\\min_{(x_{1},x_{2})\\in\\mathcal{X}}\\sqrt{\\left(x_{1}-y_{1}\\right)^{2}+\\left(x_{2}-y_{2}\\right)^{2}}\\text{ s.t. }x_{1}>y_{1}\\text{ and }x_{2}>y_{2}\\\\\n",
    "B&=\\arg\\min_{(x_{1},x_{2})\\in\\mathcal{X}}\\sqrt{\\left(x_{1}-y_{1}\\right)^{2}+\\left(x_{2}-y_{2}\\right)^{2}}\\text{ s.t. }x_{1}>y_{1}\\text{ and }x_{2}<y_{2}\\\\\n",
    "C&=\\arg\\min_{(x_{1},x_{2})\\in\\mathcal{X}}\\sqrt{\\left(x_{1}-y_{1}\\right)^{2}+\\left(x_{2}-y_{2}\\right)^{2}}\\text{ s.t. }x_{1}<y_{1}\\text{ and }x_{2}<y_{2}\\\\\n",
    "D&=\\arg\\min_{(x_{1},x_{2})\\in\\mathcal{X}}\\sqrt{\\left(x_{1}-y_{1}\\right)^{2}+\\left(x_{2}-y_{2}\\right)^{2}}\\text{ s.t. }x_{1}<y_{1}\\text{ and }x_{2}>y_{2}.\n",
    "\\end{align*}\n",
    "$$\n",
    "\n",
    "**Algorithm:**\n",
    "\n",
    "1. Compute $A$, $B$, $C$, and $D$. If not possible return `NaN`.\n",
    "1. If $y$ is inside the triangle $ABC$ return $r^{ABC}_1 f(A) + r^{ABC}_2 f(B) + r^{ABC}_3 f(C)$.\n",
    "1. If $y$ is inside the triangle $CDA$ return $r^{CDA}_1 f(C) + r^{CDA}_2 f(D) + r^{CDA}_3 f(A)$.\n",
    "1. Return `NaN`.\n",
    "\n"
   ]
  },
  {
   "cell_type": "markdown",
   "metadata": {},
   "source": [
    "**Sample:**"
   ]
  },
  {
   "cell_type": "code",
   "execution_count": 78,
   "metadata": {},
   "outputs": [],
   "source": [
    "rng = np.random.default_rng(2024)\n",
    "\n",
    "X = rng.uniform(size=(50,2))\n",
    "y = rng.uniform(size=(2,))\n"
   ]
  },
  {
   "cell_type": "markdown",
   "metadata": {},
   "source": [
    "**Questions 1:** Find $A$, $B$, $C$ and $D$. Illustrate these together with $X$, $y$ and the triangles $ABC$ and $CDA$."
   ]
  },
  {
   "cell_type": "code",
   "execution_count": 12,
   "metadata": {},
   "outputs": [
    {
     "data": {
      "image/png": "[encoded data removed]",
      "text/plain": [
       "<Figure size 640x480 with 1 Axes>"
      ]
     },
     "metadata": {},
     "output_type": "display_data"
    }
   ],
   "source": [
    "## Problem 3: Barycentric Interpolation\n",
    "\n",
    "# Import the class\n",
    "from examproject3 import BarycentricInterpolation\n",
    "\n",
    "# Create an instance of the class\n",
    "barycentric = BarycentricInterpolation()\n",
    "\n",
    "## Question 1 \n",
    "\n",
    "# Generate random points X in the unit square\n",
    "rng = np.random.default_rng(2024)\n",
    "X = rng.uniform(size=(50, 2))\n",
    "\n",
    "# Generate a random point y\n",
    "y = rng.uniform(size=(2,))\n",
    "\n",
    "# Find A, B, C, and D\n",
    "A, B, C, D = barycentric.closest_points_in_quadrants(X, y)\n",
    "\n",
    "# Plot the points and triangles\n",
    "barycentric.plot_points_and_triangles(X, y, A, B, C, D)"
   ]
  },
  {
   "cell_type": "markdown",
   "metadata": {},
   "source": [
    "Based on the assignment equations and the samples given, we have computed the four points and plotted them as triangles with the point y and X. From looking at the plot, y is clearly within the area of the computed points, however it is not completely clear if it lies on the line between the triangles, or within the lower one. This is computed in question 2. "
   ]
  },
  {
   "cell_type": "markdown",
   "metadata": {},
   "source": [
    "**Question 2:** Compute the barycentric coordinates of the point $y$ with respect to the triangles $ABC$ and $CDA$. Which triangle is $y$ located inside?"
   ]
  },
  {
   "cell_type": "code",
   "execution_count": 13,
   "metadata": {},
   "outputs": [
    {
     "name": "stdout",
     "output_type": "stream",
     "text": [
      "Barycentric coordinates with respect to ABC: (0.6286263152916166, 0.06910145494351515, 0.3022722297648682)\n",
      "Barycentric coordinates with respect to CDA: (0.3682598757102867, -0.13392661883334067, 0.765666743123054)\n",
      "Is y inside triangle ABC? True\n",
      "Is y inside triangle CDA? False\n"
     ]
    }
   ],
   "source": [
    "## Question 2\n",
    "# Compute barycentric coordinates and check triangles\n",
    "results = barycentric.compute_barycentric_and_check(y, A, B, C, D)\n",
    "\n",
    "# Print the results\n",
    "print(\"Barycentric coordinates with respect to ABC:\", results[\"barycentric_ABC\"])\n",
    "print(\"Barycentric coordinates with respect to CDA:\", results[\"barycentric_CDA\"])\n",
    "print(\"Is y inside triangle ABC?\", results[\"inside_ABC\"])\n",
    "print(\"Is y inside triangle CDA?\", results[\"inside_CDA\"])"
   ]
  },
  {
   "cell_type": "markdown",
   "metadata": {},
   "source": [
    "Now, from computing the barycentric coordinates wrt. the two triangles, we see that y lies within the ABC triangle. "
   ]
  },
  {
   "cell_type": "markdown",
   "metadata": {},
   "source": [
    "Now consider the function:\n",
    "$$\n",
    "f(x_1,x_2) = x_1 \\cdot x_2\n",
    "$$"
   ]
  },
  {
   "cell_type": "code",
   "execution_count": 14,
   "metadata": {},
   "outputs": [],
   "source": [
    "f = lambda x: x[0]*x[1]\n",
    "F = np.array([f(x) for x in X])"
   ]
  },
  {
   "cell_type": "markdown",
   "metadata": {},
   "source": [
    "**Question 3:** Compute the approximation of $f(y)$ using the full algorithm. Compare with the true value."
   ]
  },
  {
   "cell_type": "code",
   "execution_count": 15,
   "metadata": {},
   "outputs": [
    {
     "name": "stdout",
     "output_type": "stream",
     "text": [
      "Approximated f(y): 0.08405201731052576\n",
      "True f(y): 0.0789565216259594\n"
     ]
    }
   ],
   "source": [
    "## Question 3\n",
    "# Compute and compare function values\n",
    "results_compare = barycentric.compute_and_compare(y, X)\n",
    "\n",
    "# Print the results of the function comparison\n",
    "print(\"Approximated f(y):\", results_compare[\"approximated_f_y\"])\n",
    "print(\"True f(y):\", results_compare[\"true_f_y\"])"
   ]
  },
  {
   "cell_type": "markdown",
   "metadata": {},
   "source": [
    "From approximating the value of f(y), we see that using interpolation we arrive relatively close to the true value - a difference of cirka 0.0051. "
   ]
  },
  {
   "cell_type": "markdown",
   "metadata": {},
   "source": [
    "**Question 4:** Repeat question 3 for all points in the set $Y$."
   ]
  },
  {
   "cell_type": "code",
   "execution_count": 16,
   "metadata": {},
   "outputs": [],
   "source": [
    "Y = [(0.2,0.2),(0.8,0.2),(0.8,0.8),(0.8,0.2),(0.5,0.5)]"
   ]
  },
  {
   "cell_type": "code",
   "execution_count": 80,
   "metadata": {},
   "outputs": [
    {
     "name": "stdout",
     "output_type": "stream",
     "text": [
      "Approximated and true function values for all points in Y:\n",
      "Point (0.2, 0.2): Approximated f(y) = 0.04032631372248057, True f(y) = 0.04000000000000001\n",
      "Point (0.8, 0.2): Approximated f(y) = 0.15874233999349835, True f(y) = 0.16000000000000003\n",
      "Point (0.8, 0.8): Approximated f(y) = nan, True f(y) = 0.6400000000000001\n",
      "Point (0.8, 0.2): Approximated f(y) = 0.15874233999349835, True f(y) = 0.16000000000000003\n",
      "Point (0.5, 0.5): Approximated f(y) = 0.2512901561119622, True f(y) = 0.25\n"
     ]
    }
   ],
   "source": [
    "## Question 4\n",
    "\n",
    "# Compute and compare function values for all points in Y\n",
    "results_multiple = barycentric.compute_and_compare_multiple_Y(X)\n",
    "\n",
    "# Print the results\n",
    "print(\"Approximated and true function values for all points in Y:\")\n",
    "for result in results_multiple:\n",
    "    print(f\"Point {result['point']}: Approximated f(y) = {result['approximated_f_y']}, True f(y) = {result['true_f_y']}\")\n"
   ]
  },
  {
   "cell_type": "code",
   "execution_count": 81,
   "metadata": {},
   "outputs": [
    {
     "name": "stdout",
     "output_type": "stream",
     "text": [
      "\n",
      "Closest points to (0.8, 0.8):\n",
      "A=nan\n",
      "B=[0.9756222  0.79942844]\n",
      "C=[0.58875932 0.61680751]\n",
      "D=[0.46801905 0.96493021]\n"
     ]
    },
    {
     "data": {
      "image/png": "[encoded data removed]",
      "text/plain": [
       "<Figure size 640x480 with 1 Axes>"
      ]
     },
     "metadata": {},
     "output_type": "display_data"
    }
   ],
   "source": [
    "# Now, compute closest points for (0.8, 0.8)\n",
    "y_specific = (0.8, 0.8)\n",
    "A, B, C, D = barycentric.closest_points_in_quadrants(X, y_specific)\n",
    "print(f\"\\nClosest points to {y_specific}:\")\n",
    "print(f\"A={A}\")\n",
    "print(f\"B={B}\")\n",
    "print(f\"C={C}\")\n",
    "print(f\"D={D}\")\n",
    "\n",
    "# Plot points and triangles for (0.8, 0.8) excluding A if A is NaN\n",
    "plt.scatter(X[:, 0], X[:, 1], label='Points in X')\n",
    "plt.scatter(*y_specific, color='r', label='Point y')\n",
    "if not np.isnan(B).any():\n",
    "    plt.scatter(*B, color='b', label='Point B')\n",
    "if not np.isnan(C).any():\n",
    "    plt.scatter(*C, color='m', label='Point C')\n",
    "if not np.isnan(D).any():\n",
    "    plt.scatter(*D, color='y', label='Point D')\n",
    "if not np.isnan(A).any():\n",
    "    plt.scatter(*A, color='g', label='Point A')\n",
    "    # Draw triangles if A is not NaN\n",
    "    if not (np.isnan(A).any() or np.isnan(B).any() or np.isnan(C).any()):\n",
    "        triangle_ABC = plt.Polygon([A, B, C], fill=None, edgecolor='k', linestyle='--')\n",
    "        plt.gca().add_patch(triangle_ABC)\n",
    "    if not (np.isnan(C).any() or np.isnan(D).any() or np.isnan(A).any()):\n",
    "        triangle_CDA = plt.Polygon([C, D, A], fill=None, edgecolor='c', linestyle='--')\n",
    "        plt.gca().add_patch(triangle_CDA)\n",
    "else:\n",
    "    # Draw triangles excluding A\n",
    "    if not (np.isnan(B).any() or np.isnan(C).any() or np.isnan(D).any()):\n",
    "        triangle_BCD = plt.Polygon([B, C, D], fill=None, edgecolor='k', linestyle='--')\n",
    "        plt.gca().add_patch(triangle_BCD)\n",
    "plt.legend()\n",
    "plt.show()"
   ]
  },
  {
   "cell_type": "markdown",
   "metadata": {},
   "source": [
    "When repeating the step for all points in Y we "
   ]
  }
 ],
 "metadata": {
  "kernelspec": {
   "display_name": "base",
   "language": "python",
   "name": "python3"
  },
  "language_info": {
   "codemirror_mode": {
    "name": "ipython",
    "version": 3
   },
   "file_extension": ".py",
   "mimetype": "text/x-python",
   "name": "python",
   "nbconvert_exporter": "python",
   "pygments_lexer": "ipython3",
   "version": "3.11.8"
  }
 },
 "nbformat": 4,
 "nbformat_minor": 2
}
