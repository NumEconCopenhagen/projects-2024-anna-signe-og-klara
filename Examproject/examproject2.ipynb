{
 "cells": [
  {
   "cell_type": "code",
   "execution_count": 1,
   "metadata": {},
   "outputs": [],
   "source": [
    "import numpy as np\n",
    "import matplotlib.pyplot as plt\n",
    "from scipy import optimize\n",
    "from scipy.optimize import minimize\n",
    "\n",
    "# autoreload modules when code is run. Otherwise, python will not see recent changes. \n",
    "%load_ext autoreload\n",
    "%autoreload 2\n",
    "\n",
    "# We import our project from the py-file\n",
    "from examproject2 import ProductionEconomyClass\n",
    "\n",
    "# We import our class\n",
    "economy = ProductionEconomyClass()"
   ]
  },
  {
   "cell_type": "code",
   "execution_count": 2,
   "metadata": {},
   "outputs": [
    {
     "data": {
      "text/plain": [
       "[(0.1, 0.1, True),\n",
       " (0.1, 0.31, True),\n",
       " (0.1, 0.52, True),\n",
       " (0.1, 0.73, True),\n",
       " (0.1, 0.94, True),\n",
       " (0.1, 1.16, True),\n",
       " (0.1, 1.37, True),\n",
       " (0.1, 1.58, True),\n",
       " (0.1, 1.79, True),\n",
       " (0.1, 2.0, True),\n",
       " (0.31, 0.1, True),\n",
       " (0.31, 0.31, True),\n",
       " (0.31, 0.52, True),\n",
       " (0.31, 0.73, True),\n",
       " (0.31, 0.94, True),\n",
       " (0.31, 1.16, True),\n",
       " (0.31, 1.37, True),\n",
       " (0.31, 1.58, True),\n",
       " (0.31, 1.79, True),\n",
       " (0.31, 2.0, True),\n",
       " (0.52, 0.1, True),\n",
       " (0.52, 0.31, True),\n",
       " (0.52, 0.52, True),\n",
       " (0.52, 0.73, True),\n",
       " (0.52, 0.94, True),\n",
       " (0.52, 1.16, True),\n",
       " (0.52, 1.37, True),\n",
       " (0.52, 1.58, True),\n",
       " (0.52, 1.79, True),\n",
       " (0.52, 2.0, True),\n",
       " (0.73, 0.1, True),\n",
       " (0.73, 0.31, True),\n",
       " (0.73, 0.52, True),\n",
       " (0.73, 0.73, True),\n",
       " (0.73, 0.94, True),\n",
       " (0.73, 1.16, True),\n",
       " (0.73, 1.37, True),\n",
       " (0.73, 1.58, True),\n",
       " (0.73, 1.79, True),\n",
       " (0.73, 2.0, True),\n",
       " (0.94, 0.1, True),\n",
       " (0.94, 0.31, True),\n",
       " (0.94, 0.52, True),\n",
       " (0.94, 0.73, True),\n",
       " (0.94, 0.94, True),\n",
       " (0.94, 1.16, True),\n",
       " (0.94, 1.37, True),\n",
       " (0.94, 1.58, True),\n",
       " (0.94, 1.79, True),\n",
       " (0.94, 2.0, True),\n",
       " (1.16, 0.1, True),\n",
       " (1.16, 0.31, True),\n",
       " (1.16, 0.52, True),\n",
       " (1.16, 0.73, True),\n",
       " (1.16, 0.94, True),\n",
       " (1.16, 1.16, True),\n",
       " (1.16, 1.37, True),\n",
       " (1.16, 1.58, True),\n",
       " (1.16, 1.79, True),\n",
       " (1.16, 2.0, True),\n",
       " (1.37, 0.1, True),\n",
       " (1.37, 0.31, True),\n",
       " (1.37, 0.52, True),\n",
       " (1.37, 0.73, True),\n",
       " (1.37, 0.94, True),\n",
       " (1.37, 1.16, True),\n",
       " (1.37, 1.37, True),\n",
       " (1.37, 1.58, True),\n",
       " (1.37, 1.79, True),\n",
       " (1.37, 2.0, True),\n",
       " (1.58, 0.1, True),\n",
       " (1.58, 0.31, True),\n",
       " (1.58, 0.52, True),\n",
       " (1.58, 0.73, True),\n",
       " (1.58, 0.94, True),\n",
       " (1.58, 1.16, True),\n",
       " (1.58, 1.37, True),\n",
       " (1.58, 1.58, True),\n",
       " (1.58, 1.79, True),\n",
       " (1.58, 2.0, True),\n",
       " (1.79, 0.1, True),\n",
       " (1.79, 0.31, True),\n",
       " (1.79, 0.52, True),\n",
       " (1.79, 0.73, True),\n",
       " (1.79, 0.94, True),\n",
       " (1.79, 1.16, True),\n",
       " (1.79, 1.37, True),\n",
       " (1.79, 1.58, True),\n",
       " (1.79, 1.79, True),\n",
       " (1.79, 2.0, True),\n",
       " (2.0, 0.1, True),\n",
       " (2.0, 0.31, True),\n",
       " (2.0, 0.52, True),\n",
       " (2.0, 0.73, True),\n",
       " (2.0, 0.94, True),\n",
       " (2.0, 1.16, True),\n",
       " (2.0, 1.37, True),\n",
       " (2.0, 1.58, True),\n",
       " (2.0, 1.79, True),\n",
       " (2.0, 2.0, True)]"
      ]
     },
     "execution_count": 2,
     "metadata": {},
     "output_type": "execute_result"
    }
   ],
   "source": [
    "# Question 1\n",
    "economy.check_market_clearing()"
   ]
  },
  {
   "cell_type": "code",
   "execution_count": 3,
   "metadata": {},
   "outputs": [
    {
     "name": "stdout",
     "output_type": "stream",
     "text": [
      "Equilibrium prices: p1 = 0.1, p2 = 0.1\n",
      "Consumption of c1 without tax: 3.0100082623548494\n",
      "Consumption of c2 without tax: 7.0233526121613155\n"
     ]
    },
    {
     "data": {
      "text/plain": [
       "(3.0100082623548494, 7.0233526121613155)"
      ]
     },
     "execution_count": 3,
     "metadata": {},
     "output_type": "execute_result"
    }
   ],
   "source": [
    "# Question 2\n",
    "economy.find_equilibrium_prices()\n",
    "\n",
    "economy.consumption_without_tax()"
   ]
  },
  {
   "cell_type": "code",
   "execution_count": 4,
   "metadata": {},
   "outputs": [
    {
     "name": "stdout",
     "output_type": "stream",
     "text": [
      "Consumption of c1 with tax: 4.252734422354221\n",
      "Consumption of c2 with tax: 4.196140919710044\n",
      "Optimal tax rate: 0.13648030834433636\n",
      "Social welfare: 0.8705733956305708\n"
     ]
    },
    {
     "data": {
      "text/plain": [
       "(4.252734422354221, 4.196140919710044, 0.13648030834433636, 0.8705733956305708)"
      ]
     },
     "execution_count": 4,
     "metadata": {},
     "output_type": "execute_result"
    }
   ],
   "source": [
    "# Question 3\n",
    "economy.find_optimal_tax()"
   ]
  },
  {
   "cell_type": "code",
   "execution_count": 5,
   "metadata": {},
   "outputs": [
    {
     "name": "stdout",
     "output_type": "stream",
     "text": [
      "Overall Expected Utilities:\n"
     ]
    },
    {
     "data": {
      "text/plain": [
       "'Career 1: 0.9929411936957696'"
      ]
     },
     "metadata": {},
     "output_type": "display_data"
    },
    {
     "data": {
      "text/plain": [
       "'Career 2: 1.9953572687643204'"
      ]
     },
     "metadata": {},
     "output_type": "display_data"
    },
    {
     "data": {
      "text/plain": [
       "'Career 3: 2.9856251271875855'"
      ]
     },
     "metadata": {},
     "output_type": "display_data"
    },
    {
     "name": "stdout",
     "output_type": "stream",
     "text": [
      "\n",
      "Overall Average Realized Utilities:\n"
     ]
    },
    {
     "data": {
      "text/plain": [
       "'Career 1: 0.9929411936957696'"
      ]
     },
     "metadata": {},
     "output_type": "display_data"
    },
    {
     "data": {
      "text/plain": [
       "'Career 2: 1.9953572687643204'"
      ]
     },
     "metadata": {},
     "output_type": "display_data"
    },
    {
     "data": {
      "text/plain": [
       "'Career 3: 2.9856251271875855'"
      ]
     },
     "metadata": {},
     "output_type": "display_data"
    }
   ],
   "source": [
    "# In your Jupyter notebook\n",
    "\n",
    "from examproject2 import CareerChoiceSimulation  # Import the class\n",
    "\n",
    "# Create an instance of CareerChoiceSimulation\n",
    "simulator = CareerChoiceSimulation()\n",
    "\n",
    "# Perform simulation and get results\n",
    "overall_expected_utilities, overall_avg_realized_utilities = simulator.simulate_utility()\n",
    "\n",
    "# Print results\n",
    "J = 3  # Number of career tracks\n",
    "\n",
    "print(\"Overall Expected Utilities:\")\n",
    "for j in range(J):\n",
    "    display(f\"Career {j+1}: {overall_expected_utilities[j]}\")\n",
    "\n",
    "print(\"\\nOverall Average Realized Utilities:\")\n",
    "for j in range(J):\n",
    "    display(f\"Career {j+1}: {overall_avg_realized_utilities[j]}\")"
   ]
  },
  {
   "cell_type": "code",
   "execution_count": 6,
   "metadata": {},
   "outputs": [
    {
     "name": "stdout",
     "output_type": "stream",
     "text": [
      "Chosen Careers:\n"
     ]
    },
    {
     "data": {
      "text/plain": [
       "array([0, 0, 2, 0, 2, 2, 2, 2, 2, 2])"
      ]
     },
     "metadata": {},
     "output_type": "display_data"
    },
    {
     "name": "stdout",
     "output_type": "stream",
     "text": [
      "\n",
      "Prior Expected Utilities:\n"
     ]
    },
    {
     "data": {
      "text/plain": [
       "array([[-0.02374079, -0.00400546, -0.00986153],\n",
       "       [ 0.00621717, -0.03122776, -0.01872121],\n",
       "       [-0.01095591, -0.01239962, -0.00136731],\n",
       "       [ 0.00788888, -0.00066929, -0.00643944],\n",
       "       [ 0.01743697,  0.00041817,  0.00037373],\n",
       "       [ 0.0085138 ,  0.00141701,  0.01576387],\n",
       "       [ 0.00662744, -0.00922907, -0.01190054],\n",
       "       [-0.01991444, -0.01170089,  0.00559389],\n",
       "       [ 0.00749867,  0.00686094,  0.00363326],\n",
       "       [ 0.0134538 ,  0.00660435, -0.0092383 ]])"
      ]
     },
     "metadata": {},
     "output_type": "display_data"
    },
    {
     "name": "stdout",
     "output_type": "stream",
     "text": [
      "\n",
      "Realized Utilities:\n"
     ]
    },
    {
     "data": {
      "text/plain": [
       "array([-3.61059000e-02,  6.45860626e-05, -1.11680099e-02, -3.36416827e-02,\n",
       "       -3.58531318e-02,  5.61619565e-03, -4.52838298e-03, -3.63826699e-02,\n",
       "        3.82834913e-03,  1.38247767e-02])"
      ]
     },
     "metadata": {},
     "output_type": "display_data"
    }
   ],
   "source": [
    "# In your Jupyter notebook\n",
    "\n",
    "from examproject2 import CareerChoiceSimulation  # Import the class\n",
    "\n",
    "# Create an instance of CareerChoiceSimulation\n",
    "simulator = CareerChoiceSimulation()\n",
    "\n",
    "# Perform simulation and get results\n",
    "chosen_careers, prior_expected_utilities, realized_utilities = simulator.simulate_career_choice()\n",
    "\n",
    "# Print or display the results\n",
    "print(\"Chosen Careers:\")\n",
    "display(chosen_careers)\n",
    "\n",
    "print(\"\\nPrior Expected Utilities:\")\n",
    "display(prior_expected_utilities)\n",
    "\n",
    "print(\"\\nRealized Utilities:\")\n",
    "display(realized_utilities)"
   ]
  },
  {
   "cell_type": "code",
   "execution_count": 7,
   "metadata": {},
   "outputs": [
    {
     "name": "stdout",
     "output_type": "stream",
     "text": [
      "Expected Utilities:  [0.99294119 1.99535727 2.98562513]\n",
      "Average Realized Utilities:  [0.99294119 1.99535727 2.98562513]\n"
     ]
    }
   ],
   "source": [
    "# Assume you have already imported CareerChoiceSimulation and required libraries\n",
    "\n",
    "# Create an instance of the simulation\n",
    "sim = CareerChoiceSimulation(N=10)\n",
    "\n",
    "# Question 1: Simulate and calculate expected utility and the average realized utility for each career choice\n",
    "expected_utilities, average_realized_utilities = sim.simulate_utility()\n",
    "print(\"Expected Utilities: \", expected_utilities)\n",
    "print(\"Average Realized Utilities: \", average_realized_utilities)\n",
    "\n",
    "# Question 2: For each type of graduate, simulate and visualize the share of graduates choosing each career, \n",
    "# the average subjective expected utility, and the average ex post realized utility given their choice.\n",
    "chosen_careers, prior_expected_utilities, realized_utilities = sim.simulate_career_choice()\n",
    "\n",
    "# Visualization and further processing here\n",
    "# This can include histograms, bar charts, or line graphs to represent the data effectively\n"
   ]
  },
  {
   "cell_type": "code",
   "execution_count": 8,
   "metadata": {},
   "outputs": [
    {
     "name": "stdout",
     "output_type": "stream",
     "text": [
      "Sample of chosen careers: [0 0 1 1 0 1 0 0 2 2]\n"
     ]
    },
    {
     "data": {
      "image/png": "[encoded data removed]",
      "text/plain": [
       "<Figure size 1000x1500 with 3 Axes>"
      ]
     },
     "metadata": {},
     "output_type": "display_data"
    }
   ],
   "source": [
    "import numpy as np\n",
    "import matplotlib.pyplot as plt\n",
    "\n",
    "# Run the simulation to get chosen_careers, prior_expected_utilities, and realized_utilities\n",
    "chosen_careers, prior_expected_utilities, realized_utilities = sim.simulate_career_choice()\n",
    "\n",
    "# Print some values of chosen_careers to see their range\n",
    "print(\"Sample of chosen careers:\", chosen_careers[:10])\n",
    "\n",
    "# Ensure chosen_careers are in the correct range for indexing (subtracting 1 for zero-based index)\n",
    "if np.max(chosen_careers) == sim.par.J:\n",
    "    chosen_careers -= 1  # Adjust if max index equals the number of careers (indicating 1-based indexing)\n",
    "\n",
    "# Count the number of graduates choosing each career\n",
    "career_counts = np.zeros(sim.par.J, dtype=int)\n",
    "for career in chosen_careers:\n",
    "    career_counts[career] += 1\n",
    "\n",
    "# Calculate the share of graduates choosing each career\n",
    "career_shares = career_counts / sim.par.N\n",
    "\n",
    "# Calculate average prior expected utilities and realized utilities for each career\n",
    "average_prior_utilities = np.mean(prior_expected_utilities, axis=0)\n",
    "average_realized_utilities = np.zeros(sim.par.J)\n",
    "for j in range(sim.par.J):\n",
    "    indices = (chosen_careers == j)\n",
    "    average_realized_utilities[j] = np.mean(realized_utilities[indices])\n",
    "\n",
    "# Plotting the results\n",
    "fig, ax = plt.subplots(3, 1, figsize=(10, 15))\n",
    "\n",
    "# Plot 1: Share of Graduates Choosing Each Career\n",
    "ax[0].bar(range(1, sim.par.J + 1), career_shares)\n",
    "ax[0].set_title('Share of Graduates Choosing Each Career')\n",
    "ax[0].set_xlabel('Career')\n",
    "ax[0].set_ylabel('Share')\n",
    "\n",
    "# Plot 2: Average Prior Expected Utilities\n",
    "ax[1].bar(range(1, sim.par.J + 1), average_prior_utilities)\n",
    "ax[1].set_title('Average Prior Expected Utilities')\n",
    "ax[1].set_xlabel('Career')\n",
    "ax[1].set_ylabel('Utility')\n",
    "\n",
    "# Plot 3: Average Realized Utilities\n",
    "ax[2].bar(range(1, sim.par.J + 1), average_realized_utilities)\n",
    "ax[2].set_title('Average Realized Utilities After Choosing a Career')\n",
    "ax[2].set_xlabel('Career')\n",
    "ax[2].set_ylabel('Utility')\n",
    "\n",
    "plt.tight_layout()\n",
    "plt.show()\n"
   ]
  },
  {
   "cell_type": "code",
   "execution_count": null,
   "metadata": {},
   "outputs": [],
   "source": []
  }
 ],
 "metadata": {
  "kernelspec": {
   "display_name": "base",
   "language": "python",
   "name": "python3"
  },
  "language_info": {
   "codemirror_mode": {
    "name": "ipython",
    "version": 3
   },
   "file_extension": ".py",
   "mimetype": "text/x-python",
   "name": "python",
   "nbconvert_exporter": "python",
   "pygments_lexer": "ipython3",
   "version": "3.11.7"
  }
 },
 "nbformat": 4,
 "nbformat_minor": 2
}
