{
 "cells": [
  {
   "cell_type": "code",
   "execution_count": 19,
   "metadata": {},
   "outputs": [
    {
     "name": "stdout",
     "output_type": "stream",
     "text": [
      "The autoreload extension is already loaded. To reload it, use:\n",
      "  %reload_ext autoreload\n"
     ]
    }
   ],
   "source": [
    "import numpy as np\n",
    "import matplotlib.pyplot as plt\n",
    "from scipy import optimize\n",
    "from scipy.optimize import minimize\n",
    "\n",
    "# autoreload modules when code is run. Otherwise, python will not see recent changes. \n",
    "%load_ext autoreload\n",
    "%autoreload 2\n",
    "\n",
    "# We import our project from the py-file\n",
    "from examproject2 import ProductionEconomyClass\n",
    "\n",
    "# We import our class\n",
    "economy = ProductionEconomyClass()"
   ]
  },
  {
   "cell_type": "code",
   "execution_count": 20,
   "metadata": {},
   "outputs": [
    {
     "data": {
      "text/plain": [
       "[(0.1, 0.1, True),\n",
       " (0.1, 0.31, True),\n",
       " (0.1, 0.52, True),\n",
       " (0.1, 0.73, True),\n",
       " (0.1, 0.94, True),\n",
       " (0.1, 1.16, True),\n",
       " (0.1, 1.37, True),\n",
       " (0.1, 1.58, True),\n",
       " (0.1, 1.79, True),\n",
       " (0.1, 2.0, True),\n",
       " (0.31, 0.1, True),\n",
       " (0.31, 0.31, True),\n",
       " (0.31, 0.52, True),\n",
       " (0.31, 0.73, True),\n",
       " (0.31, 0.94, True),\n",
       " (0.31, 1.16, True),\n",
       " (0.31, 1.37, True),\n",
       " (0.31, 1.58, True),\n",
       " (0.31, 1.79, True),\n",
       " (0.31, 2.0, True),\n",
       " (0.52, 0.1, True),\n",
       " (0.52, 0.31, True),\n",
       " (0.52, 0.52, True),\n",
       " (0.52, 0.73, True),\n",
       " (0.52, 0.94, True),\n",
       " (0.52, 1.16, True),\n",
       " (0.52, 1.37, True),\n",
       " (0.52, 1.58, True),\n",
       " (0.52, 1.79, True),\n",
       " (0.52, 2.0, True),\n",
       " (0.73, 0.1, True),\n",
       " (0.73, 0.31, True),\n",
       " (0.73, 0.52, True),\n",
       " (0.73, 0.73, True),\n",
       " (0.73, 0.94, True),\n",
       " (0.73, 1.16, True),\n",
       " (0.73, 1.37, True),\n",
       " (0.73, 1.58, True),\n",
       " (0.73, 1.79, True),\n",
       " (0.73, 2.0, True),\n",
       " (0.94, 0.1, True),\n",
       " (0.94, 0.31, True),\n",
       " (0.94, 0.52, True),\n",
       " (0.94, 0.73, True),\n",
       " (0.94, 0.94, True),\n",
       " (0.94, 1.16, True),\n",
       " (0.94, 1.37, True),\n",
       " (0.94, 1.58, True),\n",
       " (0.94, 1.79, True),\n",
       " (0.94, 2.0, True),\n",
       " (1.16, 0.1, True),\n",
       " (1.16, 0.31, True),\n",
       " (1.16, 0.52, True),\n",
       " (1.16, 0.73, True),\n",
       " (1.16, 0.94, True),\n",
       " (1.16, 1.16, True),\n",
       " (1.16, 1.37, True),\n",
       " (1.16, 1.58, True),\n",
       " (1.16, 1.79, True),\n",
       " (1.16, 2.0, True),\n",
       " (1.37, 0.1, True),\n",
       " (1.37, 0.31, True),\n",
       " (1.37, 0.52, True),\n",
       " (1.37, 0.73, True),\n",
       " (1.37, 0.94, True),\n",
       " (1.37, 1.16, True),\n",
       " (1.37, 1.37, True),\n",
       " (1.37, 1.58, True),\n",
       " (1.37, 1.79, True),\n",
       " (1.37, 2.0, True),\n",
       " (1.58, 0.1, True),\n",
       " (1.58, 0.31, True),\n",
       " (1.58, 0.52, True),\n",
       " (1.58, 0.73, True),\n",
       " (1.58, 0.94, True),\n",
       " (1.58, 1.16, True),\n",
       " (1.58, 1.37, True),\n",
       " (1.58, 1.58, True),\n",
       " (1.58, 1.79, True),\n",
       " (1.58, 2.0, True),\n",
       " (1.79, 0.1, True),\n",
       " (1.79, 0.31, True),\n",
       " (1.79, 0.52, True),\n",
       " (1.79, 0.73, True),\n",
       " (1.79, 0.94, True),\n",
       " (1.79, 1.16, True),\n",
       " (1.79, 1.37, True),\n",
       " (1.79, 1.58, True),\n",
       " (1.79, 1.79, True),\n",
       " (1.79, 2.0, True),\n",
       " (2.0, 0.1, True),\n",
       " (2.0, 0.31, True),\n",
       " (2.0, 0.52, True),\n",
       " (2.0, 0.73, True),\n",
       " (2.0, 0.94, True),\n",
       " (2.0, 1.16, True),\n",
       " (2.0, 1.37, True),\n",
       " (2.0, 1.58, True),\n",
       " (2.0, 1.79, True),\n",
       " (2.0, 2.0, True)]"
      ]
     },
     "execution_count": 20,
     "metadata": {},
     "output_type": "execute_result"
    }
   ],
   "source": [
    "# Question 1\n",
    "economy.check_market_clearing()"
   ]
  },
  {
   "cell_type": "code",
   "execution_count": 21,
   "metadata": {},
   "outputs": [
    {
     "name": "stdout",
     "output_type": "stream",
     "text": [
      "Equilibrium prices: p1 = 0.1, p2 = 0.1\n",
      "Consumption of c1 without tax: 3.0100082623548494\n",
      "Consumption of c2 without tax: 7.0233526121613155\n"
     ]
    },
    {
     "data": {
      "text/plain": [
       "(3.0100082623548494, 7.0233526121613155)"
      ]
     },
     "execution_count": 21,
     "metadata": {},
     "output_type": "execute_result"
    }
   ],
   "source": [
    "# Question 2\n",
    "economy.find_equilibrium_prices()\n",
    "\n",
    "economy.consumption_without_tax()"
   ]
  },
  {
   "cell_type": "code",
   "execution_count": 22,
   "metadata": {},
   "outputs": [
    {
     "name": "stdout",
     "output_type": "stream",
     "text": [
      "Consumption of c1 with tax: 4.252734422354221\n",
      "Consumption of c2 with tax: 4.196140919710044\n",
      "Optimal tax rate: 0.13648030834433636\n",
      "Social welfare: 0.8705733956305708\n"
     ]
    },
    {
     "data": {
      "text/plain": [
       "(4.252734422354221, 4.196140919710044, 0.13648030834433636, 0.8705733956305708)"
      ]
     },
     "execution_count": 22,
     "metadata": {},
     "output_type": "execute_result"
    }
   ],
   "source": [
    "# Question 3\n",
    "economy.find_optimal_tax()"
   ]
  },
  {
   "cell_type": "code",
   "execution_count": 23,
   "metadata": {},
   "outputs": [
    {
     "name": "stdout",
     "output_type": "stream",
     "text": [
      "Consumption of c1 with tax: 4.488880578101269\n",
      "Consumption of c2 with tax: 3.73619850378073\n",
      "Optimal tax rate: 0.1803398874989485\n",
      "Social welfare: 0.8609350375065026\n"
     ]
    },
    {
     "ename": "ValueError",
     "evalue": "too many values to unpack (expected 2)",
     "output_type": "error",
     "traceback": [
      "\u001b[1;31m---------------------------------------------------------------------------\u001b[0m",
      "\u001b[1;31mValueError\u001b[0m                                Traceback (most recent call last)",
      "Cell \u001b[1;32mIn[23], line 1\u001b[0m\n\u001b[1;32m----> 1\u001b[0m optimal_tau, optimal_swf \u001b[38;5;241m=\u001b[39m economy\u001b[38;5;241m.\u001b[39mfind_optimal_tax()\n\u001b[0;32m      3\u001b[0m \u001b[38;5;66;03m# Set the optimal tau and T\u001b[39;00m\n\u001b[0;32m      4\u001b[0m economy\u001b[38;5;241m.\u001b[39mpar\u001b[38;5;241m.\u001b[39mtau \u001b[38;5;241m=\u001b[39m optimal_tau\n",
      "\u001b[1;31mValueError\u001b[0m: too many values to unpack (expected 2)"
     ]
    }
   ],
   "source": [
    "optimal_tau, optimal_swf = economy.find_optimal_tax()\n",
    "\n",
    "# Set the optimal tau and T\n",
    "economy.par.tau = optimal_tau\n",
    "economy.par.T = economy.par.tau * economy.c2(economy.optimal_behavior())\n",
    "\n",
    "# Calculate the optimal labor supply\n",
    "optimal_labor = economy.optimal_behavior()\n",
    "\n",
    "# Calculate the consumption values\n",
    "c1_star = economy.c1(optimal_labor)\n",
    "c2_star = economy.c2(optimal_labor)\n",
    "\n",
    "print(f\"Equilibrium prices: p1 = {economy.p1}, p2 = {economy.p2}\")\n",
    "print(f\"Optimal tau: {optimal_tau}, Optimal SWF: {optimal_swf}\")\n",
    "print(f\"Optimal labor supply: {optimal_labor}\")\n",
    "print(f\"Consumption of good 1: {c1_star}\")\n",
    "print(f\"Consumption of good 2: {c2_star}\")"
   ]
  },
  {
   "cell_type": "code",
   "execution_count": null,
   "metadata": {},
   "outputs": [],
   "source": [
    "economy.consumption_with_tax()"
   ]
  },
  {
   "cell_type": "code",
   "execution_count": null,
   "metadata": {},
   "outputs": [],
   "source": [
    "# In your Jupyter notebook\n",
    "\n",
    "from examproject2 import CareerChoiceSimulation  # Import the class\n",
    "\n",
    "# Create an instance of CareerChoiceSimulation\n",
    "simulator = CareerChoiceSimulation()\n",
    "\n",
    "# Perform simulation and get results\n",
    "overall_expected_utilities, overall_avg_realized_utilities = simulator.simulate_utility()\n",
    "\n",
    "# Print results\n",
    "J = 3  # Number of career tracks\n",
    "\n",
    "print(\"Overall Expected Utilities:\")\n",
    "for j in range(J):\n",
    "    print(f\"Career {j+1}: {overall_expected_utilities[j]}\")\n",
    "\n",
    "print(\"\\nOverall Average Realized Utilities:\")\n",
    "for j in range(J):\n",
    "    print(f\"Career {j+1}: {overall_avg_realized_utilities[j]}\")"
   ]
  },
  {
   "cell_type": "code",
   "execution_count": null,
   "metadata": {},
   "outputs": [],
   "source": []
  }
 ],
 "metadata": {
  "kernelspec": {
   "display_name": "base",
   "language": "python",
   "name": "python3"
  },
  "language_info": {
   "codemirror_mode": {
    "name": "ipython",
    "version": 3
   },
   "file_extension": ".py",
   "mimetype": "text/x-python",
   "name": "python",
   "nbconvert_exporter": "python",
   "pygments_lexer": "ipython3",
   "version": "3.11.7"
  }
 },
 "nbformat": 4,
 "nbformat_minor": 2
}
