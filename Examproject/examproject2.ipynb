{
 "cells": [
  {
   "cell_type": "code",
   "execution_count": 1,
   "metadata": {},
   "outputs": [],
   "source": [
    "import numpy as np\n",
    "import matplotlib.pyplot as plt\n",
    "from scipy import optimize\n",
    "from scipy.optimize import minimize\n",
    "\n",
    "# autoreload modules when code is run. Otherwise, python will not see recent changes. \n",
    "%load_ext autoreload\n",
    "%autoreload 2\n",
    "\n",
    "# We import our project from the py-file\n",
    "from examproject2 import ProductionEconomyClass\n",
    "\n",
    "# We import our class\n",
    "economy = ProductionEconomyClass()"
   ]
  },
  {
   "cell_type": "code",
   "execution_count": 2,
   "metadata": {},
   "outputs": [
    {
     "data": {
      "text/plain": [
       "[(0.1, 0.1, True),\n",
       " (0.1, 0.31, True),\n",
       " (0.1, 0.52, True),\n",
       " (0.1, 0.73, True),\n",
       " (0.1, 0.94, True),\n",
       " (0.1, 1.16, True),\n",
       " (0.1, 1.37, True),\n",
       " (0.1, 1.58, True),\n",
       " (0.1, 1.79, True),\n",
       " (0.1, 2.0, True),\n",
       " (0.31, 0.1, True),\n",
       " (0.31, 0.31, True),\n",
       " (0.31, 0.52, True),\n",
       " (0.31, 0.73, True),\n",
       " (0.31, 0.94, True),\n",
       " (0.31, 1.16, True),\n",
       " (0.31, 1.37, True),\n",
       " (0.31, 1.58, True),\n",
       " (0.31, 1.79, True),\n",
       " (0.31, 2.0, True),\n",
       " (0.52, 0.1, True),\n",
       " (0.52, 0.31, True),\n",
       " (0.52, 0.52, True),\n",
       " (0.52, 0.73, True),\n",
       " (0.52, 0.94, True),\n",
       " (0.52, 1.16, True),\n",
       " (0.52, 1.37, True),\n",
       " (0.52, 1.58, True),\n",
       " (0.52, 1.79, True),\n",
       " (0.52, 2.0, True),\n",
       " (0.73, 0.1, True),\n",
       " (0.73, 0.31, True),\n",
       " (0.73, 0.52, True),\n",
       " (0.73, 0.73, True),\n",
       " (0.73, 0.94, True),\n",
       " (0.73, 1.16, True),\n",
       " (0.73, 1.37, True),\n",
       " (0.73, 1.58, True),\n",
       " (0.73, 1.79, True),\n",
       " (0.73, 2.0, True),\n",
       " (0.94, 0.1, True),\n",
       " (0.94, 0.31, True),\n",
       " (0.94, 0.52, True),\n",
       " (0.94, 0.73, True),\n",
       " (0.94, 0.94, True),\n",
       " (0.94, 1.16, True),\n",
       " (0.94, 1.37, True),\n",
       " (0.94, 1.58, True),\n",
       " (0.94, 1.79, True),\n",
       " (0.94, 2.0, True),\n",
       " (1.16, 0.1, True),\n",
       " (1.16, 0.31, True),\n",
       " (1.16, 0.52, True),\n",
       " (1.16, 0.73, True),\n",
       " (1.16, 0.94, True),\n",
       " (1.16, 1.16, True),\n",
       " (1.16, 1.37, True),\n",
       " (1.16, 1.58, True),\n",
       " (1.16, 1.79, True),\n",
       " (1.16, 2.0, True),\n",
       " (1.37, 0.1, True),\n",
       " (1.37, 0.31, True),\n",
       " (1.37, 0.52, True),\n",
       " (1.37, 0.73, True),\n",
       " (1.37, 0.94, True),\n",
       " (1.37, 1.16, True),\n",
       " (1.37, 1.37, True),\n",
       " (1.37, 1.58, True),\n",
       " (1.37, 1.79, True),\n",
       " (1.37, 2.0, True),\n",
       " (1.58, 0.1, True),\n",
       " (1.58, 0.31, True),\n",
       " (1.58, 0.52, True),\n",
       " (1.58, 0.73, True),\n",
       " (1.58, 0.94, True),\n",
       " (1.58, 1.16, True),\n",
       " (1.58, 1.37, True),\n",
       " (1.58, 1.58, True),\n",
       " (1.58, 1.79, True),\n",
       " (1.58, 2.0, True),\n",
       " (1.79, 0.1, True),\n",
       " (1.79, 0.31, True),\n",
       " (1.79, 0.52, True),\n",
       " (1.79, 0.73, True),\n",
       " (1.79, 0.94, True),\n",
       " (1.79, 1.16, True),\n",
       " (1.79, 1.37, True),\n",
       " (1.79, 1.58, True),\n",
       " (1.79, 1.79, True),\n",
       " (1.79, 2.0, True),\n",
       " (2.0, 0.1, True),\n",
       " (2.0, 0.31, True),\n",
       " (2.0, 0.52, True),\n",
       " (2.0, 0.73, True),\n",
       " (2.0, 0.94, True),\n",
       " (2.0, 1.16, True),\n",
       " (2.0, 1.37, True),\n",
       " (2.0, 1.58, True),\n",
       " (2.0, 1.79, True),\n",
       " (2.0, 2.0, True)]"
      ]
     },
     "execution_count": 2,
     "metadata": {},
     "output_type": "execute_result"
    }
   ],
   "source": [
    "# Question 1\n",
    "economy.check_market_clearing()"
   ]
  },
  {
   "cell_type": "code",
   "execution_count": 3,
   "metadata": {},
   "outputs": [
    {
     "name": "stdout",
     "output_type": "stream",
     "text": [
      "Equilibrium prices: p1 = 0.1, p2 = 0.1\n",
      "Consumption of c1 without tax: 3.0100082623548494\n",
      "Consumption of c2 without tax: 7.0233526121613155\n"
     ]
    },
    {
     "data": {
      "text/plain": [
       "(3.0100082623548494, 7.0233526121613155)"
      ]
     },
     "execution_count": 3,
     "metadata": {},
     "output_type": "execute_result"
    }
   ],
   "source": [
    "# Question 2\n",
    "economy.find_equilibrium_prices()\n",
    "\n",
    "economy.consumption_without_tax()"
   ]
  },
  {
   "cell_type": "code",
   "execution_count": 4,
   "metadata": {},
   "outputs": [
    {
     "name": "stdout",
     "output_type": "stream",
     "text": [
      "Consumption of c1 with tax: 4.252734422354221\n",
      "Consumption of c2 with tax: 4.196140919710044\n",
      "Optimal tax rate: 0.13648030834433636\n",
      "Social welfare: 0.8705733956305708\n"
     ]
    },
    {
     "data": {
      "text/plain": [
       "(4.252734422354221, 4.196140919710044, 0.13648030834433636, 0.8705733956305708)"
      ]
     },
     "execution_count": 4,
     "metadata": {},
     "output_type": "execute_result"
    }
   ],
   "source": [
    "# Question 3\n",
    "economy.find_optimal_tax()"
   ]
  },
  {
   "cell_type": "code",
   "execution_count": 5,
   "metadata": {},
   "outputs": [
    {
     "name": "stdout",
     "output_type": "stream",
     "text": [
      "Overall Expected Utilities:\n"
     ]
    },
    {
     "data": {
      "text/plain": [
       "'Career 1: 1.0'"
      ]
     },
     "metadata": {},
     "output_type": "display_data"
    },
    {
     "data": {
      "text/plain": [
       "'Career 2: 2.0'"
      ]
     },
     "metadata": {},
     "output_type": "display_data"
    },
    {
     "data": {
      "text/plain": [
       "'Career 3: 3.0'"
      ]
     },
     "metadata": {},
     "output_type": "display_data"
    },
    {
     "name": "stdout",
     "output_type": "stream",
     "text": [
      "\n",
      "Overall Average Realized Utilities:\n"
     ]
    },
    {
     "data": {
      "text/plain": [
       "'Career 1: 0.9929411936957696'"
      ]
     },
     "metadata": {},
     "output_type": "display_data"
    },
    {
     "data": {
      "text/plain": [
       "'Career 2: 1.9953572687643204'"
      ]
     },
     "metadata": {},
     "output_type": "display_data"
    },
    {
     "data": {
      "text/plain": [
       "'Career 3: 2.9856251271875855'"
      ]
     },
     "metadata": {},
     "output_type": "display_data"
    }
   ],
   "source": [
    "# In your Jupyter notebook\n",
    "\n",
    "from examproject2 import CareerChoiceSimulation  # Import the class\n",
    "\n",
    "# Create an instance of CareerChoiceSimulation\n",
    "simulator = CareerChoiceSimulation()\n",
    "\n",
    "# Perform simulation and get results\n",
    "overall_expected_utilities, overall_avg_realized_utilities = simulator.simulate_utility()\n",
    "\n",
    "# Print results\n",
    "J = 3  # Number of career tracks\n",
    "\n",
    "print(\"Overall Expected Utilities:\")\n",
    "for j in range(J):\n",
    "    display(f\"Career {j+1}: {overall_expected_utilities[j]}\")\n",
    "\n",
    "print(\"\\nOverall Average Realized Utilities:\")\n",
    "for j in range(J):\n",
    "    display(f\"Career {j+1}: {overall_avg_realized_utilities[j]}\")"
   ]
  },
  {
   "cell_type": "code",
   "execution_count": 6,
   "metadata": {},
   "outputs": [
    {
     "name": "stdout",
     "output_type": "stream",
     "text": [
      "Chosen Careers:\n"
     ]
    },
    {
     "data": {
      "text/plain": [
       "array([1, 1, 2, 0, 2, 2, 2, 2, 2, 2])"
      ]
     },
     "metadata": {},
     "output_type": "display_data"
    },
    {
     "name": "stdout",
     "output_type": "stream",
     "text": [
      "\n",
      "Prior Expected Utilities:\n"
     ]
    },
    {
     "data": {
      "text/plain": [
       "array([[0.97625921, 1.99599454, 2.99013847],\n",
       "       [1.00621717, 1.96877224, 2.98127879],\n",
       "       [0.98904409, 1.98760038, 2.99863269],\n",
       "       [1.00788888, 1.99933071, 2.99356056],\n",
       "       [1.01743697, 2.00041817, 3.00037373],\n",
       "       [1.0085138 , 2.00141701, 3.01576387],\n",
       "       [1.00662744, 1.99077093, 2.98809946],\n",
       "       [0.98008556, 1.98829911, 3.00559389],\n",
       "       [1.00749867, 2.00686094, 3.00363326],\n",
       "       [1.0134538 , 2.00660435, 2.9907617 ]])"
      ]
     },
     "metadata": {},
     "output_type": "display_data"
    },
    {
     "name": "stdout",
     "output_type": "stream",
     "text": [
      "\n",
      "Realized Utilities:\n"
     ]
    },
    {
     "data": {
      "text/plain": [
       "array([1.98907855, 2.01737148, 2.9901993 , 0.95846943, 2.96377314,\n",
       "       2.98985232, 3.00737216, 2.95802344, 3.00019509, 3.02306308])"
      ]
     },
     "metadata": {},
     "output_type": "display_data"
    }
   ],
   "source": [
    "# In your Jupyter notebook\n",
    "\n",
    "from examproject2 import CareerChoiceSimulation  # Import the class\n",
    "\n",
    "# Create an instance of CareerChoiceSimulation\n",
    "simulator = CareerChoiceSimulation()\n",
    "\n",
    "# Perform simulation and get results\n",
    "chosen_careers, prior_expected_utilities, realized_utilities = simulator.simulate_career_choice()\n",
    "\n",
    "# Print or display the results\n",
    "print(\"Chosen Careers:\")\n",
    "display(chosen_careers)\n",
    "\n",
    "print(\"\\nPrior Expected Utilities:\")\n",
    "display(prior_expected_utilities)\n",
    "\n",
    "print(\"\\nRealized Utilities:\")\n",
    "display(realized_utilities)"
   ]
  },
  {
   "cell_type": "code",
   "execution_count": 7,
   "metadata": {},
   "outputs": [
    {
     "name": "stdout",
     "output_type": "stream",
     "text": [
      "Expected Utilities:  [1. 2. 3.]\n",
      "Average Realized Utilities:  [0.99294119 1.99535727 2.98562513]\n"
     ]
    }
   ],
   "source": [
    "# Assume you have already imported CareerChoiceSimulation and required libraries\n",
    "\n",
    "# Create an instance of the simulation\n",
    "sim = CareerChoiceSimulation(N=10)\n",
    "\n",
    "# Question 1: Simulate and calculate expected utility and the average realized utility for each career choice\n",
    "expected_utilities, average_realized_utilities = sim.simulate_utility()\n",
    "print(\"Expected Utilities: \", expected_utilities)\n",
    "print(\"Average Realized Utilities: \", average_realized_utilities)\n",
    "\n",
    "# Question 2: For each type of graduate, simulate and visualize the share of graduates choosing each career, \n",
    "# the average subjective expected utility, and the average ex post realized utility given their choice.\n",
    "chosen_careers, prior_expected_utilities, realized_utilities = sim.simulate_career_choice()\n",
    "\n",
    "# Visualization and further processing here\n",
    "# This can include histograms, bar charts, or line graphs to represent the data effectively\n"
   ]
  },
  {
   "cell_type": "code",
   "execution_count": 8,
   "metadata": {},
   "outputs": [
    {
     "ename": "SyntaxError",
     "evalue": "invalid syntax (2457319017.py, line 24)",
     "output_type": "error",
     "traceback": [
      "\u001b[1;36m  Cell \u001b[1;32mIn[8], line 24\u001b[1;36m\u001b[0m\n\u001b[1;33m    ax[0].set_ylabel('Share')ax[0].set_xticks(range(1, sim.par.J + 1))\u001b[0m\n\u001b[1;37m                             ^\u001b[0m\n\u001b[1;31mSyntaxError\u001b[0m\u001b[1;31m:\u001b[0m invalid syntax\n"
     ]
    }
   ],
   "source": [
    "\n",
    "# Initialize the simulation\n",
    "sim = CareerChoiceSimulation(N=100)\n",
    "\n",
    "# Run the simulation to get chosen_careers, prior_expected_utilities, and realized_utilities\n",
    "chosen_careers, prior_expected_utilities, realized_utilities = sim.simulate_career_choice()\n",
    "\n",
    "# Analyze the results\n",
    "career_shares, average_prior_utilities, average_realized_utilities, utility_differences = sim.analyze_results(\n",
    "    chosen_careers, prior_expected_utilities, realized_utilities)\n",
    "\n",
    "# Print the results\n",
    "print(\"Career Shares:\", career_shares)\n",
    "print(\"Average Prior Expected Utilities:\", average_prior_utilities)\n",
    "print(\"Average Realized Utilities:\", average_realized_utilities)\n",
    "print(\"Utility Differences (Realized - Prior):\", utility_differences)\n",
    "\n",
    "# Plotting the results\n",
    "fig, ax = plt.subplots(4, 1, figsize=(10, 20))\n",
    "\n",
    "# Plot 1: Share of Graduates Choosing Each Career\n",
    "ax[0].bar(range(1, sim.par.J + 1), career_shares)\n",
    "ax[0].set_title('Share of Graduates Choosing Each Career')\n",
    "ax[0].set_xlabel('Career')\n",
    "ax[0].set_ylabel('Share')\n",
    "ax[0].set_xticks(range(1, sim.par.J + 1))\n",
    "ax[0].set_xticklabels(range(1, sim.par.J + 1))\n",
    "\n",
    "\n",
    "# Plot 2: Average Prior Expected Utilities\n",
    "ax[1].bar(range(1, sim.par.J + 1), average_prior_utilities)\n",
    "ax[1].set_title('Average Prior Expected Utilities')\n",
    "ax[1].set_xlabel('Career')\n",
    "ax[1].set_ylabel('Utility')\n",
    "ax[1].set_xticks(range(1, sim.par.J + 1))\n",
    "ax[1].set_xticklabels(range(1, sim.par.J + 1))\n",
    "\n",
    "\n",
    "# Plot 3: Average Realized Utilities\n",
    "ax[2].bar(range(1, sim.par.J + 1), average_realized_utilities)\n",
    "ax[2].set_title('Average Realized Utilities After Choosing a Career')\n",
    "ax[2].set_xlabel('Career')\n",
    "ax[2].set_ylabel('Utility')\n",
    "ax[2].set_xticks(range(1, sim.par.J + 1))\n",
    "ax[2].set_xticklabels(range(1, sim.par.J + 1))\n",
    "\n",
    "\n",
    "# Plot 4: Utility Differences\n",
    "ax[3].bar(range(1, sim.par.J + 1), utility_differences)\n",
    "ax[3].set_title('Utility Differences (Realized - Prior)')\n",
    "ax[3].set_xlabel('Career')\n",
    "ax[3].set_ylabel('Utility Difference')\n",
    "ax[3].set_xticks(range(1, sim.par.J + 1))\n",
    "ax[3].set_xticklabels(range(1, sim.par.J + 1))\n",
    "\n",
    "\n",
    "plt.tight_layout()\n",
    "plt.show()"
   ]
  },
  {
   "cell_type": "code",
   "execution_count": null,
   "metadata": {},
   "outputs": [],
   "source": [
    "# Import the necessary class\n",
    "import matplotlib.pyplot as plt\n",
    "import numpy as np\n",
    "\n",
    "# Initialize the simulation\n",
    "sim = CareerChoiceSimulation(N=10)\n",
    "\n",
    "# Run the simulation for the initial career choices\n",
    "chosen_careers, prior_expected_utilities, realized_utilities = sim.simulate_initial_choice()\n",
    "\n",
    "# Run the simulation for the career switch\n",
    "new_chosen_careers, new_prior_expected_utilities, new_realized_utilities, switched_careers = sim.simulate_career_switch(chosen_careers, realized_utilities)\n",
    "\n",
    "# Calculate the share of graduates that chose to switch careers\n",
    "switch_share = np.mean(switched_careers)\n",
    "\n",
    "# Print the results\n",
    "print(\"Share of graduates that chose to switch careers:\", switch_share)\n",
    "#print the share of graduates that chose to switch careers by previous career\n",
    "for j in range(sim.par.J):\n",
    "    switch_share_j = np.mean(switched_careers[chosen_careers == j])\n",
    "    print(f\"Share of graduates from career {j+1} that chose to switch careers:\", switch_share_j)\n",
    "\n",
    "print(\"New Prior Expected Utilities:\", new_prior_expected_utilities)\n",
    "print(\"New Realized Utilities:\", new_realized_utilities)\n",
    "print(\"Switched Careers:\", switched_careers)\n",
    "\n",
    "# Visualize the results\n",
    "fig, ax = plt.subplots(3, 1, figsize=(10, 15))\n",
    "\n",
    "# Plot 1: Share of Graduates Choosing to Switch Careers\n",
    "ax[0].bar(range(1, sim.par.J + 1), [np.mean(switched_careers[chosen_careers == j]) for j in range(sim.par.J)])\n",
    "ax[0].set_title('Share of Graduates Choosing to Switch Careers')\n",
    "ax[0].set_xlabel('Initial Career')\n",
    "ax[0].set_ylabel('Share')\n",
    "ax[0].set_xticks(range(1, sim.par.J + 1))\n",
    "ax[0].set_xticklabels(range(1, sim.par.J + 1))\n",
    "\n",
    "\n",
    "# Plot 2: New Prior Expected Utilities\n",
    "ax[1].bar(range(1, sim.par.J + 1), np.mean(new_prior_expected_utilities, axis=0))\n",
    "ax[1].set_title('New Prior Expected Utilities')\n",
    "ax[1].set_xlabel('Career')\n",
    "ax[1].set_ylabel('Utility')\n",
    "ax[1].set_ylim(0, 3)\n",
    "ax[1].set_xticks(range(1, sim.par.J + 1))\n",
    "ax[1].set_xticklabels(range(1, sim.par.J + 1))\n",
    "\n",
    "\n",
    "# Plot 3: New Realized Utilities\n",
    "ax[2].bar(range(1, sim.par.J + 1), np.mean(new_realized_utilities))\n",
    "ax[2].set_title('New Realized Utilities After Career Switch')\n",
    "ax[2].set_xlabel('Career')\n",
    "ax[2].set_ylabel('Utility')\n",
    "ax[2].set_xticks(range(1, sim.par.J + 1))\n",
    "ax[2].set_xticklabels(range(1, sim.par.J + 1))\n",
    "\n",
    "\n",
    "plt.tight_layout()\n",
    "plt.show()\n"
   ]
  },
  {
   "cell_type": "code",
   "execution_count": null,
   "metadata": {},
   "outputs": [],
   "source": [
    "## Problem 3\n",
    "\n",
    "# Question 1\n",
    "# Import the class\n",
    "from examproject2 import BarycentricInterpolation\n",
    "\n",
    "# Create an instance of the class\n",
    "interpolator = BarycentricInterpolation()"
   ]
  },
  {
   "cell_type": "code",
   "execution_count": null,
   "metadata": {},
   "outputs": [],
   "source": [
    "interpolator.compute_points()"
   ]
  },
  {
   "cell_type": "code",
   "execution_count": null,
   "metadata": {},
   "outputs": [],
   "source": [
    "interpolator.interpolate()"
   ]
  },
  {
   "cell_type": "code",
   "execution_count": null,
   "metadata": {},
   "outputs": [],
   "source": [
    "# Print the y-coordinates\n",
    "print(f\"y coordinates: ({interpolator.y[0]:.2f}, {interpolator.y[1]:.2f})\")"
   ]
  },
  {
   "cell_type": "code",
   "execution_count": null,
   "metadata": {},
   "outputs": [],
   "source": [
    "interpolator.visualize()"
   ]
  },
  {
   "cell_type": "code",
   "execution_count": null,
   "metadata": {},
   "outputs": [],
   "source": [
    "# Interpolate single point\n",
    "triangle, approx_value = interpolator.interpolate()\n",
    "true_value = interpolator.func(interpolator.y)\n",
    "print(f\"Triangle: {triangle}, Approximate value: {approx_value:.6f}, True value: {true_value:.6f}\")\n"
   ]
  },
  {
   "cell_type": "code",
   "execution_count": null,
   "metadata": {},
   "outputs": [],
   "source": [
    "# Interpolate a set of points\n",
    "Y = [(0.2, 0.2), (0.8, 0.2), (0.8, 0.8), (0.2, 0.8), (0.5, 0.5)]\n",
    "results = interpolator.interpolate_set(Y)"
   ]
  },
  {
   "cell_type": "code",
   "execution_count": null,
   "metadata": {},
   "outputs": [],
   "source": []
  }
 ],
 "metadata": {
  "kernelspec": {
   "display_name": "base",
   "language": "python",
   "name": "python3"
  },
  "language_info": {
   "codemirror_mode": {
    "name": "ipython",
    "version": 3
   },
   "file_extension": ".py",
   "mimetype": "text/x-python",
   "name": "python",
   "nbconvert_exporter": "python",
   "pygments_lexer": "ipython3",
   "version": "3.11.7"
  }
 },
 "nbformat": 4,
 "nbformat_minor": 2
}
