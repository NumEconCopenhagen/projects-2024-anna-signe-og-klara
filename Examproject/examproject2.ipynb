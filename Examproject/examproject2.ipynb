{
 "cells": [
  {
   "cell_type": "code",
   "execution_count": 36,
   "metadata": {},
   "outputs": [
    {
     "name": "stdout",
     "output_type": "stream",
     "text": [
      "The autoreload extension is already loaded. To reload it, use:\n",
      "  %reload_ext autoreload\n"
     ]
    }
   ],
   "source": [
    "import numpy as np\n",
    "import matplotlib.pyplot as plt\n",
    "from scipy import optimize\n",
    "from scipy.optimize import minimize\n",
    "\n",
    "# autoreload modules when code is run. Otherwise, python will not see recent changes. \n",
    "%load_ext autoreload\n",
    "%autoreload 2\n",
    "\n",
    "# We import our project from the py-file\n",
    "from examproject2 import ProductionEconomyClass\n",
    "\n",
    "# We import our class\n",
    "economy = ProductionEconomyClass()"
   ]
  },
  {
   "cell_type": "code",
   "execution_count": 37,
   "metadata": {},
   "outputs": [
    {
     "data": {
      "text/plain": [
       "[(0.1, 0.1, True),\n",
       " (0.1, 0.3111111111111111, True),\n",
       " (0.1, 0.5222222222222223, True),\n",
       " (0.1, 0.7333333333333333, True),\n",
       " (0.1, 0.9444444444444444, True),\n",
       " (0.1, 1.1555555555555557, True),\n",
       " (0.1, 1.3666666666666667, True),\n",
       " (0.1, 1.577777777777778, True),\n",
       " (0.1, 1.788888888888889, True),\n",
       " (0.1, 2.0, True),\n",
       " (0.3111111111111111, 0.1, True),\n",
       " (0.3111111111111111, 0.3111111111111111, True),\n",
       " (0.3111111111111111, 0.5222222222222223, True),\n",
       " (0.3111111111111111, 0.7333333333333333, True),\n",
       " (0.3111111111111111, 0.9444444444444444, True),\n",
       " (0.3111111111111111, 1.1555555555555557, True),\n",
       " (0.3111111111111111, 1.3666666666666667, True),\n",
       " (0.3111111111111111, 1.577777777777778, True),\n",
       " (0.3111111111111111, 1.788888888888889, True),\n",
       " (0.3111111111111111, 2.0, True),\n",
       " (0.5222222222222223, 0.1, True),\n",
       " (0.5222222222222223, 0.3111111111111111, True),\n",
       " (0.5222222222222223, 0.5222222222222223, True),\n",
       " (0.5222222222222223, 0.7333333333333333, True),\n",
       " (0.5222222222222223, 0.9444444444444444, True),\n",
       " (0.5222222222222223, 1.1555555555555557, True),\n",
       " (0.5222222222222223, 1.3666666666666667, True),\n",
       " (0.5222222222222223, 1.577777777777778, True),\n",
       " (0.5222222222222223, 1.788888888888889, True),\n",
       " (0.5222222222222223, 2.0, True),\n",
       " (0.7333333333333333, 0.1, True),\n",
       " (0.7333333333333333, 0.3111111111111111, True),\n",
       " (0.7333333333333333, 0.5222222222222223, True),\n",
       " (0.7333333333333333, 0.7333333333333333, True),\n",
       " (0.7333333333333333, 0.9444444444444444, True),\n",
       " (0.7333333333333333, 1.1555555555555557, True),\n",
       " (0.7333333333333333, 1.3666666666666667, True),\n",
       " (0.7333333333333333, 1.577777777777778, True),\n",
       " (0.7333333333333333, 1.788888888888889, True),\n",
       " (0.7333333333333333, 2.0, True),\n",
       " (0.9444444444444444, 0.1, True),\n",
       " (0.9444444444444444, 0.3111111111111111, True),\n",
       " (0.9444444444444444, 0.5222222222222223, True),\n",
       " (0.9444444444444444, 0.7333333333333333, True),\n",
       " (0.9444444444444444, 0.9444444444444444, True),\n",
       " (0.9444444444444444, 1.1555555555555557, True),\n",
       " (0.9444444444444444, 1.3666666666666667, True),\n",
       " (0.9444444444444444, 1.577777777777778, True),\n",
       " (0.9444444444444444, 1.788888888888889, True),\n",
       " (0.9444444444444444, 2.0, True),\n",
       " (1.1555555555555557, 0.1, True),\n",
       " (1.1555555555555557, 0.3111111111111111, True),\n",
       " (1.1555555555555557, 0.5222222222222223, True),\n",
       " (1.1555555555555557, 0.7333333333333333, True),\n",
       " (1.1555555555555557, 0.9444444444444444, True),\n",
       " (1.1555555555555557, 1.1555555555555557, True),\n",
       " (1.1555555555555557, 1.3666666666666667, True),\n",
       " (1.1555555555555557, 1.577777777777778, True),\n",
       " (1.1555555555555557, 1.788888888888889, True),\n",
       " (1.1555555555555557, 2.0, True),\n",
       " (1.3666666666666667, 0.1, True),\n",
       " (1.3666666666666667, 0.3111111111111111, True),\n",
       " (1.3666666666666667, 0.5222222222222223, True),\n",
       " (1.3666666666666667, 0.7333333333333333, True),\n",
       " (1.3666666666666667, 0.9444444444444444, True),\n",
       " (1.3666666666666667, 1.1555555555555557, True),\n",
       " (1.3666666666666667, 1.3666666666666667, True),\n",
       " (1.3666666666666667, 1.577777777777778, True),\n",
       " (1.3666666666666667, 1.788888888888889, True),\n",
       " (1.3666666666666667, 2.0, True),\n",
       " (1.577777777777778, 0.1, True),\n",
       " (1.577777777777778, 0.3111111111111111, True),\n",
       " (1.577777777777778, 0.5222222222222223, True),\n",
       " (1.577777777777778, 0.7333333333333333, True),\n",
       " (1.577777777777778, 0.9444444444444444, True),\n",
       " (1.577777777777778, 1.1555555555555557, True),\n",
       " (1.577777777777778, 1.3666666666666667, True),\n",
       " (1.577777777777778, 1.577777777777778, True),\n",
       " (1.577777777777778, 1.788888888888889, True),\n",
       " (1.577777777777778, 2.0, True),\n",
       " (1.788888888888889, 0.1, True),\n",
       " (1.788888888888889, 0.3111111111111111, True),\n",
       " (1.788888888888889, 0.5222222222222223, True),\n",
       " (1.788888888888889, 0.7333333333333333, True),\n",
       " (1.788888888888889, 0.9444444444444444, True),\n",
       " (1.788888888888889, 1.1555555555555557, True),\n",
       " (1.788888888888889, 1.3666666666666667, True),\n",
       " (1.788888888888889, 1.577777777777778, True),\n",
       " (1.788888888888889, 1.788888888888889, True),\n",
       " (1.788888888888889, 2.0, True),\n",
       " (2.0, 0.1, True),\n",
       " (2.0, 0.3111111111111111, True),\n",
       " (2.0, 0.5222222222222223, True),\n",
       " (2.0, 0.7333333333333333, True),\n",
       " (2.0, 0.9444444444444444, True),\n",
       " (2.0, 1.1555555555555557, True),\n",
       " (2.0, 1.3666666666666667, True),\n",
       " (2.0, 1.577777777777778, True),\n",
       " (2.0, 1.788888888888889, True),\n",
       " (2.0, 2.0, True)]"
      ]
     },
     "execution_count": 37,
     "metadata": {},
     "output_type": "execute_result"
    }
   ],
   "source": [
    "# Question 1\n",
    "economy.check_market_clearing()"
   ]
  },
  {
   "cell_type": "code",
   "execution_count": 42,
   "metadata": {},
   "outputs": [
    {
     "name": "stdout",
     "output_type": "stream",
     "text": [
      "Equilibrium prices: p1 = 0.1, p2 = 0.1\n",
      "Consumption of good 1: c1_star = 0.05\n",
      "Consumption of good 2: c2_star = 0.05\n"
     ]
    },
    {
     "data": {
      "text/plain": [
       "(0.1, 0.1, 0.05, 0.05)"
      ]
     },
     "execution_count": 42,
     "metadata": {},
     "output_type": "execute_result"
    }
   ],
   "source": [
    "# Question 2\n",
    "economy.find_equilibrium_prices()\n"
   ]
  },
  {
   "cell_type": "code",
   "execution_count": 34,
   "metadata": {},
   "outputs": [
    {
     "data": {
      "text/plain": [
       "(0.13648030834433636, 0.8705733956305708)"
      ]
     },
     "execution_count": 34,
     "metadata": {},
     "output_type": "execute_result"
    }
   ],
   "source": [
    "# Question 3\n",
    "economy.find_optimal_tax()"
   ]
  },
  {
   "cell_type": "code",
   "execution_count": 35,
   "metadata": {},
   "outputs": [
    {
     "name": "stdout",
     "output_type": "stream",
     "text": [
      "Equilibrium prices: p1 = 0.1, p2 = 0.1\n",
      "Optimal tau: 0.1803398874989485, Optimal SWF: 0.8609350375065026\n",
      "Optimal labor supply: 0.8175075801919265\n",
      "Consumption of good 1: 4.488879594112449\n",
      "Consumption of good 2: 3.7361976847842127\n"
     ]
    }
   ],
   "source": [
    "optimal_tau, optimal_swf = economy.find_optimal_tax()\n",
    "\n",
    "# Set the optimal tau and T\n",
    "economy.par.tau = optimal_tau\n",
    "economy.par.T = economy.par.tau * economy.c2(economy.optimal_behavior())\n",
    "\n",
    "# Calculate the optimal labor supply\n",
    "optimal_labor = economy.optimal_behavior()\n",
    "\n",
    "# Calculate the consumption values\n",
    "c1_star = economy.c1(optimal_labor)\n",
    "c2_star = economy.c2(optimal_labor)\n",
    "\n",
    "print(f\"Equilibrium prices: p1 = {economy.p1}, p2 = {economy.p2}\")\n",
    "print(f\"Optimal tau: {optimal_tau}, Optimal SWF: {optimal_swf}\")\n",
    "print(f\"Optimal labor supply: {optimal_labor}\")\n",
    "print(f\"Consumption of good 1: {c1_star}\")\n",
    "print(f\"Consumption of good 2: {c2_star}\")"
   ]
  },
  {
   "cell_type": "code",
   "execution_count": null,
   "metadata": {},
   "outputs": [],
   "source": []
  }
 ],
 "metadata": {
  "kernelspec": {
   "display_name": "base",
   "language": "python",
   "name": "python3"
  },
  "language_info": {
   "codemirror_mode": {
    "name": "ipython",
    "version": 3
   },
   "file_extension": ".py",
   "mimetype": "text/x-python",
   "name": "python",
   "nbconvert_exporter": "python",
   "pygments_lexer": "ipython3",
   "version": "3.11.8"
  }
 },
 "nbformat": 4,
 "nbformat_minor": 2
}
