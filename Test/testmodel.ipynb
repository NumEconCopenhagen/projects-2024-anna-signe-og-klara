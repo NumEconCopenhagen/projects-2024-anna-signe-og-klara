{
 "cells": [
  {
   "cell_type": "code",
   "execution_count": 1,
   "metadata": {},
   "outputs": [],
   "source": [
    "import numpy as np\n",
    "from scipy import optimize\n",
    "import sympy as sm\n",
    "\n",
    "# autoreload modules when code is run\n",
    "%load_ext autoreload\n",
    "%autoreload 2\n",
    "\n",
    "# local modules\n",
    "import testmodel"
   ]
  },
  {
   "cell_type": "code",
   "execution_count": 4,
   "metadata": {},
   "outputs": [
    {
     "name": "stdout",
     "output_type": "stream",
     "text": [
      "alpha: 0.3300, beta: 0.6600, phi: 0.5000, psi: 0.5000, w: 1.0000, r: 0.0500, Aw: 1.0000, Ax: 1.0000, Lw: 400.0000, Lx: 650.0000, Kw: 700.0000, Kx: 300.0000, Uw: 433.2879, Ux: 433.2879, Yw: 481.1301, Yx: 390.2030\n"
     ]
    }
   ],
   "source": [
    "from testmodel import HOmodelClass\n",
    "\n",
    "# We import our class\n",
    "economy = HOmodelClass()"
   ]
  }
 ],
 "metadata": {
  "kernelspec": {
   "display_name": "base",
   "language": "python",
   "name": "python3"
  },
  "language_info": {
   "codemirror_mode": {
    "name": "ipython",
    "version": 3
   },
   "file_extension": ".py",
   "mimetype": "text/x-python",
   "name": "python",
   "nbconvert_exporter": "python",
   "pygments_lexer": "ipython3",
   "version": "3.11.8"
  }
 },
 "nbformat": 4,
 "nbformat_minor": 2
}
