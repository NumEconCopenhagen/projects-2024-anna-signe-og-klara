{
 "cells": [
  {
   "cell_type": "markdown",
   "metadata": {},
   "source": [
    "# The Heckscher-Ohlin model"
   ]
  },
  {
   "cell_type": "markdown",
   "metadata": {},
   "source": [
    "Imports and set magics:"
   ]
  },
  {
   "cell_type": "code",
   "execution_count": 1,
   "metadata": {},
   "outputs": [],
   "source": [
    "import numpy as np\n",
    "from scipy import optimize\n",
    "import sympy as sm\n",
    "\n",
    "# autoreload modules when code is run\n",
    "%load_ext autoreload\n",
    "%autoreload 2\n",
    "\n",
    "# local modules\n",
    "import modelproject"
   ]
  },
  {
   "cell_type": "markdown",
   "metadata": {},
   "source": [
    "# Model description"
   ]
  },
  {
   "cell_type": "code",
   "execution_count": 2,
   "metadata": {},
   "outputs": [],
   "source": [
    "from modelproject import HOmodelClass\n",
    "\n",
    "# We import our class\n",
    "economy = HOmodelClass()"
   ]
  },
  {
   "cell_type": "code",
   "execution_count": 15,
   "metadata": {},
   "outputs": [
    {
     "name": "stdout",
     "output_type": "stream",
     "text": [
      "Unexpected exception formatting exception. Falling back to standard exception\n"
     ]
    },
    {
     "name": "stderr",
     "output_type": "stream",
     "text": [
      "Traceback (most recent call last):\n",
      "  File \"c:\\Users\\klara\\anaconda3\\Lib\\site-packages\\IPython\\core\\interactiveshell.py\", line 3553, in run_code\n",
      "    exec(code_obj, self.user_global_ns, self.user_ns)\n",
      "  File \"C:\\Users\\klara\\AppData\\Local\\Temp\\ipykernel_24992\\964041192.py\", line 5, in <module>\n",
      "    model.optimize_without_trade()\n",
      "  File \"c:\\Users\\klara\\OneDrive\\Dokumenter\\Polit\\2. Kandidat\\IntroductionProgramming\\Projects\\projects-2024-anna-signe-og-klara\\Test\\NY test\\modelproject.py\", line 73, in optimize_without_trade\n",
      "    result = minimize(obj_func, x0, bounds=bounds)\n",
      "             ^^^^^^^^^^^^^^^^^^^^^^^^^^^^^^^^^^^^^\n",
      "  File \"c:\\Users\\klara\\anaconda3\\Lib\\site-packages\\scipy\\optimize\\_minimize.py\", line 710, in minimize\n",
      "    res = _minimize_lbfgsb(fun, x0, args, jac, bounds,\n",
      "          ^^^^^^^^^^^^^^^^^^^^^^^^^^^^^^^^^^^^^^^^^^^^\n",
      "  File \"c:\\Users\\klara\\anaconda3\\Lib\\site-packages\\scipy\\optimize\\_lbfgsb_py.py\", line 307, in _minimize_lbfgsb\n",
      "    sf = _prepare_scalar_function(fun, x0, jac=jac, args=args, epsilon=eps,\n",
      "         ^^^^^^^^^^^^^^^^^^^^^^^^^^^^^^^^^^^^^^^^^^^^^^^^^^^^^^^^^^^^^^^^^^\n",
      "  File \"c:\\Users\\klara\\anaconda3\\Lib\\site-packages\\scipy\\optimize\\_optimize.py\", line 383, in _prepare_scalar_function\n",
      "    sf = ScalarFunction(fun, x0, args, grad, hess,\n",
      "         ^^^^^^^^^^^^^^^^^^^^^^^^^^^^^^^^^^^^^^^^^\n",
      "  File \"c:\\Users\\klara\\anaconda3\\Lib\\site-packages\\scipy\\optimize\\_differentiable_functions.py\", line 158, in __init__\n",
      "    self._update_fun()\n",
      "  File \"c:\\Users\\klara\\anaconda3\\Lib\\site-packages\\scipy\\optimize\\_differentiable_functions.py\", line 251, in _update_fun\n",
      "    self._update_fun_impl()\n",
      "  File \"c:\\Users\\klara\\anaconda3\\Lib\\site-packages\\scipy\\optimize\\_differentiable_functions.py\", line 155, in update_fun\n",
      "    self.f = fun_wrapped(self.x)\n",
      "             ^^^^^^^^^^^^^^^^^^^\n",
      "  File \"c:\\Users\\klara\\anaconda3\\Lib\\site-packages\\scipy\\optimize\\_differentiable_functions.py\", line 137, in fun_wrapped\n",
      "    fx = fun(np.copy(x), *args)\n",
      "         ^^^^^^^^^^^^^^^^^^^^^^\n",
      "  File \"c:\\Users\\klara\\OneDrive\\Dokumenter\\Polit\\2. Kandidat\\IntroductionProgramming\\Projects\\projects-2024-anna-signe-og-klara\\Test\\NY test\\modelproject.py\", line 71, in <lambda>\n",
      "    obj_func = lambda x: self.objective_function(x, self.KA, self.LA, self.KB, self.LB)\n",
      "                         ^^^^^^^^^^^^^^^^^^^^^^^^^^^^^^^^^^^^^^^^^^^^^^^^^^^^^^^^^^^^^^\n",
      "  File \"c:\\Users\\klara\\OneDrive\\Dokumenter\\Polit\\2. Kandidat\\IntroductionProgramming\\Projects\\projects-2024-anna-signe-og-klara\\Test\\NY test\\modelproject.py\", line 57, in objective_function\n",
      "    Y_AX, Y_AY = self.production(self.KA, self.LA)\n",
      "                 ^^^^^^^^^^^^^^^^^^^^^^^^^^^^^^^^^\n",
      "TypeError: HOmodelClass.production() missing 2 required positional arguments: 'KB' and 'LB'\n",
      "\n",
      "During handling of the above exception, another exception occurred:\n",
      "\n",
      "Traceback (most recent call last):\n",
      "  File \"c:\\Users\\klara\\anaconda3\\Lib\\site-packages\\IPython\\core\\interactiveshell.py\", line 2144, in showtraceback\n",
      "    stb = self.InteractiveTB.structured_traceback(\n",
      "          ^^^^^^^^^^^^^^^^^^^^^^^^^^^^^^^^^^^^^^^^\n",
      "  File \"c:\\Users\\klara\\anaconda3\\Lib\\site-packages\\IPython\\core\\ultratb.py\", line 1435, in structured_traceback\n",
      "    return FormattedTB.structured_traceback(\n",
      "           ^^^^^^^^^^^^^^^^^^^^^^^^^^^^^^^^^\n",
      "  File \"c:\\Users\\klara\\anaconda3\\Lib\\site-packages\\IPython\\core\\ultratb.py\", line 1326, in structured_traceback\n",
      "    return VerboseTB.structured_traceback(\n",
      "           ^^^^^^^^^^^^^^^^^^^^^^^^^^^^^^^\n",
      "  File \"c:\\Users\\klara\\anaconda3\\Lib\\site-packages\\IPython\\core\\ultratb.py\", line 1173, in structured_traceback\n",
      "    formatted_exception = self.format_exception_as_a_whole(etype, evalue, etb, number_of_lines_of_context,\n",
      "                          ^^^^^^^^^^^^^^^^^^^^^^^^^^^^^^^^^^^^^^^^^^^^^^^^^^^^^^^^^^^^^^^^^^^^^^^^^^^^^^^^\n",
      "  File \"c:\\Users\\klara\\anaconda3\\Lib\\site-packages\\IPython\\core\\ultratb.py\", line 1088, in format_exception_as_a_whole\n",
      "    frames.append(self.format_record(record))\n",
      "                  ^^^^^^^^^^^^^^^^^^^^^^^^^^\n",
      "  File \"c:\\Users\\klara\\anaconda3\\Lib\\site-packages\\IPython\\core\\ultratb.py\", line 970, in format_record\n",
      "    frame_info.lines, Colors, self.has_colors, lvals\n",
      "    ^^^^^^^^^^^^^^^^\n",
      "  File \"c:\\Users\\klara\\anaconda3\\Lib\\site-packages\\IPython\\core\\ultratb.py\", line 792, in lines\n",
      "    return self._sd.lines\n",
      "           ^^^^^^^^^^^^^^\n",
      "  File \"c:\\Users\\klara\\anaconda3\\Lib\\site-packages\\stack_data\\utils.py\", line 145, in cached_property_wrapper\n",
      "    value = obj.__dict__[self.func.__name__] = self.func(obj)\n",
      "                                               ^^^^^^^^^^^^^^\n",
      "  File \"c:\\Users\\klara\\anaconda3\\Lib\\site-packages\\stack_data\\core.py\", line 698, in lines\n",
      "    pieces = self.included_pieces\n",
      "             ^^^^^^^^^^^^^^^^^^^^\n",
      "  File \"c:\\Users\\klara\\anaconda3\\Lib\\site-packages\\stack_data\\utils.py\", line 145, in cached_property_wrapper\n",
      "    value = obj.__dict__[self.func.__name__] = self.func(obj)\n",
      "                                               ^^^^^^^^^^^^^^\n",
      "  File \"c:\\Users\\klara\\anaconda3\\Lib\\site-packages\\stack_data\\core.py\", line 649, in included_pieces\n",
      "    pos = scope_pieces.index(self.executing_piece)\n",
      "                             ^^^^^^^^^^^^^^^^^^^^\n",
      "  File \"c:\\Users\\klara\\anaconda3\\Lib\\site-packages\\stack_data\\utils.py\", line 145, in cached_property_wrapper\n",
      "    value = obj.__dict__[self.func.__name__] = self.func(obj)\n",
      "                                               ^^^^^^^^^^^^^^\n",
      "  File \"c:\\Users\\klara\\anaconda3\\Lib\\site-packages\\stack_data\\core.py\", line 628, in executing_piece\n",
      "    return only(\n",
      "           ^^^^^\n",
      "  File \"c:\\Users\\klara\\anaconda3\\Lib\\site-packages\\executing\\executing.py\", line 164, in only\n",
      "    raise NotOneValueFound('Expected one value, found 0')\n",
      "executing.executing.NotOneValueFound: Expected one value, found 0\n"
     ]
    }
   ],
   "source": [
    "#Create an instance of the model\n",
    "model = HOmodelClass()\n",
    "\n",
    "# Solve the model without trade\n",
    "model.optimize_without_trade()\n",
    "\n",
    "\n",
    "# Solve the model with trade\n",
    "model.optimize_with_trade()\n",
    "\n"
   ]
  },
  {
   "cell_type": "markdown",
   "metadata": {},
   "source": [
    "The Heckscher-Ohlin model is a classic trading model investigating the basis for comparative advantages and possible advantages of trading. \n",
    "\n",
    "BLA BLA BLA\n",
    "\n",
    "**Model assumptions**\n",
    "\n",
    "- There are 2 countries: Denmark and China. \n",
    "- They are producing 2 goods: Wind power and textile. \n",
    "- To make these goods, they use 2 production factors: Capital and labor. The factors are assumed to move freely across the industries.\n",
    "- Wind power production is assumed to be capital intensive (i.e. to produce one amount of wind power, the countries need more capital than labor).\n",
    "- Textile production is assumed to be labor intensive (i.e. to produce one amount of textile, the countries need more labor than capital).\n",
    "- Prices on the two goods are the same across the two countries.\n",
    "- The countries have the same preferences, and therefore the same utility functions.\n",
    "- We assume perfect competition and no transportation costs.\n",
    "- We assume there are no trade restrictions. \n",
    "\n",
    "**The model equations**\n",
    "\n",
    "To calibrate this economy, we need to establish production in the two sectors. We use classical Cobb-Douglas functions for this purpose:\n",
    "\\begin{align*}\n",
    "Y_x=A_xL_x^{1-\\alpha}K_x^\\alpha \\quad where \\quad \\alpha>0 \\\\\n",
    "Y_w=A_wL_w^{1-\\beta}K_w^\\beta \\quad where \\quad \\beta>\\alpha\n",
    "\\end{align*}\n",
    "where $Y_x$ is the production of textile, and $Y_w$ is the production function for wind power. $L_x$ and $L_w$ denotes labor input in the production of the two goods, and $K_x$ and $K_w$ denotes capital input. Notice that $\\beta > \\alpha$, which shows that the production of wind power is more capital intensive than the production of textile. \n",
    "\n",
    "Furthermore we add the following ressource constraints:\n",
    "\\begin{align*}\n",
    "K_x+K_w = \\overline{K} \\quad and \\quad L_x+L_w=\\overline{L}\n",
    "\\end{align*}\n",
    "\n",
    "**The optimal use of capital and labor**\n",
    "\n",
    "Solving the model implies defining the optimal use of labor and capital in each industry. We first calculate the marginal product of labor and capital in the textile production as\n",
    "\\begin{align*}\n",
    "MPL_x=(1-\\alpha)A_x \\biggl( \\frac{K_x}{L_x}\\biggr)^{\\alpha}  \\\\\n",
    "MPK_x=\\alpha A_x\\biggl(\\frac{L_x}{K_x}\\biggr)^{1-\\alpha}\n",
    "\\end{align*}\n",
    "And next the MPL and MPK for the wind power production\n",
    "\\begin{align*}\n",
    "MPL_w=(1-\\beta)A_w\\biggl(\\frac{K_w}{L_w}\\biggr)^{\\beta}\n",
    "\\\\\n",
    "MPK_w=\\beta A_w \\biggl(\\frac{L_w}{K_w}\\biggr)^{1-\\beta}\n",
    "\\end{align*}\n",
    "\n",
    "**The utility functions**\n",
    "\n",
    "JEG ER LIDT USIKKER PÅ, HVORDAN UTILITY FUNCTIONS SKAL SE UD I DEN HER MODEL - OM MAN BARE VÆLGER EN COBB-DOUGLAS\n",
    "We use Cobb-Douglas utility functions to define the consumers' preferences:\n",
    "\\begin{align*}\n",
    "U_A = Y_x^\\phi  Y_w^{1-\\phi} \\\\\n",
    "U_B = Y_x^\\psi  Y_w^{1-\\psi}\n",
    "\\end{align*}\n",
    "\n",
    "**The market equilibrium**\n",
    "\n",
    "The market equilibria equations are derived by setting the two wage equations equal to eachother and solving for the relative price for the two goods. \n",
    "\n",
    "The labor market equilibrium \n",
    "\\begin{align*}\n",
    "w=P_x MPL_x \\quad &and \\quad w=P_w MPL_w \\\\\n",
    "\\Leftrightarrow \\frac{P_w}{P_x}&=\\frac{MPL_x}{MPL_w}\n",
    "\\end{align*}\n",
    "\n",
    "The capital market equilibrium \n",
    "\\begin{align*}\n",
    "r=P_x MPK_x \\quad &and \\quad r=P_w MPK_w \\\\\n",
    "\\Leftrightarrow \\frac{P_w}{P_x}&=\\frac{MPK_x}{MPK_w}\n",
    "\\end{align*}\n",
    "\n",
    "**Solving**\n",
    "\n",
    "VI SKAL LIGE HAVE SKREVET NOGET TIL DET HER - HVORFOR DET SKAL MED\n",
    "\\begin{align*}\n",
    "\\frac{r}{w}=\\frac{MPK_w}{MPL_w}=\\frac{\\beta}{1-\\beta}\\frac{L_w}{K_w}\n",
    "\\end{align*}\n",
    "\n",
    "\\begin{align*}\n",
    "\\beta > \\alpha \\Leftrightarrow \\frac{K_w}{L_w}=\\frac{\\beta}{1-\\beta}\\biggl(\\frac{r}{w}\\biggr)^{-1}>\\frac{K_x}{L_x}\n",
    "\\end{align*}\n"
   ]
  },
  {
   "cell_type": "markdown",
   "metadata": {},
   "source": [
    "## Analytical solution"
   ]
  },
  {
   "cell_type": "markdown",
   "metadata": {},
   "source": [
    "If your model allows for an analytical solution, you should provide here.\n",
    "\n",
    "You may use Sympy for this. Then you can characterize the solution as a function of a parameter of the model.\n",
    "\n",
    "To characterize the solution, first derive a steady state equation as a function of a parameter using Sympy.solve and then turn it into a python function by Sympy.lambdify. See the lecture notes for details. "
   ]
  },
  {
   "cell_type": "code",
   "execution_count": null,
   "metadata": {},
   "outputs": [],
   "source": [
    "from modelproject import HOmodelClass\n",
    "\n",
    "# We import our class\n",
    "economy = HOmodelClass()"
   ]
  },
  {
   "cell_type": "markdown",
   "metadata": {},
   "source": [
    "Capital labor abundant"
   ]
  },
  {
   "cell_type": "code",
   "execution_count": null,
   "metadata": {},
   "outputs": [],
   "source": [
    "economy.capital_labor_ratio()"
   ]
  },
  {
   "cell_type": "code",
   "execution_count": null,
   "metadata": {},
   "outputs": [],
   "source": [
    "# Initialize HOmodelClass\n",
    "model = HOmodelClass()\n",
    "\n",
    "# Solve the model without trade\n",
    "results_without_trade = model.optimize_production_without_trade()\n",
    "\n",
    "# Solve the model with trade\n",
    "results_with_trade = model.optimize_production_with_trade()"
   ]
  },
  {
   "cell_type": "code",
   "execution_count": null,
   "metadata": {},
   "outputs": [],
   "source": [
    "# Initialize HOmodelClass\n",
    "model = HOmodelClass()\n",
    "\n",
    "#Solve the model without trade using analytical solution\n",
    "results_without_trade = model.optimize_production_without_trade_analytical()\n",
    "\n",
    "# Solve the model with trade using analytical solution\n",
    "results_with_trade = model.optimize_production_with_trade_analytical()\n"
   ]
  },
  {
   "cell_type": "markdown",
   "metadata": {},
   "source": [
    "## Numerical solution"
   ]
  },
  {
   "cell_type": "code",
   "execution_count": 24,
   "metadata": {},
   "outputs": [
    {
     "name": "stdout",
     "output_type": "stream",
     "text": [
      "Optimized allocation of resources: [96.25101977 41.24984308  3.74898023  8.75015692  8.74999437  3.74875861\n",
      " 41.25000563 96.25124139]\n",
      "Total Utility Achieved: 36.09592061894031\n"
     ]
    }
   ],
   "source": [
    "# This code is to be placed in a Jupyter Notebook cell\n",
    "\n",
    "from modelproject import HOmodelClass  # Replace 'your_python_file' with the actual name of your .py file\n",
    "\n",
    "# We create an instance of our class\n",
    "economy = HOmodelClass()\n",
    "\n",
    "# Run optimization\n",
    "try:\n",
    "    optimized_values, total_utility = economy.run_optimization()\n",
    "    print(\"Optimized allocation of resources:\", optimized_values)\n",
    "    print(\"Total Utility Achieved:\", total_utility)\n",
    "except Exception as e:\n",
    "    print(e)\n"
   ]
  },
  {
   "cell_type": "code",
   "execution_count": 27,
   "metadata": {},
   "outputs": [
    {
     "name": "stdout",
     "output_type": "stream",
     "text": [
      "Before Trade:\n",
      "DK - Production: 81.23, Utility: 9.01, Capital: 100, Labor: 50\n",
      "CN - Production: 81.23, Utility: 9.01, Capital: 50, Labor: 100\n",
      "\n",
      "After Trade:\n",
      "Optimized allocation of resources: [1.00000000e+02 5.00000000e+01 3.78364007e-13 2.50585490e-13\n",
      " 5.00000000e+01 1.00000000e+02 2.52316694e-13 3.86357613e-13]\n",
      "Total Utility Achieved: 36.050018504433126\n"
     ]
    }
   ],
   "source": [
    "from modelproject import HOmodelClass  # Ensure your_python_file.py is the file where HOmodelClass is defined\n",
    "\n",
    "# Create an instance of our class\n",
    "economy = HOmodelClass()\n",
    "\n",
    "# Display before trade results\n",
    "before_trade_results = economy.before_trade()\n",
    "print(\"Before Trade:\")\n",
    "for country, metrics in before_trade_results.items():\n",
    "    print(f\"{country} - Production: {metrics['Production']:.2f}, Utility: {metrics['Utility']:.2f}, Capital: {metrics['Capital']}, Labor: {metrics['Labor']}\")\n",
    "\n",
    "# Run optimization for after trade results\n",
    "try:\n",
    "    optimized_values, total_utility = economy.run_optimization()\n",
    "    print(\"\\nAfter Trade:\")\n",
    "    print(\"Optimized allocation of resources:\", optimized_values)\n",
    "    print(\"Total Utility Achieved:\", total_utility)\n",
    "except Exception as e:\n",
    "    print(e)"
   ]
  },
  {
   "cell_type": "code",
   "execution_count": 31,
   "metadata": {},
   "outputs": [
    {
     "name": "stdout",
     "output_type": "stream",
     "text": [
      "Before Trade:\n",
      "DK - Windmills: 81.23, Textiles: 0.00, Utility: 9.01, Capital: 100, Labor: 50\n",
      "CN - Windmills: 0.00, Textiles: 81.23, Utility: 9.01, Capital: 50, Labor: 100\n",
      "\n",
      "After Trade:\n",
      "Optimized allocation of resources: [96.25073715 41.24930616  3.74926285  8.75069384  8.75052203  3.74903158\n",
      " 41.24947797 96.25096842]\n",
      "Denmark's Utility: 18.05, China's Utility: 18.05\n"
     ]
    }
   ],
   "source": [
    "from modelproject import HOmodelClass\n",
    "\n",
    "economy = HOmodelClass()\n",
    "# Before trade\n",
    "before_trade_results = economy.before_trade()\n",
    "print(\"Before Trade:\")\n",
    "for country, metrics in before_trade_results.items():\n",
    "    print(f\"{country} - Windmills: {metrics['Production_W']:.2f}, Textiles: {metrics['Production_T']:.2f}, Utility: {metrics['Utility']:.2f}, Capital: {metrics['Capital']}, Labor: {metrics['Labor']}\")\n",
    "\n",
    "# After trade\n",
    "try:\n",
    "    optimized_values, U_DK, U_CN = economy.run_optimization()\n",
    "    print(\"\\nAfter Trade:\")\n",
    "    print(\"Optimized allocation of resources:\", optimized_values)\n",
    "    print(f\"Denmark's Utility: {U_DK:.2f}, China's Utility: {U_CN:.2f}\")\n",
    "except Exception as e:\n",
    "    print(e)"
   ]
  },
  {
   "cell_type": "code",
   "execution_count": 34,
   "metadata": {},
   "outputs": [
    {
     "name": "stdout",
     "output_type": "stream",
     "text": [
      "Before Trade:\n",
      "DK - Windmills: 81.23, Textiles: 0.00, Utility: 9.01, Capital: 100, Labor: 50\n",
      "CN - Windmills: 0.00, Textiles: 81.23, Utility: 9.01, Capital: 50, Labor: 100\n",
      "\n",
      "After Trade:\n",
      "'L_Lextiles'\n"
     ]
    }
   ],
   "source": [
    "from modelproject import HOmodelClass  # Import your class\n",
    "\n",
    "economy = HOmodelClass()\n",
    "\n",
    "# Before trade\n",
    "before_trade_results = economy.before_trade()\n",
    "print(\"Before Trade:\")\n",
    "for country, metrics in before_trade_results.items():\n",
    "    print(f\"{country} - Windmills: {metrics['Production_W']:.2f}, Textiles: {metrics['Production_T']:.2f}, Utility: {metrics['Utility']:.2f}, Capital: {metrics['Capital']}, Labor: {metrics['Labor']}\")\n",
    "\n",
    "# After trade\n",
    "try:\n",
    "    allocations, U_DK, U_CN = economy.run_optimization()\n",
    "    print(\"\\nAfter Trade:\")\n",
    "    for country, resources in allocations.items():\n",
    "        print(f\"{country} - K_Windmills: {resources['K_Windmills']:.2f}, L_Windmills: {resources['L_Windmills']:.2f}, K_Textiles: {resources['K_Textiles']:.2f}, L_Textiles: {resources['L_Lextiles']:.2f}\")\n",
    "    print(f\"Denmark's Utility: {U_DK:.2f}, China's Utility: {U_CN:.2f}\")\n",
    "except Exception as e:\n",
    "    print(e)"
   ]
  },
  {
   "cell_type": "code",
   "execution_count": 36,
   "metadata": {},
   "outputs": [
    {
     "name": "stdout",
     "output_type": "stream",
     "text": [
      "Before Trade:\n",
      "DK - Windmills: 81.23, Textiles: 0.00, Utility: 9.01, Capital: 100, Labor: 50\n",
      "CN - Windmills: 0.00, Textiles: 81.23, Utility: 9.01, Capital: 50, Labor: 100\n",
      "\n",
      "After Trade:\n",
      "DK - K_Windmills: 96.25, L_Windmills: 41.25, K_Textiles: 3.75, L_Textiles: 8.75\n",
      "CN - K_Windmills: 8.75, L_Windmills: 3.75, K_Textiles: 41.25, L_Textiles: 96.25\n",
      "Denmark's Utility: 18.05, China's Utility: 18.05\n"
     ]
    }
   ],
   "source": [
    "from modelproject import HOmodelClass  # Import your class\n",
    "\n",
    "economy = HOmodelClass()\n",
    "\n",
    "# Before trade\n",
    "before_trade_results = economy.before_trade()\n",
    "print(\"Before Trade:\")\n",
    "for country, metrics in before_trade_results.items():\n",
    "    print(f\"{country} - Windmills: {metrics['Production_W']:.2f}, Textiles: {metrics['Production_T']:.2f}, Utility: {metrics['Utility']:.2f}, Capital: {metrics['Capital']}, Labor: {metrics['Labor']}\")\n",
    "\n",
    "# After trade\n",
    "try:\n",
    "    allocations, U_DK, U_CN = economy.run_optimization()\n",
    "    print(\"\\nAfter Trade:\")\n",
    "    for country, resources in allocations.items():\n",
    "        print(f\"{country} - K_Windmills: {resources['K_Windmills']:.2f}, L_Windmills: {resources['L_Windmills']:.2f}, K_Textiles: {resources['K_Textiles']:.2f}, L_Textiles: {resources['L_Textiles']:.2f}\")\n",
    "    print(f\"Denmark's Utility: {U_DK:.2f}, China's Utility: {U_CN:.2f}\")\n",
    "except Exception as e:\n",
    "    print(e)\n"
   ]
  },
  {
   "cell_type": "code",
   "execution_count": 48,
   "metadata": {},
   "outputs": [
    {
     "name": "stdout",
     "output_type": "stream",
     "text": [
      "Before Trade:\n",
      "DK - Windmills: 81.23, Textiles: 0.00, Utility: 9.01, Capital: 100, Labor: 50\n",
      "CN - Windmills: 0.00, Textiles: 81.23, Utility: 9.01, Capital: 50, Labor: 100\n",
      "\n",
      "After Trade:\n",
      "DK - K_Windmills: 96.25, L_Windmills: 41.25, K_Textiles: 3.75, L_Textiles: 8.75, Total Production Windmills: 74.65, Total Production Textiles: 6.79\n",
      "CN - K_Windmills: 8.75, L_Windmills: 3.75, K_Textiles: 41.25, L_Textiles: 96.25, Total Production Windmills: 6.79, Total Production Textiles: 74.65\n",
      "Denmark's Utility: 18.05, China's Utility: 18.05\n"
     ]
    }
   ],
   "source": [
    "from modelproject import HOmodelClass  # Import your class\n",
    "\n",
    "economy = HOmodelClass()\n",
    "\n",
    "# Before trade\n",
    "before_trade_results = economy.before_trade()\n",
    "print(\"Before Trade:\")\n",
    "for country, metrics in before_trade_results.items():\n",
    "    print(f\"{country} - Windmills: {metrics['Production_W']:.2f}, Textiles: {metrics['Production_T']:.2f}, Utility: {metrics['Utility']:.2f}, Capital: {metrics['Capital']}, Labor: {metrics['Labor']}\")\n",
    "\n",
    "# After trade\n",
    "try:\n",
    "    allocations, U_DK, U_CN = economy.run_optimization()\n",
    "    print(\"\\nAfter Trade:\")\n",
    "    for country, resources in allocations.items():\n",
    "        print(f\"{country} - K_Windmills: {resources['K_Windmills']:.2f}, L_Windmills: {resources['L_Windmills']:.2f}, K_Textiles: {resources['K_Textiles']:.2f}, L_Textiles: {resources['L_Textiles']:.2f}, Total Production Windmills: {resources['Production_Windmills']:.2f}, Total Production Textiles: {resources['Production_Textiles']:.2f}\")\n",
    "    print(f\"Denmark's Utility: {U_DK:.2f}, China's Utility: {U_CN:.2f}\")\n",
    "except Exception as e:\n",
    "    print(e)\n",
    "\n",
    "\n"
   ]
  },
  {
   "cell_type": "code",
   "execution_count": 51,
   "metadata": {},
   "outputs": [
    {
     "data": {
      "image/png": "[encoded data removed]",
      "text/plain": [
       "<Figure size 1000x1000 with 2 Axes>"
      ]
     },
     "metadata": {},
     "output_type": "display_data"
    }
   ],
   "source": [
    "from modelproject import HOmodelClass  # make sure 'your_python_file' matches the actual file name\n",
    "import matplotlib.pyplot as plt\n",
    "import seaborn as sns\n",
    "\n",
    "# Create an instance of the model\n",
    "economy = HOmodelClass()\n",
    "\n",
    "# Get the results before trade\n",
    "before_trade_results = economy.before_trade()\n",
    "\n",
    "# Get the results after trade\n",
    "try:\n",
    "    allocations, U_DK, U_CN = economy.run_optimization()\n",
    "except Exception as e:\n",
    "    print(e)\n",
    "    allocations = None\n",
    "\n",
    "\n",
    "\n",
    "\n",
    "if allocations:\n",
    "    # Data Preparation\n",
    "    labels = ['Denmark', 'China']\n",
    "    production_windmills = [before_trade_results['DK']['Production_W'], 0,\n",
    "                            allocations['DK']['Production_Windmills'], allocations['CN']['Production_Windmills']]\n",
    "    production_textiles = [0, before_trade_results['CN']['Production_T'],\n",
    "                           allocations['DK']['Production_Textiles'], allocations['CN']['Production_Textiles']]\n",
    "    utility = [before_trade_results['DK']['Utility'], before_trade_results['CN']['Utility'], U_DK, U_CN]\n",
    "    \n",
    "    x = np.arange(len(labels))  # Label locations\n",
    "    width = 0.35  # Width of the bars\n",
    "\n",
    "    fig, ax = plt.subplots(2, 1, figsize=(10, 10))\n",
    "\n",
    "    # Production Plot\n",
    "    rects1 = ax[0].bar(x - width/2, production_windmills[::2], width, label='Windmills')\n",
    "    rects2 = ax[0].bar(x + width/2, production_textiles[::2], width, label='Textiles')\n",
    "    rects3 = ax[0].bar(x - width/2, production_windmills[1::2], width, bottom=production_windmills[::2], label='Windmills After Trade', alpha=0.5)\n",
    "    rects4 = ax[0].bar(x + width/2, production_textiles[1::2], width, bottom=production_textiles[::2], label='Textiles After Trade', alpha=0.5)\n",
    "\n",
    "    ax[0].set_ylabel('Production')\n",
    "    ax[0].set_title('Production by Country and Good')\n",
    "    ax[0].set_xticks(x)\n",
    "    ax[0].set_xticklabels(labels)\n",
    "    ax[0].legend()\n",
    "\n",
    "    # Utility Plot\n",
    "    rects5 = ax[1].bar(x, utility[::2], width, label='Utility Before Trade')\n",
    "    rects6 = ax[1].bar(x, utility[1::2], width, bottom=utility[::2], label='Utility After Trade', alpha=0.5)\n",
    "\n",
    "    ax[1].set_ylabel('Utility')\n",
    "    ax[1].set_title('Utility by Country Before and After Trade')\n",
    "    ax[1].set_xticks(x)\n",
    "    ax[1].set_xticklabels(labels)\n",
    "    ax[1].legend()\n",
    "\n",
    "    plt.tight_layout()\n",
    "    plt.show()"
   ]
  },
  {
   "cell_type": "code",
   "execution_count": 40,
   "metadata": {},
   "outputs": [
    {
     "ename": "AttributeError",
     "evalue": "'HOmodelClass' object has no attribute 'plot_ppf'",
     "output_type": "error",
     "traceback": [
      "\u001b[1;31m---------------------------------------------------------------------------\u001b[0m",
      "\u001b[1;31mAttributeError\u001b[0m                            Traceback (most recent call last)",
      "Cell \u001b[1;32mIn[40], line 1\u001b[0m\n\u001b[1;32m----> 1\u001b[0m model\u001b[38;5;241m.\u001b[39mplot_ppf()\n",
      "\u001b[1;31mAttributeError\u001b[0m: 'HOmodelClass' object has no attribute 'plot_ppf'"
     ]
    }
   ],
   "source": [
    "model.plot_ppf()"
   ]
  },
  {
   "cell_type": "code",
   "execution_count": null,
   "metadata": {},
   "outputs": [],
   "source": [
    "# Assuming 'model' is your instance of the ModelProject class\n",
    "model.plot_utility_surface(country='DK', trade=True)\n",
    "\n",
    "model.plot_utility_surface(country='DK', trade=False)\n",
    "\n",
    "model.plot_utility_surface(country='CN', trade=True)\n",
    "\n",
    "model.plot_utility_surface(country='CN', trade=False)"
   ]
  },
  {
   "cell_type": "markdown",
   "metadata": {},
   "source": [
    "You can always solve a model numerically. \n",
    "\n",
    "Define first the set of parameters you need. \n",
    "\n",
    "Then choose one of the optimization algorithms that we have gone through in the lectures based on what you think is most fitting for your model.\n",
    "\n",
    "Are there any problems with convergence? Does the model converge for all starting values? Make a lot of testing to figure these things out. "
   ]
  },
  {
   "cell_type": "markdown",
   "metadata": {},
   "source": [
    "# Further analysis"
   ]
  },
  {
   "cell_type": "markdown",
   "metadata": {},
   "source": [
    "Make detailed vizualizations of how your model changes with parameter values. \n",
    "\n",
    "Try to make an extension of the model. "
   ]
  },
  {
   "cell_type": "markdown",
   "metadata": {},
   "source": [
    "# Conclusion"
   ]
  },
  {
   "cell_type": "markdown",
   "metadata": {},
   "source": [
    "Add concise conclusion. "
   ]
  }
 ],
 "metadata": {
  "kernelspec": {
   "display_name": "base",
   "language": "python",
   "name": "python3"
  },
  "language_info": {
   "codemirror_mode": {
    "name": "ipython",
    "version": 3
   },
   "file_extension": ".py",
   "mimetype": "text/x-python",
   "name": "python",
   "nbconvert_exporter": "python",
   "pygments_lexer": "ipython3",
   "version": "3.11.7"
  },
  "toc-autonumbering": true,
  "vscode": {
   "interpreter": {
    "hash": "47ef90cdf3004d3f859f1fb202523c65c07ba7c22eefd261b181f4744e2d0403"
   }
  }
 },
 "nbformat": 4,
 "nbformat_minor": 4
}
