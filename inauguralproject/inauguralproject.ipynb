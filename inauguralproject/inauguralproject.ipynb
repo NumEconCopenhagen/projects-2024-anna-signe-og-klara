{
 "cells": [
  {
   "cell_type": "markdown",
   "metadata": {},
   "source": [
    "# Inaugural Project - Anna, Signe and Klara"
   ]
  },
  {
   "cell_type": "markdown",
   "metadata": {},
   "source": [
    "This project examines the solution to an exchange economy with two consumers. We calibrate and solve the model to find allocations and prices, and finally we illustrate the answers. "
   ]
  },
  {
   "cell_type": "markdown",
   "metadata": {},
   "source": [
    "# Imports and set magics:"
   ]
  },
  {
   "cell_type": "code",
   "execution_count": 28,
   "metadata": {},
   "outputs": [
    {
     "name": "stdout",
     "output_type": "stream",
     "text": [
      "The autoreload extension is already loaded. To reload it, use:\n",
      "  %reload_ext autoreload\n"
     ]
    }
   ],
   "source": [
    "import numpy as np\n",
    "import matplotlib.pyplot as plt\n",
    "from scipy import optimize\n",
    "from scipy.optimize import minimize\n",
    "\n",
    "# autoreload modules when code is run. Otherwise, python will not see recent changes. \n",
    "%load_ext autoreload\n",
    "%autoreload 2\n",
    "\n",
    "# We import our project from the py-file\n",
    "from inauguralproject import ExchangeEconomyClass\n",
    "\n",
    "# We import our class\n",
    "economy = ExchangeEconomyClass()"
   ]
  },
  {
   "cell_type": "markdown",
   "metadata": {},
   "source": [
    "# Answers to questions"
   ]
  },
  {
   "cell_type": "markdown",
   "metadata": {},
   "source": [
    "**1. Illustrating the Edgeworth box**"
   ]
  },
  {
   "cell_type": "code",
   "execution_count": 29,
   "metadata": {},
   "outputs": [
    {
     "data": {
      "image/png": "[encoded data removed]",
      "text/plain": [
       "<Figure size 640x480 with 1 Axes>"
      ]
     },
     "metadata": {},
     "output_type": "display_data"
    }
   ],
   "source": [
    "# We plot the Edgeworth box, using the function defined in ExchangeEconomyClass.\n",
    "economy.plot_edgeworth_box(75)"
   ]
  },
  {
   "cell_type": "markdown",
   "metadata": {},
   "source": [
    "**2. Error in the market clearing conditions**"
   ]
  },
  {
   "cell_type": "markdown",
   "metadata": {},
   "source": [
    "In order to calculate the error in the market clearing condition for p1 in P1 we start by defining the number of times we whish to check the price level. We initialize p1 at 0.5 and in increments of 75 until p1 = 2.5 we calculate the two epsilons (defined as given) and hereby calculate the excess demand of the two goods. \n",
    "We print the values and store them in a dictionary. \n",
    "From this dictionary we plot the two epsilons as a function of the price p1."
   ]
  },
  {
   "cell_type": "code",
   "execution_count": 30,
   "metadata": {},
   "outputs": [
    {
     "name": "stdout",
     "output_type": "stream",
     "text": [
      "For p1 = 0.50: epsilon1 = 0.5333 and epsilon2 = -0.2667\n",
      "For p1 = 0.55: epsilon1 = 0.4241 and epsilon2 = -0.2347\n",
      "For p1 = 0.58: epsilon1 = 0.3770 and epsilon2 = -0.2187\n",
      "For p1 = 0.61: epsilon1 = 0.3341 and epsilon2 = -0.2027\n",
      "For p1 = 0.63: epsilon1 = 0.2947 and epsilon2 = -0.1867\n",
      "For p1 = 0.66: epsilon1 = 0.2586 and epsilon2 = -0.1707\n",
      "For p1 = 0.69: epsilon1 = 0.2252 and epsilon2 = -0.1547\n",
      "For p1 = 0.71: epsilon1 = 0.1944 and epsilon2 = -0.1387\n",
      "For p1 = 0.74: epsilon1 = 0.1658 and epsilon2 = -0.1227\n",
      "For p1 = 0.77: epsilon1 = 0.1391 and epsilon2 = -0.1067\n",
      "For p1 = 0.79: epsilon1 = 0.1143 and epsilon2 = -0.0907\n",
      "For p1 = 0.82: epsilon1 = 0.0911 and epsilon2 = -0.0747\n",
      "For p1 = 0.85: epsilon1 = 0.0693 and epsilon2 = -0.0587\n",
      "For p1 = 0.87: epsilon1 = 0.0489 and epsilon2 = -0.0427\n",
      "For p1 = 0.90: epsilon1 = 0.0296 and epsilon2 = -0.0267\n",
      "For p1 = 0.93: epsilon1 = 0.0115 and epsilon2 = -0.0107\n",
      "For p1 = 0.95: epsilon1 = -0.0056 and epsilon2 = 0.0053\n",
      "For p1 = 0.98: epsilon1 = -0.0218 and epsilon2 = 0.0213\n",
      "For p1 = 1.01: epsilon1 = -0.0371 and epsilon2 = 0.0373\n",
      "For p1 = 1.03: epsilon1 = -0.0516 and epsilon2 = 0.0533\n",
      "For p1 = 1.06: epsilon1 = -0.0654 and epsilon2 = 0.0693\n",
      "For p1 = 1.09: epsilon1 = -0.0785 and epsilon2 = 0.0853\n",
      "For p1 = 1.11: epsilon1 = -0.0910 and epsilon2 = 0.1013\n",
      "For p1 = 1.14: epsilon1 = -0.1029 and epsilon2 = 0.1173\n",
      "For p1 = 1.17: epsilon1 = -0.1143 and epsilon2 = 0.1333\n",
      "For p1 = 1.19: epsilon1 = -0.1251 and epsilon2 = 0.1493\n",
      "For p1 = 1.22: epsilon1 = -0.1355 and epsilon2 = 0.1653\n",
      "For p1 = 1.25: epsilon1 = -0.1455 and epsilon2 = 0.1813\n",
      "For p1 = 1.27: epsilon1 = -0.1550 and epsilon2 = 0.1973\n",
      "For p1 = 1.30: epsilon1 = -0.1641 and epsilon2 = 0.2133\n",
      "For p1 = 1.33: epsilon1 = -0.1729 and epsilon2 = 0.2293\n",
      "For p1 = 1.35: epsilon1 = -0.1813 and epsilon2 = 0.2453\n",
      "For p1 = 1.38: epsilon1 = -0.1894 and epsilon2 = 0.2613\n",
      "For p1 = 1.41: epsilon1 = -0.1972 and epsilon2 = 0.2773\n",
      "For p1 = 1.43: epsilon1 = -0.2047 and epsilon2 = 0.2933\n",
      "For p1 = 1.46: epsilon1 = -0.2119 and epsilon2 = 0.3093\n",
      "For p1 = 1.49: epsilon1 = -0.2188 and epsilon2 = 0.3253\n",
      "For p1 = 1.51: epsilon1 = -0.2256 and epsilon2 = 0.3413\n",
      "For p1 = 1.54: epsilon1 = -0.2320 and epsilon2 = 0.3573\n",
      "For p1 = 1.57: epsilon1 = -0.2383 and epsilon2 = 0.3733\n",
      "For p1 = 1.59: epsilon1 = -0.2444 and epsilon2 = 0.3893\n",
      "For p1 = 1.62: epsilon1 = -0.2502 and epsilon2 = 0.4053\n",
      "For p1 = 1.65: epsilon1 = -0.2559 and epsilon2 = 0.4213\n",
      "For p1 = 1.67: epsilon1 = -0.2614 and epsilon2 = 0.4373\n",
      "For p1 = 1.70: epsilon1 = -0.2667 and epsilon2 = 0.4533\n",
      "For p1 = 1.73: epsilon1 = -0.2718 and epsilon2 = 0.4693\n",
      "For p1 = 1.75: epsilon1 = -0.2768 and epsilon2 = 0.4853\n",
      "For p1 = 1.78: epsilon1 = -0.2816 and epsilon2 = 0.5013\n",
      "For p1 = 1.81: epsilon1 = -0.2863 and epsilon2 = 0.5173\n",
      "For p1 = 1.83: epsilon1 = -0.2909 and epsilon2 = 0.5333\n",
      "For p1 = 1.86: epsilon1 = -0.2953 and epsilon2 = 0.5493\n",
      "For p1 = 1.89: epsilon1 = -0.2996 and epsilon2 = 0.5653\n",
      "For p1 = 1.91: epsilon1 = -0.3038 and epsilon2 = 0.5813\n",
      "For p1 = 1.94: epsilon1 = -0.3079 and epsilon2 = 0.5973\n",
      "For p1 = 1.97: epsilon1 = -0.3119 and epsilon2 = 0.6133\n",
      "For p1 = 1.99: epsilon1 = -0.3157 and epsilon2 = 0.6293\n",
      "For p1 = 2.02: epsilon1 = -0.3195 and epsilon2 = 0.6453\n",
      "For p1 = 2.05: epsilon1 = -0.3231 and epsilon2 = 0.6613\n",
      "For p1 = 2.07: epsilon1 = -0.3267 and epsilon2 = 0.6773\n",
      "For p1 = 2.10: epsilon1 = -0.3302 and epsilon2 = 0.6933\n",
      "For p1 = 2.13: epsilon1 = -0.3335 and epsilon2 = 0.7093\n",
      "For p1 = 2.15: epsilon1 = -0.3368 and epsilon2 = 0.7253\n",
      "For p1 = 2.18: epsilon1 = -0.3401 and epsilon2 = 0.7413\n",
      "For p1 = 2.21: epsilon1 = -0.3432 and epsilon2 = 0.7573\n",
      "For p1 = 2.23: epsilon1 = -0.3463 and epsilon2 = 0.7733\n",
      "For p1 = 2.26: epsilon1 = -0.3493 and epsilon2 = 0.7893\n",
      "For p1 = 2.29: epsilon1 = -0.3522 and epsilon2 = 0.8053\n",
      "For p1 = 2.31: epsilon1 = -0.3550 and epsilon2 = 0.8213\n",
      "For p1 = 2.34: epsilon1 = -0.3578 and epsilon2 = 0.8373\n",
      "For p1 = 2.37: epsilon1 = -0.3606 and epsilon2 = 0.8533\n",
      "For p1 = 2.39: epsilon1 = -0.3632 and epsilon2 = 0.8693\n",
      "For p1 = 2.42: epsilon1 = -0.3658 and epsilon2 = 0.8853\n",
      "For p1 = 2.45: epsilon1 = -0.3684 and epsilon2 = 0.9013\n",
      "For p1 = 2.47: epsilon1 = -0.3709 and epsilon2 = 0.9173\n",
      "For p1 = 2.50: epsilon1 = -0.3733 and epsilon2 = 0.9333\n",
      "For p1 = 0.50: epsilon1 = 0.5333 and epsilon2 = -0.2667\n",
      "For p1 = 0.55: epsilon1 = 0.4241 and epsilon2 = -0.2347\n",
      "For p1 = 0.58: epsilon1 = 0.3770 and epsilon2 = -0.2187\n",
      "For p1 = 0.61: epsilon1 = 0.3341 and epsilon2 = -0.2027\n",
      "For p1 = 0.63: epsilon1 = 0.2947 and epsilon2 = -0.1867\n",
      "For p1 = 0.66: epsilon1 = 0.2586 and epsilon2 = -0.1707\n",
      "For p1 = 0.69: epsilon1 = 0.2252 and epsilon2 = -0.1547\n",
      "For p1 = 0.71: epsilon1 = 0.1944 and epsilon2 = -0.1387\n",
      "For p1 = 0.74: epsilon1 = 0.1658 and epsilon2 = -0.1227\n",
      "For p1 = 0.77: epsilon1 = 0.1391 and epsilon2 = -0.1067\n",
      "For p1 = 0.79: epsilon1 = 0.1143 and epsilon2 = -0.0907\n",
      "For p1 = 0.82: epsilon1 = 0.0911 and epsilon2 = -0.0747\n",
      "For p1 = 0.85: epsilon1 = 0.0693 and epsilon2 = -0.0587\n",
      "For p1 = 0.87: epsilon1 = 0.0489 and epsilon2 = -0.0427\n",
      "For p1 = 0.90: epsilon1 = 0.0296 and epsilon2 = -0.0267\n",
      "For p1 = 0.93: epsilon1 = 0.0115 and epsilon2 = -0.0107\n",
      "For p1 = 0.95: epsilon1 = -0.0056 and epsilon2 = 0.0053\n",
      "For p1 = 0.98: epsilon1 = -0.0218 and epsilon2 = 0.0213\n",
      "For p1 = 1.01: epsilon1 = -0.0371 and epsilon2 = 0.0373\n",
      "For p1 = 1.03: epsilon1 = -0.0516 and epsilon2 = 0.0533\n",
      "For p1 = 1.06: epsilon1 = -0.0654 and epsilon2 = 0.0693\n",
      "For p1 = 1.09: epsilon1 = -0.0785 and epsilon2 = 0.0853\n",
      "For p1 = 1.11: epsilon1 = -0.0910 and epsilon2 = 0.1013\n",
      "For p1 = 1.14: epsilon1 = -0.1029 and epsilon2 = 0.1173\n",
      "For p1 = 1.17: epsilon1 = -0.1143 and epsilon2 = 0.1333\n",
      "For p1 = 1.19: epsilon1 = -0.1251 and epsilon2 = 0.1493\n",
      "For p1 = 1.22: epsilon1 = -0.1355 and epsilon2 = 0.1653\n",
      "For p1 = 1.25: epsilon1 = -0.1455 and epsilon2 = 0.1813\n",
      "For p1 = 1.27: epsilon1 = -0.1550 and epsilon2 = 0.1973\n",
      "For p1 = 1.30: epsilon1 = -0.1641 and epsilon2 = 0.2133\n",
      "For p1 = 1.33: epsilon1 = -0.1729 and epsilon2 = 0.2293\n",
      "For p1 = 1.35: epsilon1 = -0.1813 and epsilon2 = 0.2453\n",
      "For p1 = 1.38: epsilon1 = -0.1894 and epsilon2 = 0.2613\n",
      "For p1 = 1.41: epsilon1 = -0.1972 and epsilon2 = 0.2773\n",
      "For p1 = 1.43: epsilon1 = -0.2047 and epsilon2 = 0.2933\n",
      "For p1 = 1.46: epsilon1 = -0.2119 and epsilon2 = 0.3093\n",
      "For p1 = 1.49: epsilon1 = -0.2188 and epsilon2 = 0.3253\n",
      "For p1 = 1.51: epsilon1 = -0.2256 and epsilon2 = 0.3413\n",
      "For p1 = 1.54: epsilon1 = -0.2320 and epsilon2 = 0.3573\n",
      "For p1 = 1.57: epsilon1 = -0.2383 and epsilon2 = 0.3733\n",
      "For p1 = 1.59: epsilon1 = -0.2444 and epsilon2 = 0.3893\n",
      "For p1 = 1.62: epsilon1 = -0.2502 and epsilon2 = 0.4053\n",
      "For p1 = 1.65: epsilon1 = -0.2559 and epsilon2 = 0.4213\n",
      "For p1 = 1.67: epsilon1 = -0.2614 and epsilon2 = 0.4373\n",
      "For p1 = 1.70: epsilon1 = -0.2667 and epsilon2 = 0.4533\n",
      "For p1 = 1.73: epsilon1 = -0.2718 and epsilon2 = 0.4693\n",
      "For p1 = 1.75: epsilon1 = -0.2768 and epsilon2 = 0.4853\n",
      "For p1 = 1.78: epsilon1 = -0.2816 and epsilon2 = 0.5013\n",
      "For p1 = 1.81: epsilon1 = -0.2863 and epsilon2 = 0.5173\n",
      "For p1 = 1.83: epsilon1 = -0.2909 and epsilon2 = 0.5333\n",
      "For p1 = 1.86: epsilon1 = -0.2953 and epsilon2 = 0.5493\n",
      "For p1 = 1.89: epsilon1 = -0.2996 and epsilon2 = 0.5653\n",
      "For p1 = 1.91: epsilon1 = -0.3038 and epsilon2 = 0.5813\n",
      "For p1 = 1.94: epsilon1 = -0.3079 and epsilon2 = 0.5973\n",
      "For p1 = 1.97: epsilon1 = -0.3119 and epsilon2 = 0.6133\n",
      "For p1 = 1.99: epsilon1 = -0.3157 and epsilon2 = 0.6293\n",
      "For p1 = 2.02: epsilon1 = -0.3195 and epsilon2 = 0.6453\n",
      "For p1 = 2.05: epsilon1 = -0.3231 and epsilon2 = 0.6613\n",
      "For p1 = 2.07: epsilon1 = -0.3267 and epsilon2 = 0.6773\n",
      "For p1 = 2.10: epsilon1 = -0.3302 and epsilon2 = 0.6933\n",
      "For p1 = 2.13: epsilon1 = -0.3335 and epsilon2 = 0.7093\n",
      "For p1 = 2.15: epsilon1 = -0.3368 and epsilon2 = 0.7253\n",
      "For p1 = 2.18: epsilon1 = -0.3401 and epsilon2 = 0.7413\n",
      "For p1 = 2.21: epsilon1 = -0.3432 and epsilon2 = 0.7573\n",
      "For p1 = 2.23: epsilon1 = -0.3463 and epsilon2 = 0.7733\n",
      "For p1 = 2.26: epsilon1 = -0.3493 and epsilon2 = 0.7893\n",
      "For p1 = 2.29: epsilon1 = -0.3522 and epsilon2 = 0.8053\n",
      "For p1 = 2.31: epsilon1 = -0.3550 and epsilon2 = 0.8213\n",
      "For p1 = 2.34: epsilon1 = -0.3578 and epsilon2 = 0.8373\n",
      "For p1 = 2.37: epsilon1 = -0.3606 and epsilon2 = 0.8533\n",
      "For p1 = 2.39: epsilon1 = -0.3632 and epsilon2 = 0.8693\n",
      "For p1 = 2.42: epsilon1 = -0.3658 and epsilon2 = 0.8853\n",
      "For p1 = 2.45: epsilon1 = -0.3684 and epsilon2 = 0.9013\n",
      "For p1 = 2.47: epsilon1 = -0.3709 and epsilon2 = 0.9173\n",
      "For p1 = 2.50: epsilon1 = -0.3733 and epsilon2 = 0.9333\n",
      "For p1 = 0.50: epsilon1 = 0.5333 and epsilon2 = -0.2667\n",
      "For p1 = 0.55: epsilon1 = 0.4241 and epsilon2 = -0.2347\n",
      "For p1 = 0.58: epsilon1 = 0.3770 and epsilon2 = -0.2187\n",
      "For p1 = 0.61: epsilon1 = 0.3341 and epsilon2 = -0.2027\n",
      "For p1 = 0.63: epsilon1 = 0.2947 and epsilon2 = -0.1867\n",
      "For p1 = 0.66: epsilon1 = 0.2586 and epsilon2 = -0.1707\n",
      "For p1 = 0.69: epsilon1 = 0.2252 and epsilon2 = -0.1547\n",
      "For p1 = 0.71: epsilon1 = 0.1944 and epsilon2 = -0.1387\n",
      "For p1 = 0.74: epsilon1 = 0.1658 and epsilon2 = -0.1227\n",
      "For p1 = 0.77: epsilon1 = 0.1391 and epsilon2 = -0.1067\n",
      "For p1 = 0.79: epsilon1 = 0.1143 and epsilon2 = -0.0907\n",
      "For p1 = 0.82: epsilon1 = 0.0911 and epsilon2 = -0.0747\n",
      "For p1 = 0.85: epsilon1 = 0.0693 and epsilon2 = -0.0587\n",
      "For p1 = 0.87: epsilon1 = 0.0489 and epsilon2 = -0.0427\n",
      "For p1 = 0.90: epsilon1 = 0.0296 and epsilon2 = -0.0267\n",
      "For p1 = 0.93: epsilon1 = 0.0115 and epsilon2 = -0.0107\n",
      "For p1 = 0.95: epsilon1 = -0.0056 and epsilon2 = 0.0053\n",
      "For p1 = 0.98: epsilon1 = -0.0218 and epsilon2 = 0.0213\n",
      "For p1 = 1.01: epsilon1 = -0.0371 and epsilon2 = 0.0373\n",
      "For p1 = 1.03: epsilon1 = -0.0516 and epsilon2 = 0.0533\n",
      "For p1 = 1.06: epsilon1 = -0.0654 and epsilon2 = 0.0693\n",
      "For p1 = 1.09: epsilon1 = -0.0785 and epsilon2 = 0.0853\n",
      "For p1 = 1.11: epsilon1 = -0.0910 and epsilon2 = 0.1013\n",
      "For p1 = 1.14: epsilon1 = -0.1029 and epsilon2 = 0.1173\n",
      "For p1 = 1.17: epsilon1 = -0.1143 and epsilon2 = 0.1333\n",
      "For p1 = 1.19: epsilon1 = -0.1251 and epsilon2 = 0.1493\n",
      "For p1 = 1.22: epsilon1 = -0.1355 and epsilon2 = 0.1653\n",
      "For p1 = 1.25: epsilon1 = -0.1455 and epsilon2 = 0.1813\n",
      "For p1 = 1.27: epsilon1 = -0.1550 and epsilon2 = 0.1973\n",
      "For p1 = 1.30: epsilon1 = -0.1641 and epsilon2 = 0.2133\n",
      "For p1 = 1.33: epsilon1 = -0.1729 and epsilon2 = 0.2293\n",
      "For p1 = 1.35: epsilon1 = -0.1813 and epsilon2 = 0.2453\n",
      "For p1 = 1.38: epsilon1 = -0.1894 and epsilon2 = 0.2613\n",
      "For p1 = 1.41: epsilon1 = -0.1972 and epsilon2 = 0.2773\n",
      "For p1 = 1.43: epsilon1 = -0.2047 and epsilon2 = 0.2933\n",
      "For p1 = 1.46: epsilon1 = -0.2119 and epsilon2 = 0.3093\n",
      "For p1 = 1.49: epsilon1 = -0.2188 and epsilon2 = 0.3253\n",
      "For p1 = 1.51: epsilon1 = -0.2256 and epsilon2 = 0.3413\n",
      "For p1 = 1.54: epsilon1 = -0.2320 and epsilon2 = 0.3573\n",
      "For p1 = 1.57: epsilon1 = -0.2383 and epsilon2 = 0.3733\n",
      "For p1 = 1.59: epsilon1 = -0.2444 and epsilon2 = 0.3893\n",
      "For p1 = 1.62: epsilon1 = -0.2502 and epsilon2 = 0.4053\n",
      "For p1 = 1.65: epsilon1 = -0.2559 and epsilon2 = 0.4213\n",
      "For p1 = 1.67: epsilon1 = -0.2614 and epsilon2 = 0.4373\n",
      "For p1 = 1.70: epsilon1 = -0.2667 and epsilon2 = 0.4533\n",
      "For p1 = 1.73: epsilon1 = -0.2718 and epsilon2 = 0.4693\n",
      "For p1 = 1.75: epsilon1 = -0.2768 and epsilon2 = 0.4853\n",
      "For p1 = 1.78: epsilon1 = -0.2816 and epsilon2 = 0.5013\n",
      "For p1 = 1.81: epsilon1 = -0.2863 and epsilon2 = 0.5173\n",
      "For p1 = 1.83: epsilon1 = -0.2909 and epsilon2 = 0.5333\n",
      "For p1 = 1.86: epsilon1 = -0.2953 and epsilon2 = 0.5493\n",
      "For p1 = 1.89: epsilon1 = -0.2996 and epsilon2 = 0.5653\n",
      "For p1 = 1.91: epsilon1 = -0.3038 and epsilon2 = 0.5813\n",
      "For p1 = 1.94: epsilon1 = -0.3079 and epsilon2 = 0.5973\n",
      "For p1 = 1.97: epsilon1 = -0.3119 and epsilon2 = 0.6133\n",
      "For p1 = 1.99: epsilon1 = -0.3157 and epsilon2 = 0.6293\n",
      "For p1 = 2.02: epsilon1 = -0.3195 and epsilon2 = 0.6453\n",
      "For p1 = 2.05: epsilon1 = -0.3231 and epsilon2 = 0.6613\n",
      "For p1 = 2.07: epsilon1 = -0.3267 and epsilon2 = 0.6773\n",
      "For p1 = 2.10: epsilon1 = -0.3302 and epsilon2 = 0.6933\n",
      "For p1 = 2.13: epsilon1 = -0.3335 and epsilon2 = 0.7093\n",
      "For p1 = 2.15: epsilon1 = -0.3368 and epsilon2 = 0.7253\n",
      "For p1 = 2.18: epsilon1 = -0.3401 and epsilon2 = 0.7413\n",
      "For p1 = 2.21: epsilon1 = -0.3432 and epsilon2 = 0.7573\n",
      "For p1 = 2.23: epsilon1 = -0.3463 and epsilon2 = 0.7733\n",
      "For p1 = 2.26: epsilon1 = -0.3493 and epsilon2 = 0.7893\n",
      "For p1 = 2.29: epsilon1 = -0.3522 and epsilon2 = 0.8053\n",
      "For p1 = 2.31: epsilon1 = -0.3550 and epsilon2 = 0.8213\n",
      "For p1 = 2.34: epsilon1 = -0.3578 and epsilon2 = 0.8373\n",
      "For p1 = 2.37: epsilon1 = -0.3606 and epsilon2 = 0.8533\n",
      "For p1 = 2.39: epsilon1 = -0.3632 and epsilon2 = 0.8693\n",
      "For p1 = 2.42: epsilon1 = -0.3658 and epsilon2 = 0.8853\n",
      "For p1 = 2.45: epsilon1 = -0.3684 and epsilon2 = 0.9013\n",
      "For p1 = 2.47: epsilon1 = -0.3709 and epsilon2 = 0.9173\n",
      "For p1 = 2.50: epsilon1 = -0.3733 and epsilon2 = 0.9333\n",
      "For p1 = 0.50: epsilon1 = 0.5333 and epsilon2 = -0.2667\n",
      "For p1 = 0.55: epsilon1 = 0.4241 and epsilon2 = -0.2347\n",
      "For p1 = 0.58: epsilon1 = 0.3770 and epsilon2 = -0.2187\n",
      "For p1 = 0.61: epsilon1 = 0.3341 and epsilon2 = -0.2027\n",
      "For p1 = 0.63: epsilon1 = 0.2947 and epsilon2 = -0.1867\n",
      "For p1 = 0.66: epsilon1 = 0.2586 and epsilon2 = -0.1707\n",
      "For p1 = 0.69: epsilon1 = 0.2252 and epsilon2 = -0.1547\n",
      "For p1 = 0.71: epsilon1 = 0.1944 and epsilon2 = -0.1387\n",
      "For p1 = 0.74: epsilon1 = 0.1658 and epsilon2 = -0.1227\n",
      "For p1 = 0.77: epsilon1 = 0.1391 and epsilon2 = -0.1067\n",
      "For p1 = 0.79: epsilon1 = 0.1143 and epsilon2 = -0.0907\n",
      "For p1 = 0.82: epsilon1 = 0.0911 and epsilon2 = -0.0747\n",
      "For p1 = 0.85: epsilon1 = 0.0693 and epsilon2 = -0.0587\n",
      "For p1 = 0.87: epsilon1 = 0.0489 and epsilon2 = -0.0427\n",
      "For p1 = 0.90: epsilon1 = 0.0296 and epsilon2 = -0.0267\n",
      "For p1 = 0.93: epsilon1 = 0.0115 and epsilon2 = -0.0107\n",
      "For p1 = 0.95: epsilon1 = -0.0056 and epsilon2 = 0.0053\n",
      "For p1 = 0.98: epsilon1 = -0.0218 and epsilon2 = 0.0213\n",
      "For p1 = 1.01: epsilon1 = -0.0371 and epsilon2 = 0.0373\n",
      "For p1 = 1.03: epsilon1 = -0.0516 and epsilon2 = 0.0533\n",
      "For p1 = 1.06: epsilon1 = -0.0654 and epsilon2 = 0.0693\n",
      "For p1 = 1.09: epsilon1 = -0.0785 and epsilon2 = 0.0853\n",
      "For p1 = 1.11: epsilon1 = -0.0910 and epsilon2 = 0.1013\n",
      "For p1 = 1.14: epsilon1 = -0.1029 and epsilon2 = 0.1173\n",
      "For p1 = 1.17: epsilon1 = -0.1143 and epsilon2 = 0.1333\n",
      "For p1 = 1.19: epsilon1 = -0.1251 and epsilon2 = 0.1493\n",
      "For p1 = 1.22: epsilon1 = -0.1355 and epsilon2 = 0.1653\n",
      "For p1 = 1.25: epsilon1 = -0.1455 and epsilon2 = 0.1813\n",
      "For p1 = 1.27: epsilon1 = -0.1550 and epsilon2 = 0.1973\n",
      "For p1 = 1.30: epsilon1 = -0.1641 and epsilon2 = 0.2133\n",
      "For p1 = 1.33: epsilon1 = -0.1729 and epsilon2 = 0.2293\n",
      "For p1 = 1.35: epsilon1 = -0.1813 and epsilon2 = 0.2453\n",
      "For p1 = 1.38: epsilon1 = -0.1894 and epsilon2 = 0.2613\n",
      "For p1 = 1.41: epsilon1 = -0.1972 and epsilon2 = 0.2773\n",
      "For p1 = 1.43: epsilon1 = -0.2047 and epsilon2 = 0.2933\n",
      "For p1 = 1.46: epsilon1 = -0.2119 and epsilon2 = 0.3093\n",
      "For p1 = 1.49: epsilon1 = -0.2188 and epsilon2 = 0.3253\n",
      "For p1 = 1.51: epsilon1 = -0.2256 and epsilon2 = 0.3413\n",
      "For p1 = 1.54: epsilon1 = -0.2320 and epsilon2 = 0.3573\n",
      "For p1 = 1.57: epsilon1 = -0.2383 and epsilon2 = 0.3733\n",
      "For p1 = 1.59: epsilon1 = -0.2444 and epsilon2 = 0.3893\n",
      "For p1 = 1.62: epsilon1 = -0.2502 and epsilon2 = 0.4053\n",
      "For p1 = 1.65: epsilon1 = -0.2559 and epsilon2 = 0.4213\n",
      "For p1 = 1.67: epsilon1 = -0.2614 and epsilon2 = 0.4373\n",
      "For p1 = 1.70: epsilon1 = -0.2667 and epsilon2 = 0.4533\n",
      "For p1 = 1.73: epsilon1 = -0.2718 and epsilon2 = 0.4693\n",
      "For p1 = 1.75: epsilon1 = -0.2768 and epsilon2 = 0.4853\n",
      "For p1 = 1.78: epsilon1 = -0.2816 and epsilon2 = 0.5013\n",
      "For p1 = 1.81: epsilon1 = -0.2863 and epsilon2 = 0.5173\n",
      "For p1 = 1.83: epsilon1 = -0.2909 and epsilon2 = 0.5333\n",
      "For p1 = 1.86: epsilon1 = -0.2953 and epsilon2 = 0.5493\n",
      "For p1 = 1.89: epsilon1 = -0.2996 and epsilon2 = 0.5653\n",
      "For p1 = 1.91: epsilon1 = -0.3038 and epsilon2 = 0.5813\n",
      "For p1 = 1.94: epsilon1 = -0.3079 and epsilon2 = 0.5973\n",
      "For p1 = 1.97: epsilon1 = -0.3119 and epsilon2 = 0.6133\n",
      "For p1 = 1.99: epsilon1 = -0.3157 and epsilon2 = 0.6293\n",
      "For p1 = 2.02: epsilon1 = -0.3195 and epsilon2 = 0.6453\n",
      "For p1 = 2.05: epsilon1 = -0.3231 and epsilon2 = 0.6613\n",
      "For p1 = 2.07: epsilon1 = -0.3267 and epsilon2 = 0.6773\n",
      "For p1 = 2.10: epsilon1 = -0.3302 and epsilon2 = 0.6933\n",
      "For p1 = 2.13: epsilon1 = -0.3335 and epsilon2 = 0.7093\n",
      "For p1 = 2.15: epsilon1 = -0.3368 and epsilon2 = 0.7253\n",
      "For p1 = 2.18: epsilon1 = -0.3401 and epsilon2 = 0.7413\n",
      "For p1 = 2.21: epsilon1 = -0.3432 and epsilon2 = 0.7573\n",
      "For p1 = 2.23: epsilon1 = -0.3463 and epsilon2 = 0.7733\n",
      "For p1 = 2.26: epsilon1 = -0.3493 and epsilon2 = 0.7893\n",
      "For p1 = 2.29: epsilon1 = -0.3522 and epsilon2 = 0.8053\n",
      "For p1 = 2.31: epsilon1 = -0.3550 and epsilon2 = 0.8213\n",
      "For p1 = 2.34: epsilon1 = -0.3578 and epsilon2 = 0.8373\n",
      "For p1 = 2.37: epsilon1 = -0.3606 and epsilon2 = 0.8533\n",
      "For p1 = 2.39: epsilon1 = -0.3632 and epsilon2 = 0.8693\n",
      "For p1 = 2.42: epsilon1 = -0.3658 and epsilon2 = 0.8853\n",
      "For p1 = 2.45: epsilon1 = -0.3684 and epsilon2 = 0.9013\n",
      "For p1 = 2.47: epsilon1 = -0.3709 and epsilon2 = 0.9173\n",
      "For p1 = 2.50: epsilon1 = -0.3733 and epsilon2 = 0.9333\n"
     ]
    },
    {
     "data": {
      "image/png": "[encoded data removed]",
      "text/plain": [
       "<Figure size 640x480 with 1 Axes>"
      ]
     },
     "metadata": {},
     "output_type": "display_data"
    }
   ],
   "source": [
    "# Calculating the errors, where N = 75\n",
    "economy.calc_eps(N = 75)\n",
    "\n",
    "# Plotting the errors\n",
    "economy.plot_eps(N = 75)\n"
   ]
  },
  {
   "cell_type": "markdown",
   "metadata": {},
   "source": [
    "**3. The market clearing price**"
   ]
  },
  {
   "cell_type": "markdown",
   "metadata": {},
   "source": [
    "To find the market clearing price, we start by setting an intial guess of p1, and a tolerance level for how close the errors has to be to zero before we accept the market clearing price. We do this by an itterative search, which takes the conditions into account, and combines the error terms such that we find a price for which the errors together are minimised. When the errors are within the tolerance level, we get a price for which the market clears. If the errors does not get close enough to zero the code prints \"No price found where the market clears\".\n",
    "\n",
    "(A lot of the code beneath should be put into the py file, but we could not make it work)"
   ]
  },
  {
   "cell_type": "code",
   "execution_count": 31,
   "metadata": {},
   "outputs": [
    {
     "name": "stdout",
     "output_type": "stream",
     "text": [
      "Minimum combined error: 1.5090938108451628e-07 at price: 0.94400\n",
      "Epsilon1: 0.0002824858757060622, Epsilon2: -0.0002666666666666373\n"
     ]
    },
    {
     "data": {
      "text/plain": [
       "{'Optimal Price for Consumer A': '0.944'}"
      ]
     },
     "execution_count": 31,
     "metadata": {},
     "output_type": "execute_result"
    }
   ],
   "source": [
    "# Find market clearing and print results\n",
    "economy.solve_3()"
   ]
  },
  {
   "cell_type": "markdown",
   "metadata": {},
   "source": [
    "This means that the market clearing price is 0.944, and is found where eps1 = 0.0003 and eps2 = -0.0003, which is inside our tolerance level. "
   ]
  },
  {
   "cell_type": "markdown",
   "metadata": {},
   "source": [
    "**4a. Find the allocation if only prices in P1 can be chosen**\n",
    "\n",
    "To solve the maximation problem, we first define an objective function to return the utility for A. As the optimizer is by default minimizing, we return the negative value of utility. Next, we call the solver function, minizing our just defined objective function within the bounds (0.5, 2.5), meaning p1 is defined within P1. Lastly, we unpack the solution set from the optimization, and solve for the allocation with the given price.  "
   ]
  },
  {
   "cell_type": "code",
   "execution_count": 32,
   "metadata": {},
   "outputs": [
    {
     "name": "stdout",
     "output_type": "stream",
     "text": [
      "x1A: 0.3193, x2A: 1.2130, x1B: 0.3790, x2B: 0.3600, p1: 1.8993, utility: 0.7774\n"
     ]
    },
    {
     "data": {
      "text/plain": [
       " message: Solution found.\n",
       " success: True\n",
       "  status: 0\n",
       "     fun: -0.6336208506936606\n",
       "       x: 1.899346192955355\n",
       "     nit: 9\n",
       "    nfev: 9"
      ]
     },
     "execution_count": 32,
     "metadata": {},
     "output_type": "execute_result"
    }
   ],
   "source": [
    "# We import our function defined in ExchangeEconomyClass to solve for the allocation, given the conditions.\n",
    "\n",
    "economy.solve_4a()"
   ]
  },
  {
   "cell_type": "markdown",
   "metadata": {},
   "source": [
    "This implies that the optimal allocation if only prices in P1 can be chosen is: x1A = 0.32, x2A = 1.21, x1B = 0.38, x2B = 0.36 and p1 = 1.90, for which we get the max utility of 0.78."
   ]
  },
  {
   "cell_type": "markdown",
   "metadata": {},
   "source": [
    "**4b. Find the allocation when any positive price can be chosen**\n",
    "\n",
    "In the same way as above we import the function defined under the given conditions."
   ]
  },
  {
   "cell_type": "code",
   "execution_count": 33,
   "metadata": {},
   "outputs": [
    {
     "name": "stdout",
     "output_type": "stream",
     "text": [
      "x1A: 0.3193, x2A: 1.2130, x1B: 0.3790, x2B: 0.3600, p1: 1.8993, utility: 0.7774\n"
     ]
    },
    {
     "data": {
      "text/plain": [
       " message: Solution found.\n",
       " success: True\n",
       "  status: 0\n",
       "     fun: -0.6336208506935825\n",
       "       x: 1.899344670305824\n",
       "     nit: 13\n",
       "    nfev: 13"
      ]
     },
     "execution_count": 33,
     "metadata": {},
     "output_type": "execute_result"
    }
   ],
   "source": [
    "# We import our function defined in ExchangeEconomyClass to solve for the allocation, given the conditions.\n",
    "economy.solve_4b()"
   ]
  },
  {
   "cell_type": "markdown",
   "metadata": {},
   "source": [
    "This implies that we actually get the same allocation as in 4a. The optimal allocation if any positive prices can be chosen is: x1A = 0.32, x2A = 1.21, x1B = 0.38, x2B = 0.36 and p1 = 1.90, for which we get the max utility of 0.78."
   ]
  },
  {
   "cell_type": "markdown",
   "metadata": {},
   "source": [
    "**5a. Find the allocation if the choice set is restricted to *C*.** \n",
    "\n",
    "(The function in the py file does not give an output, but we have tried to set up a code, which explains our thoughts on how to approach the problem.)"
   ]
  },
  {
   "cell_type": "code",
   "execution_count": 34,
   "metadata": {},
   "outputs": [
    {
     "data": {
      "text/plain": [
       "{'Optimal Price for Consumer A': '0.136',\n",
       " 'Maximum Utility of Consumer A': '0.742',\n",
       " 'Allocation of x1A': '0.581',\n",
       " 'Allocation of x2A': '0.838',\n",
       " 'Allocation of x1B': '0.419',\n",
       " 'Allocation of x2B': '0.162'}"
      ]
     },
     "execution_count": 34,
     "metadata": {},
     "output_type": "execute_result"
    }
   ],
   "source": [
    "# We import our function defined in ExchangeEconomyClass to solve for the allocation, given the conditions in C.\n",
    "economy.solve_5a()"
   ]
  },
  {
   "cell_type": "markdown",
   "metadata": {},
   "source": [
    "When the allocations are restricted to the choice set C, we find that consumer A consumes more than consumer B of both goods, however relatively more of x2. "
   ]
  },
  {
   "cell_type": "markdown",
   "metadata": {},
   "source": [
    "**5b. Find the allocation if no further restrictions are imposed**"
   ]
  },
  {
   "cell_type": "code",
   "execution_count": 35,
   "metadata": {},
   "outputs": [
    {
     "data": {
      "text/plain": [
       "{'Optimal Price for Consumer A': '0.429',\n",
       " 'Maximum Utility of Consumer A': '0.500',\n",
       " 'Allocation of x1A': '0.500',\n",
       " 'Allocation of x2A': '0.500',\n",
       " 'Allocation of x1B': '0.500',\n",
       " 'Allocation of x2B': '0.500'}"
      ]
     },
     "execution_count": 35,
     "metadata": {},
     "output_type": "execute_result"
    }
   ],
   "source": [
    "economy.solve_5b()"
   ]
  },
  {
   "cell_type": "markdown",
   "metadata": {},
   "source": [
    "We find that consumption levels without further restrictions are allocated evenly between the two consumers at a price of 0.43.\n",
    "\n",
    "Now, we assume that the consumption levels are chosen by a utilitarian social planner.\n",
    "\n",
    "**6a. Find the resulting allocation**"
   ]
  },
  {
   "cell_type": "code",
   "execution_count": 36,
   "metadata": {},
   "outputs": [
    {
     "data": {
      "text/plain": [
       "{'Optimal Price for Consumer A': '1.498',\n",
       " 'Maximum Utility of Consumer A': '0.529',\n",
       " 'Allocation of x1A': '0.333',\n",
       " 'Allocation of x2A': '0.667',\n",
       " 'Allocation of x1B': '0.667',\n",
       " 'Allocation of x2B': '0.333'}"
      ]
     },
     "execution_count": 36,
     "metadata": {},
     "output_type": "execute_result"
    }
   ],
   "source": [
    "economy.solve_6a()"
   ]
  },
  {
   "cell_type": "markdown",
   "metadata": {},
   "source": [
    "The resulting allocation after the utilitarian social planner maximizes the aggregate utility, we find that the optimal price is given by 1.5, and utility for consumer A is 0.5."
   ]
  },
  {
   "cell_type": "markdown",
   "metadata": {},
   "source": [
    "**6b. Comparing to other results**"
   ]
  },
  {
   "cell_type": "code",
   "execution_count": 37,
   "metadata": {},
   "outputs": [
    {
     "data": {
      "text/html": [
       "<div>\n",
       "<style scoped>\n",
       "    .dataframe tbody tr th:only-of-type {\n",
       "        vertical-align: middle;\n",
       "    }\n",
       "\n",
       "    .dataframe tbody tr th {\n",
       "        vertical-align: top;\n",
       "    }\n",
       "\n",
       "    .dataframe thead th {\n",
       "        text-align: right;\n",
       "    }\n",
       "</style>\n",
       "<table border=\"1\" class=\"dataframe\">\n",
       "  <thead>\n",
       "    <tr style=\"text-align: right;\">\n",
       "      <th></th>\n",
       "      <th>Optimal Price for Consumer A</th>\n",
       "      <th>Maximum Utility of Consumer A</th>\n",
       "      <th>Allocation of x1A</th>\n",
       "      <th>Allocation of x2A</th>\n",
       "      <th>Allocation of x1B</th>\n",
       "      <th>Allocation of x2B</th>\n",
       "    </tr>\n",
       "  </thead>\n",
       "  <tbody>\n",
       "    <tr>\n",
       "      <th>3</th>\n",
       "      <td>0.944</td>\n",
       "      <td>NaN</td>\n",
       "      <td>NaN</td>\n",
       "      <td>NaN</td>\n",
       "      <td>NaN</td>\n",
       "      <td>NaN</td>\n",
       "    </tr>\n",
       "    <tr>\n",
       "      <th>5a</th>\n",
       "      <td>0.136</td>\n",
       "      <td>0.742</td>\n",
       "      <td>0.581</td>\n",
       "      <td>0.838</td>\n",
       "      <td>0.419</td>\n",
       "      <td>0.162</td>\n",
       "    </tr>\n",
       "    <tr>\n",
       "      <th>5b</th>\n",
       "      <td>0.429</td>\n",
       "      <td>0.500</td>\n",
       "      <td>0.500</td>\n",
       "      <td>0.500</td>\n",
       "      <td>0.500</td>\n",
       "      <td>0.500</td>\n",
       "    </tr>\n",
       "    <tr>\n",
       "      <th>6a</th>\n",
       "      <td>1.498</td>\n",
       "      <td>0.529</td>\n",
       "      <td>0.333</td>\n",
       "      <td>0.667</td>\n",
       "      <td>0.667</td>\n",
       "      <td>0.333</td>\n",
       "    </tr>\n",
       "  </tbody>\n",
       "</table>\n",
       "</div>"
      ],
      "text/plain": [
       "   Optimal Price for Consumer A Maximum Utility of Consumer A  \\\n",
       "3                         0.944                           NaN   \n",
       "5a                        0.136                         0.742   \n",
       "5b                        0.429                         0.500   \n",
       "6a                        1.498                         0.529   \n",
       "\n",
       "   Allocation of x1A Allocation of x2A Allocation of x1B Allocation of x2B  \n",
       "3                NaN               NaN               NaN               NaN  \n",
       "5a             0.581             0.838             0.419             0.162  \n",
       "5b             0.500             0.500             0.500             0.500  \n",
       "6a             0.333             0.667             0.667             0.333  "
      ]
     },
     "metadata": {},
     "output_type": "display_data"
    }
   ],
   "source": [
    "economy.solve_6b()\n"
   ]
  },
  {
   "cell_type": "markdown",
   "metadata": {},
   "source": [
    "From the table above, we see the price, utility and allocation of the two goods between the two consumers are shown. \n",
    "Regarding the optimal price, we see that for question 3 the price is 9.4 which was for the price beeing in the set P1. In 5a we impose the restriction, that allocation is restricted to being in C, the price falls (compared to 3) to 0.13. In 5b there is no more restrictions, and hence we see that the price increases to 4.3. Finally we see that in 6a, from the social planner, the price is at its highest at 1.5. \n",
    "\n",
    "Solution 3 is kind of unique as we only have the optimal price for allocation, therefore the futher comparison will be between the later 3 solutions. Wee see that as the price increases from 5a to 5b, the utility for consumer A drops, hence the consumption of good 1 and 2 for consumer a drops as the price increases. As the consumption for consumer A drops, the consumption for consumer B increases hence their utility must increase, all things equal. \n",
    "\n",
    "In the last solution, 6a, we see that as the price increases to the highest of the solutions to 1.5, the utility for consumer A actually increases compared to solution 5b. This might be explained by the restrictions being removed, and therefore the allocation between the two consumer are able to move more freely, hence given a more equal output (max utility)."
   ]
  },
  {
   "cell_type": "markdown",
   "metadata": {},
   "source": [
    "**7. Draw a set W with 50 elements**"
   ]
  },
  {
   "cell_type": "code",
   "execution_count": 38,
   "metadata": {},
   "outputs": [
    {
     "name": "stdout",
     "output_type": "stream",
     "text": [
      "Elements of W:\n",
      "Element 1: w1A = 0.5757, w2A = 0.1814\n",
      "Element 2: w1A = 0.5829, w2A = 0.9713\n",
      "Element 3: w1A = 0.7326, w2A = 0.1443\n",
      "Element 4: w1A = 0.9838, w2A = 0.3219\n",
      "Element 5: w1A = 0.1177, w2A = 0.1626\n",
      "Element 6: w1A = 0.7717, w2A = 0.9600\n",
      "Element 7: w1A = 0.0330, w2A = 0.8137\n",
      "Element 8: w1A = 0.1712, w2A = 0.8033\n",
      "Element 9: w1A = 0.6737, w2A = 0.2728\n",
      "Element 10: w1A = 0.5499, w2A = 0.6040\n",
      "Element 11: w1A = 0.9665, w2A = 0.4904\n",
      "Element 12: w1A = 0.7095, w2A = 0.8291\n",
      "Element 13: w1A = 0.7502, w2A = 0.0564\n",
      "Element 14: w1A = 0.9531, w2A = 0.8761\n",
      "Element 15: w1A = 0.2554, w2A = 0.1314\n",
      "Element 16: w1A = 0.4203, w2A = 0.6918\n",
      "Element 17: w1A = 0.3138, w2A = 0.7937\n",
      "Element 18: w1A = 0.7914, w2A = 0.5607\n",
      "Element 19: w1A = 0.7969, w2A = 0.5798\n",
      "Element 20: w1A = 0.8657, w2A = 0.8495\n",
      "Element 21: w1A = 0.0652, w2A = 0.1529\n",
      "Element 22: w1A = 0.6476, w2A = 0.9063\n",
      "Element 23: w1A = 0.8877, w2A = 0.0616\n",
      "Element 24: w1A = 0.2034, w2A = 0.4847\n",
      "Element 25: w1A = 0.1404, w2A = 0.4247\n",
      "Element 26: w1A = 0.6759, w2A = 0.3210\n",
      "Element 27: w1A = 0.3095, w2A = 0.7851\n",
      "Element 28: w1A = 0.8448, w2A = 0.0664\n",
      "Element 29: w1A = 0.4572, w2A = 0.6478\n",
      "Element 30: w1A = 0.9192, w2A = 0.5064\n",
      "Element 31: w1A = 0.8202, w2A = 0.0430\n",
      "Element 32: w1A = 0.5496, w2A = 0.4428\n",
      "Element 33: w1A = 0.9700, w2A = 0.8742\n",
      "Element 34: w1A = 0.1491, w2A = 0.8973\n",
      "Element 35: w1A = 0.0316, w2A = 0.2978\n",
      "Element 36: w1A = 0.1650, w2A = 0.4252\n",
      "Element 37: w1A = 0.3495, w2A = 0.1101\n",
      "Element 38: w1A = 0.1180, w2A = 0.2288\n",
      "Element 39: w1A = 0.1271, w2A = 0.0324\n",
      "Element 40: w1A = 0.6468, w2A = 0.3378\n",
      "Element 41: w1A = 0.6351, w2A = 0.3044\n",
      "Element 42: w1A = 0.5007, w2A = 0.1601\n",
      "Element 43: w1A = 0.8579, w2A = 0.9103\n",
      "Element 44: w1A = 0.5463, w2A = 0.7283\n",
      "Element 45: w1A = 0.3838, w2A = 0.1896\n",
      "Element 46: w1A = 0.3484, w2A = 0.4984\n",
      "Element 47: w1A = 0.4685, w2A = 0.4272\n",
      "Element 48: w1A = 0.8440, w2A = 0.4066\n",
      "Element 49: w1A = 0.5885, w2A = 0.2288\n",
      "Element 50: w1A = 0.7699, w2A = 0.3751\n",
      "\n",
      "The number of elements in W is: 50\n"
     ]
    },
    {
     "data": {
      "text/plain": [
       "array([[0.57570127, 0.18137903],\n",
       "       [0.58293298, 0.9713274 ],\n",
       "       [0.73260525, 0.144271  ],\n",
       "       [0.98380786, 0.32189959],\n",
       "       [0.11767713, 0.16258085],\n",
       "       [0.77166558, 0.96001979],\n",
       "       [0.0329548 , 0.81370008],\n",
       "       [0.17124632, 0.80331216],\n",
       "       [0.673723  , 0.27277802],\n",
       "       [0.54989848, 0.60400951],\n",
       "       [0.96649238, 0.49038432],\n",
       "       [0.70953529, 0.8290794 ],\n",
       "       [0.75023403, 0.05636848],\n",
       "       [0.95314403, 0.87610908],\n",
       "       [0.25543436, 0.13142977],\n",
       "       [0.42034175, 0.69184303],\n",
       "       [0.31379904, 0.79371377],\n",
       "       [0.79136312, 0.56071253],\n",
       "       [0.79691386, 0.57984681],\n",
       "       [0.86573884, 0.8494813 ],\n",
       "       [0.0652272 , 0.1529068 ],\n",
       "       [0.64761277, 0.90629192],\n",
       "       [0.88773417, 0.06162344],\n",
       "       [0.20344303, 0.48469102],\n",
       "       [0.14044161, 0.42469677],\n",
       "       [0.67586515, 0.32099863],\n",
       "       [0.30946626, 0.78514512],\n",
       "       [0.84481287, 0.06638592],\n",
       "       [0.45718841, 0.64782028],\n",
       "       [0.91920701, 0.5064333 ],\n",
       "       [0.82024266, 0.04296863],\n",
       "       [0.54959082, 0.44275414],\n",
       "       [0.97001553, 0.87415812],\n",
       "       [0.14912533, 0.89725844],\n",
       "       [0.03158285, 0.29781196],\n",
       "       [0.16502475, 0.42517419],\n",
       "       [0.3494646 , 0.11010815],\n",
       "       [0.11804159, 0.22882022],\n",
       "       [0.12710634, 0.03239895],\n",
       "       [0.64683613, 0.33783286],\n",
       "       [0.63511327, 0.30444418],\n",
       "       [0.50073899, 0.16011475],\n",
       "       [0.85793693, 0.91026125],\n",
       "       [0.54628477, 0.72833295],\n",
       "       [0.38379449, 0.18958893],\n",
       "       [0.34835241, 0.49838488],\n",
       "       [0.46849914, 0.42718176],\n",
       "       [0.84400858, 0.40658918],\n",
       "       [0.58853848, 0.22883601],\n",
       "       [0.76985498, 0.37513034]])"
      ]
     },
     "execution_count": 38,
     "metadata": {},
     "output_type": "execute_result"
    }
   ],
   "source": [
    "economy.solve_7()"
   ]
  },
  {
   "cell_type": "markdown",
   "metadata": {},
   "source": [
    "**8. Find market equilibrium allocation and plot in Edgeworth box**"
   ]
  },
  {
   "cell_type": "code",
   "execution_count": 39,
   "metadata": {},
   "outputs": [
    {
     "name": "stdout",
     "output_type": "stream",
     "text": [
      "Elements of W:\n",
      "Element 1: w1A = 0.2916, w2A = 0.7797\n",
      "Element 2: w1A = 0.5216, w2A = 0.4348\n",
      "Element 3: w1A = 0.0787, w2A = 0.0894\n",
      "Element 4: w1A = 0.1655, w2A = 0.7645\n",
      "Element 5: w1A = 0.9161, w2A = 0.4225\n",
      "Element 6: w1A = 0.2599, w2A = 0.8479\n",
      "Element 7: w1A = 0.2233, w2A = 0.6389\n",
      "Element 8: w1A = 0.5739, w2A = 0.7804\n",
      "Element 9: w1A = 0.4777, w2A = 0.0845\n",
      "Element 10: w1A = 0.1895, w2A = 0.3105\n",
      "Element 11: w1A = 0.4534, w2A = 0.1317\n",
      "Element 12: w1A = 0.3566, w2A = 0.9604\n",
      "Element 13: w1A = 0.6494, w2A = 0.9861\n",
      "Element 14: w1A = 0.1966, w2A = 0.7934\n",
      "Element 15: w1A = 0.5507, w2A = 0.4600\n",
      "Element 16: w1A = 0.2228, w2A = 0.2852\n",
      "Element 17: w1A = 0.9844, w2A = 0.8240\n",
      "Element 18: w1A = 0.5120, w2A = 0.1960\n",
      "Element 19: w1A = 0.9328, w2A = 0.2149\n",
      "Element 20: w1A = 0.7528, w2A = 0.1569\n",
      "Element 21: w1A = 0.7882, w2A = 0.9370\n",
      "Element 22: w1A = 0.2226, w2A = 0.0552\n",
      "Element 23: w1A = 0.0821, w2A = 0.9843\n",
      "Element 24: w1A = 0.0419, w2A = 0.1135\n",
      "Element 25: w1A = 0.2405, w2A = 0.2322\n",
      "Element 26: w1A = 0.9442, w2A = 0.9566\n",
      "Element 27: w1A = 0.4289, w2A = 0.2813\n",
      "Element 28: w1A = 0.3565, w2A = 0.8140\n",
      "Element 29: w1A = 0.2191, w2A = 0.3203\n",
      "Element 30: w1A = 0.8726, w2A = 0.9660\n",
      "Element 31: w1A = 0.8527, w2A = 0.6288\n",
      "Element 32: w1A = 0.7992, w2A = 0.9734\n",
      "Element 33: w1A = 0.5268, w2A = 0.5629\n",
      "Element 34: w1A = 0.3764, w2A = 0.8007\n",
      "Element 35: w1A = 0.5779, w2A = 0.6151\n",
      "Element 36: w1A = 0.9983, w2A = 0.5737\n",
      "Element 37: w1A = 0.8812, w2A = 0.8463\n",
      "Element 38: w1A = 0.4528, w2A = 0.6398\n",
      "Element 39: w1A = 0.8005, w2A = 0.7345\n",
      "Element 40: w1A = 0.5094, w2A = 0.3706\n",
      "Element 41: w1A = 0.0483, w2A = 0.9921\n",
      "Element 42: w1A = 0.7401, w2A = 0.1211\n",
      "Element 43: w1A = 0.5270, w2A = 0.9571\n",
      "Element 44: w1A = 0.9119, w2A = 0.2792\n",
      "Element 45: w1A = 0.3098, w2A = 0.8790\n",
      "Element 46: w1A = 0.5877, w2A = 0.9962\n",
      "Element 47: w1A = 0.9222, w2A = 0.4094\n",
      "Element 48: w1A = 0.8132, w2A = 0.8056\n",
      "Element 49: w1A = 0.8863, w2A = 0.0130\n",
      "Element 50: w1A = 0.1930, w2A = 0.1840\n",
      "\n",
      "The number of elements in W is: 50\n"
     ]
    },
    {
     "data": {
      "image/png": "[encoded data removed]",
      "text/plain": [
       "<Figure size 800x600 with 1 Axes>"
      ]
     },
     "metadata": {},
     "output_type": "display_data"
    }
   ],
   "source": [
    "# Call the solve_7 method to generate the set W of omega values\n",
    "W = economy.solve_7()\n",
    "\n",
    "# Call the find_market_equilibrium method with W as an argument\n",
    "market_equilibrium_allocations_A, market_equilibrium_allocations_B = economy.solve_8(W)"
   ]
  }
 ],
 "metadata": {
  "kernelspec": {
   "display_name": "base",
   "language": "python",
   "name": "python3"
  },
  "language_info": {
   "codemirror_mode": {
    "name": "ipython",
    "version": 3
   },
   "file_extension": ".py",
   "mimetype": "text/x-python",
   "name": "python",
   "nbconvert_exporter": "python",
   "pygments_lexer": "ipython3",
   "version": "3.11.8"
  },
  "toc-autonumbering": true,
  "vscode": {
   "interpreter": {
    "hash": "47ef90cdf3004d3f859f1fb202523c65c07ba7c22eefd261b181f4744e2d0403"
   }
  }
 },
 "nbformat": 4,
 "nbformat_minor": 4
}
