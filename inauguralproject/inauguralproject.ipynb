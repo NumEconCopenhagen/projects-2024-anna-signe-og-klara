{
 "cells": [
  {
   "cell_type": "markdown",
   "metadata": {},
   "source": [
    "# Inaugural Project - Anna, Signe and Klara"
   ]
  },
  {
   "cell_type": "markdown",
   "metadata": {},
   "source": [
    "This project examines the solution to an exchange economy with two consumers. We calibrate and solve the model to find allocations and prices, and finally we illustrate the answers. "
   ]
  },
  {
   "cell_type": "markdown",
   "metadata": {},
   "source": [
    "# Imports and set magics:"
   ]
  },
  {
   "cell_type": "code",
   "execution_count": 1,
   "metadata": {},
   "outputs": [],
   "source": [
    "import numpy as np\n",
    "import matplotlib.pyplot as plt\n",
    "from scipy import optimize\n",
    "from scipy.optimize import minimize\n",
    "\n",
    "# autoreload modules when code is run. Otherwise, python will not see recent changes. \n",
    "%load_ext autoreload\n",
    "%autoreload 2\n",
    "\n",
    "# We import our project from the py-file\n",
    "from inauguralproject import ExchangeEconomyClass\n",
    "\n",
    "# We import our class\n",
    "economy = ExchangeEconomyClass()"
   ]
  },
  {
   "cell_type": "markdown",
   "metadata": {},
   "source": [
    "# Answers to questions"
   ]
  },
  {
   "cell_type": "markdown",
   "metadata": {},
   "source": [
    "**1. Illustrating the Edgeworth box**"
   ]
  },
  {
   "cell_type": "code",
   "execution_count": 2,
   "metadata": {},
   "outputs": [
    {
     "data": {
      "image/png": "[encoded data removed]",
      "text/plain": [
       "<Figure size 640x480 with 1 Axes>"
      ]
     },
     "metadata": {},
     "output_type": "display_data"
    }
   ],
   "source": [
    "# We plot the Edgeworth box, using the function defined in ExchangeEconomyClass.\n",
    "economy.plot_edgeworth_box(75)"
   ]
  },
  {
   "cell_type": "markdown",
   "metadata": {},
   "source": [
    "**2. Error in the market clearing conditions**"
   ]
  },
  {
   "cell_type": "markdown",
   "metadata": {},
   "source": [
    "In order to calculate the error in the market clearing condition for p1 in P1 we start by defining the number of times we whish to check the price level. We initialize p1 at 0.5 and in increments of 75 until p1 = 2.5 we calculate the two epsilons (defined as given) and hereby calculate the excess demand of the two goods. \n",
    "We print the values and store them in a dictionary. \n",
    "From this dictionary we plot the two epsilons as a function of the price p1."
   ]
  },
  {
   "cell_type": "code",
   "execution_count": 3,
   "metadata": {},
   "outputs": [
    {
     "name": "stdout",
     "output_type": "stream",
     "text": [
      "For p1 = 0.50: epsilon1 = 0.5333 and epsilon2 = -0.2667\n",
      "For p1 = 0.55: epsilon1 = 0.4241 and epsilon2 = -0.2347\n",
      "For p1 = 0.58: epsilon1 = 0.3770 and epsilon2 = -0.2187\n",
      "For p1 = 0.61: epsilon1 = 0.3341 and epsilon2 = -0.2027\n",
      "For p1 = 0.63: epsilon1 = 0.2947 and epsilon2 = -0.1867\n",
      "For p1 = 0.66: epsilon1 = 0.2586 and epsilon2 = -0.1707\n",
      "For p1 = 0.69: epsilon1 = 0.2252 and epsilon2 = -0.1547\n",
      "For p1 = 0.71: epsilon1 = 0.1944 and epsilon2 = -0.1387\n",
      "For p1 = 0.74: epsilon1 = 0.1658 and epsilon2 = -0.1227\n",
      "For p1 = 0.77: epsilon1 = 0.1391 and epsilon2 = -0.1067\n",
      "For p1 = 0.79: epsilon1 = 0.1143 and epsilon2 = -0.0907\n",
      "For p1 = 0.82: epsilon1 = 0.0911 and epsilon2 = -0.0747\n",
      "For p1 = 0.85: epsilon1 = 0.0693 and epsilon2 = -0.0587\n",
      "For p1 = 0.87: epsilon1 = 0.0489 and epsilon2 = -0.0427\n",
      "For p1 = 0.90: epsilon1 = 0.0296 and epsilon2 = -0.0267\n",
      "For p1 = 0.93: epsilon1 = 0.0115 and epsilon2 = -0.0107\n",
      "For p1 = 0.95: epsilon1 = -0.0056 and epsilon2 = 0.0053\n",
      "For p1 = 0.98: epsilon1 = -0.0218 and epsilon2 = 0.0213\n",
      "For p1 = 1.01: epsilon1 = -0.0371 and epsilon2 = 0.0373\n",
      "For p1 = 1.03: epsilon1 = -0.0516 and epsilon2 = 0.0533\n",
      "For p1 = 1.06: epsilon1 = -0.0654 and epsilon2 = 0.0693\n",
      "For p1 = 1.09: epsilon1 = -0.0785 and epsilon2 = 0.0853\n",
      "For p1 = 1.11: epsilon1 = -0.0910 and epsilon2 = 0.1013\n",
      "For p1 = 1.14: epsilon1 = -0.1029 and epsilon2 = 0.1173\n",
      "For p1 = 1.17: epsilon1 = -0.1143 and epsilon2 = 0.1333\n",
      "For p1 = 1.19: epsilon1 = -0.1251 and epsilon2 = 0.1493\n",
      "For p1 = 1.22: epsilon1 = -0.1355 and epsilon2 = 0.1653\n",
      "For p1 = 1.25: epsilon1 = -0.1455 and epsilon2 = 0.1813\n",
      "For p1 = 1.27: epsilon1 = -0.1550 and epsilon2 = 0.1973\n",
      "For p1 = 1.30: epsilon1 = -0.1641 and epsilon2 = 0.2133\n",
      "For p1 = 1.33: epsilon1 = -0.1729 and epsilon2 = 0.2293\n",
      "For p1 = 1.35: epsilon1 = -0.1813 and epsilon2 = 0.2453\n",
      "For p1 = 1.38: epsilon1 = -0.1894 and epsilon2 = 0.2613\n",
      "For p1 = 1.41: epsilon1 = -0.1972 and epsilon2 = 0.2773\n",
      "For p1 = 1.43: epsilon1 = -0.2047 and epsilon2 = 0.2933\n",
      "For p1 = 1.46: epsilon1 = -0.2119 and epsilon2 = 0.3093\n",
      "For p1 = 1.49: epsilon1 = -0.2188 and epsilon2 = 0.3253\n",
      "For p1 = 1.51: epsilon1 = -0.2256 and epsilon2 = 0.3413\n",
      "For p1 = 1.54: epsilon1 = -0.2320 and epsilon2 = 0.3573\n",
      "For p1 = 1.57: epsilon1 = -0.2383 and epsilon2 = 0.3733\n",
      "For p1 = 1.59: epsilon1 = -0.2444 and epsilon2 = 0.3893\n",
      "For p1 = 1.62: epsilon1 = -0.2502 and epsilon2 = 0.4053\n",
      "For p1 = 1.65: epsilon1 = -0.2559 and epsilon2 = 0.4213\n",
      "For p1 = 1.67: epsilon1 = -0.2614 and epsilon2 = 0.4373\n",
      "For p1 = 1.70: epsilon1 = -0.2667 and epsilon2 = 0.4533\n",
      "For p1 = 1.73: epsilon1 = -0.2718 and epsilon2 = 0.4693\n",
      "For p1 = 1.75: epsilon1 = -0.2768 and epsilon2 = 0.4853\n",
      "For p1 = 1.78: epsilon1 = -0.2816 and epsilon2 = 0.5013\n",
      "For p1 = 1.81: epsilon1 = -0.2863 and epsilon2 = 0.5173\n",
      "For p1 = 1.83: epsilon1 = -0.2909 and epsilon2 = 0.5333\n",
      "For p1 = 1.86: epsilon1 = -0.2953 and epsilon2 = 0.5493\n",
      "For p1 = 1.89: epsilon1 = -0.2996 and epsilon2 = 0.5653\n",
      "For p1 = 1.91: epsilon1 = -0.3038 and epsilon2 = 0.5813\n",
      "For p1 = 1.94: epsilon1 = -0.3079 and epsilon2 = 0.5973\n",
      "For p1 = 1.97: epsilon1 = -0.3119 and epsilon2 = 0.6133\n",
      "For p1 = 1.99: epsilon1 = -0.3157 and epsilon2 = 0.6293\n",
      "For p1 = 2.02: epsilon1 = -0.3195 and epsilon2 = 0.6453\n",
      "For p1 = 2.05: epsilon1 = -0.3231 and epsilon2 = 0.6613\n",
      "For p1 = 2.07: epsilon1 = -0.3267 and epsilon2 = 0.6773\n",
      "For p1 = 2.10: epsilon1 = -0.3302 and epsilon2 = 0.6933\n",
      "For p1 = 2.13: epsilon1 = -0.3335 and epsilon2 = 0.7093\n",
      "For p1 = 2.15: epsilon1 = -0.3368 and epsilon2 = 0.7253\n",
      "For p1 = 2.18: epsilon1 = -0.3401 and epsilon2 = 0.7413\n",
      "For p1 = 2.21: epsilon1 = -0.3432 and epsilon2 = 0.7573\n",
      "For p1 = 2.23: epsilon1 = -0.3463 and epsilon2 = 0.7733\n",
      "For p1 = 2.26: epsilon1 = -0.3493 and epsilon2 = 0.7893\n",
      "For p1 = 2.29: epsilon1 = -0.3522 and epsilon2 = 0.8053\n",
      "For p1 = 2.31: epsilon1 = -0.3550 and epsilon2 = 0.8213\n",
      "For p1 = 2.34: epsilon1 = -0.3578 and epsilon2 = 0.8373\n",
      "For p1 = 2.37: epsilon1 = -0.3606 and epsilon2 = 0.8533\n",
      "For p1 = 2.39: epsilon1 = -0.3632 and epsilon2 = 0.8693\n",
      "For p1 = 2.42: epsilon1 = -0.3658 and epsilon2 = 0.8853\n",
      "For p1 = 2.45: epsilon1 = -0.3684 and epsilon2 = 0.9013\n",
      "For p1 = 2.47: epsilon1 = -0.3709 and epsilon2 = 0.9173\n",
      "For p1 = 2.50: epsilon1 = -0.3733 and epsilon2 = 0.9333\n",
      "For p1 = 0.50: epsilon1 = 0.5333 and epsilon2 = -0.2667\n",
      "For p1 = 0.55: epsilon1 = 0.4241 and epsilon2 = -0.2347\n",
      "For p1 = 0.58: epsilon1 = 0.3770 and epsilon2 = -0.2187\n",
      "For p1 = 0.61: epsilon1 = 0.3341 and epsilon2 = -0.2027\n",
      "For p1 = 0.63: epsilon1 = 0.2947 and epsilon2 = -0.1867\n",
      "For p1 = 0.66: epsilon1 = 0.2586 and epsilon2 = -0.1707\n",
      "For p1 = 0.69: epsilon1 = 0.2252 and epsilon2 = -0.1547\n",
      "For p1 = 0.71: epsilon1 = 0.1944 and epsilon2 = -0.1387\n",
      "For p1 = 0.74: epsilon1 = 0.1658 and epsilon2 = -0.1227\n",
      "For p1 = 0.77: epsilon1 = 0.1391 and epsilon2 = -0.1067\n",
      "For p1 = 0.79: epsilon1 = 0.1143 and epsilon2 = -0.0907\n",
      "For p1 = 0.82: epsilon1 = 0.0911 and epsilon2 = -0.0747\n",
      "For p1 = 0.85: epsilon1 = 0.0693 and epsilon2 = -0.0587\n",
      "For p1 = 0.87: epsilon1 = 0.0489 and epsilon2 = -0.0427\n",
      "For p1 = 0.90: epsilon1 = 0.0296 and epsilon2 = -0.0267\n",
      "For p1 = 0.93: epsilon1 = 0.0115 and epsilon2 = -0.0107\n",
      "For p1 = 0.95: epsilon1 = -0.0056 and epsilon2 = 0.0053\n",
      "For p1 = 0.98: epsilon1 = -0.0218 and epsilon2 = 0.0213\n",
      "For p1 = 1.01: epsilon1 = -0.0371 and epsilon2 = 0.0373\n",
      "For p1 = 1.03: epsilon1 = -0.0516 and epsilon2 = 0.0533\n",
      "For p1 = 1.06: epsilon1 = -0.0654 and epsilon2 = 0.0693\n",
      "For p1 = 1.09: epsilon1 = -0.0785 and epsilon2 = 0.0853\n",
      "For p1 = 1.11: epsilon1 = -0.0910 and epsilon2 = 0.1013\n",
      "For p1 = 1.14: epsilon1 = -0.1029 and epsilon2 = 0.1173\n",
      "For p1 = 1.17: epsilon1 = -0.1143 and epsilon2 = 0.1333\n",
      "For p1 = 1.19: epsilon1 = -0.1251 and epsilon2 = 0.1493\n",
      "For p1 = 1.22: epsilon1 = -0.1355 and epsilon2 = 0.1653\n",
      "For p1 = 1.25: epsilon1 = -0.1455 and epsilon2 = 0.1813\n",
      "For p1 = 1.27: epsilon1 = -0.1550 and epsilon2 = 0.1973\n",
      "For p1 = 1.30: epsilon1 = -0.1641 and epsilon2 = 0.2133\n",
      "For p1 = 1.33: epsilon1 = -0.1729 and epsilon2 = 0.2293\n",
      "For p1 = 1.35: epsilon1 = -0.1813 and epsilon2 = 0.2453\n",
      "For p1 = 1.38: epsilon1 = -0.1894 and epsilon2 = 0.2613\n",
      "For p1 = 1.41: epsilon1 = -0.1972 and epsilon2 = 0.2773\n",
      "For p1 = 1.43: epsilon1 = -0.2047 and epsilon2 = 0.2933\n",
      "For p1 = 1.46: epsilon1 = -0.2119 and epsilon2 = 0.3093\n",
      "For p1 = 1.49: epsilon1 = -0.2188 and epsilon2 = 0.3253\n",
      "For p1 = 1.51: epsilon1 = -0.2256 and epsilon2 = 0.3413\n",
      "For p1 = 1.54: epsilon1 = -0.2320 and epsilon2 = 0.3573\n",
      "For p1 = 1.57: epsilon1 = -0.2383 and epsilon2 = 0.3733\n",
      "For p1 = 1.59: epsilon1 = -0.2444 and epsilon2 = 0.3893\n",
      "For p1 = 1.62: epsilon1 = -0.2502 and epsilon2 = 0.4053\n",
      "For p1 = 1.65: epsilon1 = -0.2559 and epsilon2 = 0.4213\n",
      "For p1 = 1.67: epsilon1 = -0.2614 and epsilon2 = 0.4373\n",
      "For p1 = 1.70: epsilon1 = -0.2667 and epsilon2 = 0.4533\n",
      "For p1 = 1.73: epsilon1 = -0.2718 and epsilon2 = 0.4693\n",
      "For p1 = 1.75: epsilon1 = -0.2768 and epsilon2 = 0.4853\n",
      "For p1 = 1.78: epsilon1 = -0.2816 and epsilon2 = 0.5013\n",
      "For p1 = 1.81: epsilon1 = -0.2863 and epsilon2 = 0.5173\n",
      "For p1 = 1.83: epsilon1 = -0.2909 and epsilon2 = 0.5333\n",
      "For p1 = 1.86: epsilon1 = -0.2953 and epsilon2 = 0.5493\n",
      "For p1 = 1.89: epsilon1 = -0.2996 and epsilon2 = 0.5653\n",
      "For p1 = 1.91: epsilon1 = -0.3038 and epsilon2 = 0.5813\n",
      "For p1 = 1.94: epsilon1 = -0.3079 and epsilon2 = 0.5973\n",
      "For p1 = 1.97: epsilon1 = -0.3119 and epsilon2 = 0.6133\n",
      "For p1 = 1.99: epsilon1 = -0.3157 and epsilon2 = 0.6293\n",
      "For p1 = 2.02: epsilon1 = -0.3195 and epsilon2 = 0.6453\n",
      "For p1 = 2.05: epsilon1 = -0.3231 and epsilon2 = 0.6613\n",
      "For p1 = 2.07: epsilon1 = -0.3267 and epsilon2 = 0.6773\n",
      "For p1 = 2.10: epsilon1 = -0.3302 and epsilon2 = 0.6933\n",
      "For p1 = 2.13: epsilon1 = -0.3335 and epsilon2 = 0.7093\n",
      "For p1 = 2.15: epsilon1 = -0.3368 and epsilon2 = 0.7253\n",
      "For p1 = 2.18: epsilon1 = -0.3401 and epsilon2 = 0.7413\n",
      "For p1 = 2.21: epsilon1 = -0.3432 and epsilon2 = 0.7573\n",
      "For p1 = 2.23: epsilon1 = -0.3463 and epsilon2 = 0.7733\n",
      "For p1 = 2.26: epsilon1 = -0.3493 and epsilon2 = 0.7893\n",
      "For p1 = 2.29: epsilon1 = -0.3522 and epsilon2 = 0.8053\n",
      "For p1 = 2.31: epsilon1 = -0.3550 and epsilon2 = 0.8213\n",
      "For p1 = 2.34: epsilon1 = -0.3578 and epsilon2 = 0.8373\n",
      "For p1 = 2.37: epsilon1 = -0.3606 and epsilon2 = 0.8533\n",
      "For p1 = 2.39: epsilon1 = -0.3632 and epsilon2 = 0.8693\n",
      "For p1 = 2.42: epsilon1 = -0.3658 and epsilon2 = 0.8853\n",
      "For p1 = 2.45: epsilon1 = -0.3684 and epsilon2 = 0.9013\n",
      "For p1 = 2.47: epsilon1 = -0.3709 and epsilon2 = 0.9173\n",
      "For p1 = 2.50: epsilon1 = -0.3733 and epsilon2 = 0.9333\n",
      "For p1 = 0.50: epsilon1 = 0.5333 and epsilon2 = -0.2667\n",
      "For p1 = 0.55: epsilon1 = 0.4241 and epsilon2 = -0.2347\n",
      "For p1 = 0.58: epsilon1 = 0.3770 and epsilon2 = -0.2187\n",
      "For p1 = 0.61: epsilon1 = 0.3341 and epsilon2 = -0.2027\n",
      "For p1 = 0.63: epsilon1 = 0.2947 and epsilon2 = -0.1867\n",
      "For p1 = 0.66: epsilon1 = 0.2586 and epsilon2 = -0.1707\n",
      "For p1 = 0.69: epsilon1 = 0.2252 and epsilon2 = -0.1547\n",
      "For p1 = 0.71: epsilon1 = 0.1944 and epsilon2 = -0.1387\n",
      "For p1 = 0.74: epsilon1 = 0.1658 and epsilon2 = -0.1227\n",
      "For p1 = 0.77: epsilon1 = 0.1391 and epsilon2 = -0.1067\n",
      "For p1 = 0.79: epsilon1 = 0.1143 and epsilon2 = -0.0907\n",
      "For p1 = 0.82: epsilon1 = 0.0911 and epsilon2 = -0.0747\n",
      "For p1 = 0.85: epsilon1 = 0.0693 and epsilon2 = -0.0587\n",
      "For p1 = 0.87: epsilon1 = 0.0489 and epsilon2 = -0.0427\n",
      "For p1 = 0.90: epsilon1 = 0.0296 and epsilon2 = -0.0267\n",
      "For p1 = 0.93: epsilon1 = 0.0115 and epsilon2 = -0.0107\n",
      "For p1 = 0.95: epsilon1 = -0.0056 and epsilon2 = 0.0053\n",
      "For p1 = 0.98: epsilon1 = -0.0218 and epsilon2 = 0.0213\n",
      "For p1 = 1.01: epsilon1 = -0.0371 and epsilon2 = 0.0373\n",
      "For p1 = 1.03: epsilon1 = -0.0516 and epsilon2 = 0.0533\n",
      "For p1 = 1.06: epsilon1 = -0.0654 and epsilon2 = 0.0693\n",
      "For p1 = 1.09: epsilon1 = -0.0785 and epsilon2 = 0.0853\n",
      "For p1 = 1.11: epsilon1 = -0.0910 and epsilon2 = 0.1013\n",
      "For p1 = 1.14: epsilon1 = -0.1029 and epsilon2 = 0.1173\n",
      "For p1 = 1.17: epsilon1 = -0.1143 and epsilon2 = 0.1333\n",
      "For p1 = 1.19: epsilon1 = -0.1251 and epsilon2 = 0.1493\n",
      "For p1 = 1.22: epsilon1 = -0.1355 and epsilon2 = 0.1653\n",
      "For p1 = 1.25: epsilon1 = -0.1455 and epsilon2 = 0.1813\n",
      "For p1 = 1.27: epsilon1 = -0.1550 and epsilon2 = 0.1973\n",
      "For p1 = 1.30: epsilon1 = -0.1641 and epsilon2 = 0.2133\n",
      "For p1 = 1.33: epsilon1 = -0.1729 and epsilon2 = 0.2293\n",
      "For p1 = 1.35: epsilon1 = -0.1813 and epsilon2 = 0.2453\n",
      "For p1 = 1.38: epsilon1 = -0.1894 and epsilon2 = 0.2613\n",
      "For p1 = 1.41: epsilon1 = -0.1972 and epsilon2 = 0.2773\n",
      "For p1 = 1.43: epsilon1 = -0.2047 and epsilon2 = 0.2933\n",
      "For p1 = 1.46: epsilon1 = -0.2119 and epsilon2 = 0.3093\n",
      "For p1 = 1.49: epsilon1 = -0.2188 and epsilon2 = 0.3253\n",
      "For p1 = 1.51: epsilon1 = -0.2256 and epsilon2 = 0.3413\n",
      "For p1 = 1.54: epsilon1 = -0.2320 and epsilon2 = 0.3573\n",
      "For p1 = 1.57: epsilon1 = -0.2383 and epsilon2 = 0.3733\n",
      "For p1 = 1.59: epsilon1 = -0.2444 and epsilon2 = 0.3893\n",
      "For p1 = 1.62: epsilon1 = -0.2502 and epsilon2 = 0.4053\n",
      "For p1 = 1.65: epsilon1 = -0.2559 and epsilon2 = 0.4213\n",
      "For p1 = 1.67: epsilon1 = -0.2614 and epsilon2 = 0.4373\n",
      "For p1 = 1.70: epsilon1 = -0.2667 and epsilon2 = 0.4533\n",
      "For p1 = 1.73: epsilon1 = -0.2718 and epsilon2 = 0.4693\n",
      "For p1 = 1.75: epsilon1 = -0.2768 and epsilon2 = 0.4853\n",
      "For p1 = 1.78: epsilon1 = -0.2816 and epsilon2 = 0.5013\n",
      "For p1 = 1.81: epsilon1 = -0.2863 and epsilon2 = 0.5173\n",
      "For p1 = 1.83: epsilon1 = -0.2909 and epsilon2 = 0.5333\n",
      "For p1 = 1.86: epsilon1 = -0.2953 and epsilon2 = 0.5493\n",
      "For p1 = 1.89: epsilon1 = -0.2996 and epsilon2 = 0.5653\n",
      "For p1 = 1.91: epsilon1 = -0.3038 and epsilon2 = 0.5813\n",
      "For p1 = 1.94: epsilon1 = -0.3079 and epsilon2 = 0.5973\n",
      "For p1 = 1.97: epsilon1 = -0.3119 and epsilon2 = 0.6133\n",
      "For p1 = 1.99: epsilon1 = -0.3157 and epsilon2 = 0.6293\n",
      "For p1 = 2.02: epsilon1 = -0.3195 and epsilon2 = 0.6453\n",
      "For p1 = 2.05: epsilon1 = -0.3231 and epsilon2 = 0.6613\n",
      "For p1 = 2.07: epsilon1 = -0.3267 and epsilon2 = 0.6773\n",
      "For p1 = 2.10: epsilon1 = -0.3302 and epsilon2 = 0.6933\n",
      "For p1 = 2.13: epsilon1 = -0.3335 and epsilon2 = 0.7093\n",
      "For p1 = 2.15: epsilon1 = -0.3368 and epsilon2 = 0.7253\n",
      "For p1 = 2.18: epsilon1 = -0.3401 and epsilon2 = 0.7413\n",
      "For p1 = 2.21: epsilon1 = -0.3432 and epsilon2 = 0.7573\n",
      "For p1 = 2.23: epsilon1 = -0.3463 and epsilon2 = 0.7733\n",
      "For p1 = 2.26: epsilon1 = -0.3493 and epsilon2 = 0.7893\n",
      "For p1 = 2.29: epsilon1 = -0.3522 and epsilon2 = 0.8053\n",
      "For p1 = 2.31: epsilon1 = -0.3550 and epsilon2 = 0.8213\n",
      "For p1 = 2.34: epsilon1 = -0.3578 and epsilon2 = 0.8373\n",
      "For p1 = 2.37: epsilon1 = -0.3606 and epsilon2 = 0.8533\n",
      "For p1 = 2.39: epsilon1 = -0.3632 and epsilon2 = 0.8693\n",
      "For p1 = 2.42: epsilon1 = -0.3658 and epsilon2 = 0.8853\n",
      "For p1 = 2.45: epsilon1 = -0.3684 and epsilon2 = 0.9013\n",
      "For p1 = 2.47: epsilon1 = -0.3709 and epsilon2 = 0.9173\n",
      "For p1 = 2.50: epsilon1 = -0.3733 and epsilon2 = 0.9333\n",
      "For p1 = 0.50: epsilon1 = 0.5333 and epsilon2 = -0.2667\n",
      "For p1 = 0.55: epsilon1 = 0.4241 and epsilon2 = -0.2347\n",
      "For p1 = 0.58: epsilon1 = 0.3770 and epsilon2 = -0.2187\n",
      "For p1 = 0.61: epsilon1 = 0.3341 and epsilon2 = -0.2027\n",
      "For p1 = 0.63: epsilon1 = 0.2947 and epsilon2 = -0.1867\n",
      "For p1 = 0.66: epsilon1 = 0.2586 and epsilon2 = -0.1707\n",
      "For p1 = 0.69: epsilon1 = 0.2252 and epsilon2 = -0.1547\n",
      "For p1 = 0.71: epsilon1 = 0.1944 and epsilon2 = -0.1387\n",
      "For p1 = 0.74: epsilon1 = 0.1658 and epsilon2 = -0.1227\n",
      "For p1 = 0.77: epsilon1 = 0.1391 and epsilon2 = -0.1067\n",
      "For p1 = 0.79: epsilon1 = 0.1143 and epsilon2 = -0.0907\n",
      "For p1 = 0.82: epsilon1 = 0.0911 and epsilon2 = -0.0747\n",
      "For p1 = 0.85: epsilon1 = 0.0693 and epsilon2 = -0.0587\n",
      "For p1 = 0.87: epsilon1 = 0.0489 and epsilon2 = -0.0427\n",
      "For p1 = 0.90: epsilon1 = 0.0296 and epsilon2 = -0.0267\n",
      "For p1 = 0.93: epsilon1 = 0.0115 and epsilon2 = -0.0107\n",
      "For p1 = 0.95: epsilon1 = -0.0056 and epsilon2 = 0.0053\n",
      "For p1 = 0.98: epsilon1 = -0.0218 and epsilon2 = 0.0213\n",
      "For p1 = 1.01: epsilon1 = -0.0371 and epsilon2 = 0.0373\n",
      "For p1 = 1.03: epsilon1 = -0.0516 and epsilon2 = 0.0533\n",
      "For p1 = 1.06: epsilon1 = -0.0654 and epsilon2 = 0.0693\n",
      "For p1 = 1.09: epsilon1 = -0.0785 and epsilon2 = 0.0853\n",
      "For p1 = 1.11: epsilon1 = -0.0910 and epsilon2 = 0.1013\n",
      "For p1 = 1.14: epsilon1 = -0.1029 and epsilon2 = 0.1173\n",
      "For p1 = 1.17: epsilon1 = -0.1143 and epsilon2 = 0.1333\n",
      "For p1 = 1.19: epsilon1 = -0.1251 and epsilon2 = 0.1493\n",
      "For p1 = 1.22: epsilon1 = -0.1355 and epsilon2 = 0.1653\n",
      "For p1 = 1.25: epsilon1 = -0.1455 and epsilon2 = 0.1813\n",
      "For p1 = 1.27: epsilon1 = -0.1550 and epsilon2 = 0.1973\n",
      "For p1 = 1.30: epsilon1 = -0.1641 and epsilon2 = 0.2133\n",
      "For p1 = 1.33: epsilon1 = -0.1729 and epsilon2 = 0.2293\n",
      "For p1 = 1.35: epsilon1 = -0.1813 and epsilon2 = 0.2453\n",
      "For p1 = 1.38: epsilon1 = -0.1894 and epsilon2 = 0.2613\n",
      "For p1 = 1.41: epsilon1 = -0.1972 and epsilon2 = 0.2773\n",
      "For p1 = 1.43: epsilon1 = -0.2047 and epsilon2 = 0.2933\n",
      "For p1 = 1.46: epsilon1 = -0.2119 and epsilon2 = 0.3093\n",
      "For p1 = 1.49: epsilon1 = -0.2188 and epsilon2 = 0.3253\n",
      "For p1 = 1.51: epsilon1 = -0.2256 and epsilon2 = 0.3413\n",
      "For p1 = 1.54: epsilon1 = -0.2320 and epsilon2 = 0.3573\n",
      "For p1 = 1.57: epsilon1 = -0.2383 and epsilon2 = 0.3733\n",
      "For p1 = 1.59: epsilon1 = -0.2444 and epsilon2 = 0.3893\n",
      "For p1 = 1.62: epsilon1 = -0.2502 and epsilon2 = 0.4053\n",
      "For p1 = 1.65: epsilon1 = -0.2559 and epsilon2 = 0.4213\n",
      "For p1 = 1.67: epsilon1 = -0.2614 and epsilon2 = 0.4373\n",
      "For p1 = 1.70: epsilon1 = -0.2667 and epsilon2 = 0.4533\n",
      "For p1 = 1.73: epsilon1 = -0.2718 and epsilon2 = 0.4693\n",
      "For p1 = 1.75: epsilon1 = -0.2768 and epsilon2 = 0.4853\n",
      "For p1 = 1.78: epsilon1 = -0.2816 and epsilon2 = 0.5013\n",
      "For p1 = 1.81: epsilon1 = -0.2863 and epsilon2 = 0.5173\n",
      "For p1 = 1.83: epsilon1 = -0.2909 and epsilon2 = 0.5333\n",
      "For p1 = 1.86: epsilon1 = -0.2953 and epsilon2 = 0.5493\n",
      "For p1 = 1.89: epsilon1 = -0.2996 and epsilon2 = 0.5653\n",
      "For p1 = 1.91: epsilon1 = -0.3038 and epsilon2 = 0.5813\n",
      "For p1 = 1.94: epsilon1 = -0.3079 and epsilon2 = 0.5973\n",
      "For p1 = 1.97: epsilon1 = -0.3119 and epsilon2 = 0.6133\n",
      "For p1 = 1.99: epsilon1 = -0.3157 and epsilon2 = 0.6293\n",
      "For p1 = 2.02: epsilon1 = -0.3195 and epsilon2 = 0.6453\n",
      "For p1 = 2.05: epsilon1 = -0.3231 and epsilon2 = 0.6613\n",
      "For p1 = 2.07: epsilon1 = -0.3267 and epsilon2 = 0.6773\n",
      "For p1 = 2.10: epsilon1 = -0.3302 and epsilon2 = 0.6933\n",
      "For p1 = 2.13: epsilon1 = -0.3335 and epsilon2 = 0.7093\n",
      "For p1 = 2.15: epsilon1 = -0.3368 and epsilon2 = 0.7253\n",
      "For p1 = 2.18: epsilon1 = -0.3401 and epsilon2 = 0.7413\n",
      "For p1 = 2.21: epsilon1 = -0.3432 and epsilon2 = 0.7573\n",
      "For p1 = 2.23: epsilon1 = -0.3463 and epsilon2 = 0.7733\n",
      "For p1 = 2.26: epsilon1 = -0.3493 and epsilon2 = 0.7893\n",
      "For p1 = 2.29: epsilon1 = -0.3522 and epsilon2 = 0.8053\n",
      "For p1 = 2.31: epsilon1 = -0.3550 and epsilon2 = 0.8213\n",
      "For p1 = 2.34: epsilon1 = -0.3578 and epsilon2 = 0.8373\n",
      "For p1 = 2.37: epsilon1 = -0.3606 and epsilon2 = 0.8533\n",
      "For p1 = 2.39: epsilon1 = -0.3632 and epsilon2 = 0.8693\n",
      "For p1 = 2.42: epsilon1 = -0.3658 and epsilon2 = 0.8853\n",
      "For p1 = 2.45: epsilon1 = -0.3684 and epsilon2 = 0.9013\n",
      "For p1 = 2.47: epsilon1 = -0.3709 and epsilon2 = 0.9173\n",
      "For p1 = 2.50: epsilon1 = -0.3733 and epsilon2 = 0.9333\n"
     ]
    },
    {
     "data": {
      "image/png": "[encoded data removed]",
      "text/plain": [
       "<Figure size 640x480 with 1 Axes>"
      ]
     },
     "metadata": {},
     "output_type": "display_data"
    }
   ],
   "source": [
    "# Calculating the errors, where N = 75\n",
    "economy.calc_eps(N = 75)\n",
    "\n",
    "# Plotting the errors\n",
    "economy.plot_eps(N = 75)\n"
   ]
  },
  {
   "cell_type": "markdown",
   "metadata": {},
   "source": [
    "**3. The market clearing price**"
   ]
  },
  {
   "cell_type": "markdown",
   "metadata": {},
   "source": [
    "To find the market clearing price, we start by setting an intial guess of p1, and a tolerance level for how close the errors has to be to zero before we accept the market clearing price. We do this by an itterative search, which takes the conditions into account, and combines the error terms such that we find a price for which the errors together are minimised. When the errors are within the tolerance level, we get a price for which the market clears. If the errors does not get close enough to zero the code prints \"No price found where the market clears\".\n",
    "\n",
    "(A lot of the code beneath should be put into the py file, but we could not make it work)"
   ]
  },
  {
   "cell_type": "code",
   "execution_count": 4,
   "metadata": {},
   "outputs": [
    {
     "name": "stdout",
     "output_type": "stream",
     "text": [
      "Minimum combined error: 1.5090938108451628e-07 at price: 0.94400\n",
      "Epsilon1: 0.0002824858757060622, Epsilon2: -0.0002666666666666373\n"
     ]
    },
    {
     "data": {
      "text/plain": [
       "{'Optimal Price for Consumer A': '0.944'}"
      ]
     },
     "execution_count": 4,
     "metadata": {},
     "output_type": "execute_result"
    }
   ],
   "source": [
    "# Find market clearing and print results\n",
    "economy.solve_3()"
   ]
  },
  {
   "cell_type": "markdown",
   "metadata": {},
   "source": [
    "This means that the market clearing price is 0.944, and is found where eps1 = 0.0003 and eps2 = -0.0003, which is inside our tolerance level. "
   ]
  },
  {
   "cell_type": "markdown",
   "metadata": {},
   "source": [
    "**4a. Find the allocation if only prices in P1 can be chosen**\n",
    "\n",
    "To solve the maximation problem, we first define an objective function to return the utility for A. As the optimizer is by default minimizing, we return the negative value of utility. Next, we call the solver function, minizing our just defined objective function within the bounds (0.5, 2.5), meaning p1 is defined within P1. Lastly, we unpack the solution set from the optimization, and solve for the allocation with the given price.  "
   ]
  },
  {
   "cell_type": "code",
   "execution_count": 5,
   "metadata": {},
   "outputs": [
    {
     "name": "stdout",
     "output_type": "stream",
     "text": [
      "x1A: 0.3193, x2A: 1.2130, x1B: 0.3790, x2B: 0.3600, p1: 1.8993, utility: 0.7774\n"
     ]
    },
    {
     "data": {
      "text/plain": [
       " message: Solution found.\n",
       " success: True\n",
       "  status: 0\n",
       "     fun: -0.6336208506936606\n",
       "       x: 1.899346192955355\n",
       "     nit: 9\n",
       "    nfev: 9"
      ]
     },
     "execution_count": 5,
     "metadata": {},
     "output_type": "execute_result"
    }
   ],
   "source": [
    "# We import our function defined in ExchangeEconomyClass to solve for the allocation, given the conditions.\n",
    "economy.solve_4a()"
   ]
  },
  {
   "cell_type": "markdown",
   "metadata": {},
   "source": [
    "This implies that the optimal allocation if only prices in P1 can be chosen is: x1A = 0.32, x2A = 1.21, x1B = 0.38, x2B = 0.36 and p1 = 1.90, for which we get the max utility of 0.78."
   ]
  },
  {
   "cell_type": "markdown",
   "metadata": {},
   "source": [
    "**4b. Find the allocation when any positive price can be chosen**\n",
    "\n",
    "In the same way as above we import the function defined under the given conditions."
   ]
  },
  {
   "cell_type": "code",
   "execution_count": 6,
   "metadata": {},
   "outputs": [
    {
     "name": "stdout",
     "output_type": "stream",
     "text": [
      "x1A: 0.3193, x2A: 1.2130, x1B: 0.3790, x2B: 0.3600, p1: 1.8993, utility: 0.7774\n"
     ]
    },
    {
     "data": {
      "text/plain": [
       " message: Solution found.\n",
       " success: True\n",
       "  status: 0\n",
       "     fun: -0.6336208506935825\n",
       "       x: 1.899344670305824\n",
       "     nit: 13\n",
       "    nfev: 13"
      ]
     },
     "execution_count": 6,
     "metadata": {},
     "output_type": "execute_result"
    }
   ],
   "source": [
    "# We import our function defined in ExchangeEconomyClass to solve for the allocation, given the conditions.\n",
    "economy.solve_4b()"
   ]
  },
  {
   "cell_type": "markdown",
   "metadata": {},
   "source": [
    "This implies that we actually get the same allocation as in 4a. The optimal allocation if any positive prices can be chosen is: x1A = 0.32, x2A = 1.21, x1B = 0.38, x2B = 0.36 and p1 = 1.90, for which we get the max utility of 0.78."
   ]
  },
  {
   "cell_type": "markdown",
   "metadata": {},
   "source": [
    "**5a. Find the allocation if the choice set is restricted to *C*.** \n",
    "\n",
    "(The function in the py file does not give an output, but we have tried to set up a code, which explains our thoughts on how to approach the problem.)"
   ]
  },
  {
   "cell_type": "code",
   "execution_count": 7,
   "metadata": {},
   "outputs": [
    {
     "data": {
      "text/plain": [
       "{'Optimal Price for Consumer A': '0.136',\n",
       " 'Maximum Utility of Consumer A': '0.742',\n",
       " 'Allocation of x1A': '0.581',\n",
       " 'Allocation of x2A': '0.838',\n",
       " 'Allocation of x1B': '0.419',\n",
       " 'Allocation of x2B': '0.162'}"
      ]
     },
     "execution_count": 7,
     "metadata": {},
     "output_type": "execute_result"
    }
   ],
   "source": [
    "# We import our function defined in ExchangeEconomyClass to solve for the allocation, given the conditions in C.\n",
    "economy.solve_5a()"
   ]
  },
  {
   "cell_type": "markdown",
   "metadata": {},
   "source": [
    "When the allocations are restricted to the choice set C, we find that consumer A consumes more than consumer B of both goods, however relatively more of x2. "
   ]
  },
  {
   "cell_type": "markdown",
   "metadata": {},
   "source": [
    "**5b. Find the allocation if no further restrictions are imposed**"
   ]
  },
  {
   "cell_type": "code",
   "execution_count": 8,
   "metadata": {},
   "outputs": [
    {
     "data": {
      "text/plain": [
       "{'Optimal Price for Consumer A': '0.429',\n",
       " 'Maximum Utility of Consumer A': '0.500',\n",
       " 'Allocation of x1A': '0.500',\n",
       " 'Allocation of x2A': '0.500',\n",
       " 'Allocation of x1B': '0.500',\n",
       " 'Allocation of x2B': '0.500'}"
      ]
     },
     "execution_count": 8,
     "metadata": {},
     "output_type": "execute_result"
    }
   ],
   "source": [
    "economy.solve_5b()"
   ]
  },
  {
   "cell_type": "markdown",
   "metadata": {},
   "source": [
    "We find that consumption levels without further restrictions are allocated evenly between the two consumers at a price of 0.43.\n",
    "\n",
    "Now, we assume that the consumption levels are chosen by a utilitarian social planner.\n",
    "\n",
    "**6a. Find the resulting allocation**"
   ]
  },
  {
   "cell_type": "code",
   "execution_count": 9,
   "metadata": {},
   "outputs": [
    {
     "data": {
      "text/plain": [
       "{'Optimal Price for Consumer A': '1.498',\n",
       " 'Maximum Utility of Consumer A': '0.529',\n",
       " 'Allocation of x1A': '0.333',\n",
       " 'Allocation of x2A': '0.667',\n",
       " 'Allocation of x1B': '0.667',\n",
       " 'Allocation of x2B': '0.333'}"
      ]
     },
     "execution_count": 9,
     "metadata": {},
     "output_type": "execute_result"
    }
   ],
   "source": [
    "economy.solve_6a()"
   ]
  },
  {
   "cell_type": "markdown",
   "metadata": {},
   "source": [
    "The resulting allocation after the utilitarian social planner maximizes the aggregate utility, we find that the optimal price is given by 1.5, and utility for consumer A is 0.5."
   ]
  },
  {
   "cell_type": "markdown",
   "metadata": {},
   "source": [
    "**6b. Comparing to other results**"
   ]
  },
  {
   "cell_type": "code",
   "execution_count": 10,
   "metadata": {},
   "outputs": [
    {
     "data": {
      "text/html": [
       "<div>\n",
       "<style scoped>\n",
       "    .dataframe tbody tr th:only-of-type {\n",
       "        vertical-align: middle;\n",
       "    }\n",
       "\n",
       "    .dataframe tbody tr th {\n",
       "        vertical-align: top;\n",
       "    }\n",
       "\n",
       "    .dataframe thead th {\n",
       "        text-align: right;\n",
       "    }\n",
       "</style>\n",
       "<table border=\"1\" class=\"dataframe\">\n",
       "  <thead>\n",
       "    <tr style=\"text-align: right;\">\n",
       "      <th></th>\n",
       "      <th>Optimal Price for Consumer A</th>\n",
       "      <th>Maximum Utility of Consumer A</th>\n",
       "      <th>Allocation of x1A</th>\n",
       "      <th>Allocation of x2A</th>\n",
       "      <th>Allocation of x1B</th>\n",
       "      <th>Allocation of x2B</th>\n",
       "    </tr>\n",
       "  </thead>\n",
       "  <tbody>\n",
       "    <tr>\n",
       "      <th>3</th>\n",
       "      <td>0.944</td>\n",
       "      <td>NaN</td>\n",
       "      <td>NaN</td>\n",
       "      <td>NaN</td>\n",
       "      <td>NaN</td>\n",
       "      <td>NaN</td>\n",
       "    </tr>\n",
       "    <tr>\n",
       "      <th>5a</th>\n",
       "      <td>0.136</td>\n",
       "      <td>0.742</td>\n",
       "      <td>0.581</td>\n",
       "      <td>0.838</td>\n",
       "      <td>0.419</td>\n",
       "      <td>0.162</td>\n",
       "    </tr>\n",
       "    <tr>\n",
       "      <th>5b</th>\n",
       "      <td>0.429</td>\n",
       "      <td>0.500</td>\n",
       "      <td>0.500</td>\n",
       "      <td>0.500</td>\n",
       "      <td>0.500</td>\n",
       "      <td>0.500</td>\n",
       "    </tr>\n",
       "    <tr>\n",
       "      <th>6a</th>\n",
       "      <td>1.498</td>\n",
       "      <td>0.529</td>\n",
       "      <td>0.333</td>\n",
       "      <td>0.667</td>\n",
       "      <td>0.667</td>\n",
       "      <td>0.333</td>\n",
       "    </tr>\n",
       "  </tbody>\n",
       "</table>\n",
       "</div>"
      ],
      "text/plain": [
       "   Optimal Price for Consumer A Maximum Utility of Consumer A  \\\n",
       "3                         0.944                           NaN   \n",
       "5a                        0.136                         0.742   \n",
       "5b                        0.429                         0.500   \n",
       "6a                        1.498                         0.529   \n",
       "\n",
       "   Allocation of x1A Allocation of x2A Allocation of x1B Allocation of x2B  \n",
       "3                NaN               NaN               NaN               NaN  \n",
       "5a             0.581             0.838             0.419             0.162  \n",
       "5b             0.500             0.500             0.500             0.500  \n",
       "6a             0.333             0.667             0.667             0.333  "
      ]
     },
     "metadata": {},
     "output_type": "display_data"
    }
   ],
   "source": [
    "economy.solve_6b()\n"
   ]
  },
  {
   "cell_type": "markdown",
   "metadata": {},
   "source": [
    "From the table above, we see the price, utility and allocation of the two goods between the two consumers are shown. \n",
    "Regarding the optimal price, we see that for question 3 the price is 9.4 which was for the price beeing in the set P1. In 5a we impose the restriction, that allocation is restricted to being in C, the price falls (compared to 3) to 0.13. In 5b there is no more restrictions, and hence we see that the price increases to 4.3. Finally we see that in 6a, from the social planner, the price is at its highest at 1.5. \n",
    "\n",
    "Solution 3 is kind of unique as we only have the optimal price for allocation, therefore the futher comparison will be between the later 3 solutions. Wee see that as the price increases from 5a to 5b, the utility for consumer A drops, hence the consumption of good 1 and 2 for consumer a drops as the price increases. As the consumption for consumer A drops, the consumption for consumer B increases hence their utility must increase, all things equal. \n",
    "\n",
    "In the last solution, 6a, we see that as the price increases to the highest of the solutions to 1.5, the utility for consumer A actually increases compared to solution 5b. This might be explained by the restrictions being removed, and therefore the allocation between the two consumer are able to move more freely, hence given a more equal output (max utility)."
   ]
  },
  {
   "cell_type": "markdown",
   "metadata": {},
   "source": [
    "**7. Draw a set W with 50 elements**"
   ]
  },
  {
   "cell_type": "code",
   "execution_count": 11,
   "metadata": {},
   "outputs": [
    {
     "name": "stdout",
     "output_type": "stream",
     "text": [
      "Elements of W:\n",
      "Element 1: w1A = 0.7878, w2A = 0.3434\n",
      "Element 2: w1A = 0.8987, w2A = 0.0589\n",
      "Element 3: w1A = 0.8749, w2A = 0.3107\n",
      "Element 4: w1A = 0.0428, w2A = 0.1522\n",
      "Element 5: w1A = 0.3834, w2A = 0.4277\n",
      "Element 6: w1A = 0.1097, w2A = 0.7154\n",
      "Element 7: w1A = 0.1522, w2A = 0.5527\n",
      "Element 8: w1A = 0.8251, w2A = 0.3101\n",
      "Element 9: w1A = 0.6827, w2A = 0.7900\n",
      "Element 10: w1A = 0.9394, w2A = 0.3378\n",
      "Element 11: w1A = 0.0354, w2A = 0.2664\n",
      "Element 12: w1A = 0.8447, w2A = 0.9959\n",
      "Element 13: w1A = 0.3339, w2A = 0.9366\n",
      "Element 14: w1A = 0.7554, w2A = 0.1794\n",
      "Element 15: w1A = 0.9906, w2A = 0.3881\n",
      "Element 16: w1A = 0.7244, w2A = 0.8313\n",
      "Element 17: w1A = 0.4765, w2A = 0.7575\n",
      "Element 18: w1A = 0.4441, w2A = 0.4108\n",
      "Element 19: w1A = 0.1488, w2A = 0.0029\n",
      "Element 20: w1A = 0.3668, w2A = 0.1867\n",
      "Element 21: w1A = 0.5284, w2A = 0.6469\n",
      "Element 22: w1A = 0.6615, w2A = 0.4015\n",
      "Element 23: w1A = 0.0452, w2A = 0.6449\n",
      "Element 24: w1A = 0.3050, w2A = 0.3140\n",
      "Element 25: w1A = 0.8603, w2A = 0.1663\n",
      "Element 26: w1A = 0.9312, w2A = 0.5242\n",
      "Element 27: w1A = 0.0653, w2A = 0.9326\n",
      "Element 28: w1A = 0.9475, w2A = 0.9056\n",
      "Element 29: w1A = 0.4883, w2A = 0.9075\n",
      "Element 30: w1A = 0.0996, w2A = 0.0629\n",
      "Element 31: w1A = 0.2770, w2A = 0.3653\n",
      "Element 32: w1A = 0.3825, w2A = 0.2026\n",
      "Element 33: w1A = 0.2239, w2A = 0.6636\n",
      "Element 34: w1A = 0.9813, w2A = 0.5406\n",
      "Element 35: w1A = 0.6313, w2A = 0.5371\n",
      "Element 36: w1A = 0.7575, w2A = 0.0656\n",
      "Element 37: w1A = 0.1469, w2A = 0.1390\n",
      "Element 38: w1A = 0.3592, w2A = 0.7145\n",
      "Element 39: w1A = 0.6149, w2A = 0.9931\n",
      "Element 40: w1A = 0.3011, w2A = 0.6275\n",
      "Element 41: w1A = 0.9588, w2A = 0.9458\n",
      "Element 42: w1A = 0.1745, w2A = 0.7866\n",
      "Element 43: w1A = 0.1498, w2A = 0.4432\n",
      "Element 44: w1A = 0.8931, w2A = 0.9585\n",
      "Element 45: w1A = 0.5794, w2A = 0.9372\n",
      "Element 46: w1A = 0.8750, w2A = 0.9290\n",
      "Element 47: w1A = 0.0468, w2A = 0.7619\n",
      "Element 48: w1A = 0.4955, w2A = 0.5598\n",
      "Element 49: w1A = 0.5804, w2A = 0.1844\n",
      "Element 50: w1A = 0.0518, w2A = 0.5727\n",
      "\n",
      "The number of elements in W is: 50\n"
     ]
    },
    {
     "data": {
      "text/plain": [
       "array([[0.787775  , 0.3433529 ],\n",
       "       [0.89868621, 0.05894718],\n",
       "       [0.87486784, 0.31068896],\n",
       "       [0.04277308, 0.15217444],\n",
       "       [0.38343402, 0.42766298],\n",
       "       [0.1097442 , 0.7153505 ],\n",
       "       [0.15224127, 0.55270936],\n",
       "       [0.82507911, 0.31011083],\n",
       "       [0.68272774, 0.78997731],\n",
       "       [0.93936834, 0.33777802],\n",
       "       [0.03543699, 0.26640925],\n",
       "       [0.84467277, 0.99587432],\n",
       "       [0.33388698, 0.93661409],\n",
       "       [0.7553657 , 0.1793764 ],\n",
       "       [0.99063221, 0.38806363],\n",
       "       [0.72435659, 0.83133526],\n",
       "       [0.47647876, 0.75754402],\n",
       "       [0.44407756, 0.41078666],\n",
       "       [0.14880079, 0.00292894],\n",
       "       [0.36683576, 0.18670454],\n",
       "       [0.52843821, 0.6469125 ],\n",
       "       [0.66146365, 0.40145115],\n",
       "       [0.0451678 , 0.64485539],\n",
       "       [0.30495316, 0.3140462 ],\n",
       "       [0.86029114, 0.16626713],\n",
       "       [0.9312249 , 0.52416754],\n",
       "       [0.06530398, 0.93257372],\n",
       "       [0.947459  , 0.90564543],\n",
       "       [0.48834032, 0.90748422],\n",
       "       [0.09963906, 0.06285969],\n",
       "       [0.27704889, 0.36527597],\n",
       "       [0.38248634, 0.20255331],\n",
       "       [0.22385905, 0.66356013],\n",
       "       [0.98127982, 0.54056732],\n",
       "       [0.63130797, 0.5370643 ],\n",
       "       [0.75753661, 0.06561175],\n",
       "       [0.14691611, 0.138993  ],\n",
       "       [0.35921208, 0.71445451],\n",
       "       [0.61489764, 0.99307181],\n",
       "       [0.30113596, 0.62747706],\n",
       "       [0.95877945, 0.94583855],\n",
       "       [0.17451568, 0.78663544],\n",
       "       [0.14978856, 0.44320117],\n",
       "       [0.89314284, 0.95846075],\n",
       "       [0.57942282, 0.93716131],\n",
       "       [0.87498881, 0.92902714],\n",
       "       [0.04684052, 0.76185237],\n",
       "       [0.49546426, 0.55978524],\n",
       "       [0.58039272, 0.18440537],\n",
       "       [0.05178419, 0.57269244]])"
      ]
     },
     "execution_count": 11,
     "metadata": {},
     "output_type": "execute_result"
    }
   ],
   "source": [
    "economy.solve_7()"
   ]
  },
  {
   "cell_type": "markdown",
   "metadata": {},
   "source": [
    "**8. Find market equilibrium allocation and plot in Edgeworth box**"
   ]
  },
  {
   "cell_type": "code",
   "execution_count": 12,
   "metadata": {},
   "outputs": [
    {
     "name": "stdout",
     "output_type": "stream",
     "text": [
      "Elements of W:\n",
      "Element 1: w1A = 0.0866, w2A = 0.6773\n",
      "Element 2: w1A = 0.9464, w2A = 0.2403\n",
      "Element 3: w1A = 0.3661, w2A = 0.0760\n",
      "Element 4: w1A = 0.2378, w2A = 0.9172\n",
      "Element 5: w1A = 0.1969, w2A = 0.1230\n",
      "Element 6: w1A = 0.0231, w2A = 0.3615\n",
      "Element 7: w1A = 0.5629, w2A = 0.1334\n",
      "Element 8: w1A = 0.5939, w2A = 0.3085\n",
      "Element 9: w1A = 0.6401, w2A = 0.2814\n",
      "Element 10: w1A = 0.7105, w2A = 0.5699\n",
      "Element 11: w1A = 0.1881, w2A = 0.1239\n",
      "Element 12: w1A = 0.5580, w2A = 0.5530\n",
      "Element 13: w1A = 0.4357, w2A = 0.0778\n",
      "Element 14: w1A = 0.5599, w2A = 0.9923\n",
      "Element 15: w1A = 0.9249, w2A = 0.1316\n",
      "Element 16: w1A = 0.8005, w2A = 0.9835\n",
      "Element 17: w1A = 0.0209, w2A = 0.5414\n",
      "Element 18: w1A = 0.5221, w2A = 0.4554\n",
      "Element 19: w1A = 0.2124, w2A = 0.9447\n",
      "Element 20: w1A = 0.3532, w2A = 0.6076\n",
      "Element 21: w1A = 0.9865, w2A = 0.4672\n",
      "Element 22: w1A = 0.1151, w2A = 0.1583\n",
      "Element 23: w1A = 0.1093, w2A = 0.1443\n",
      "Element 24: w1A = 0.0906, w2A = 0.8919\n",
      "Element 25: w1A = 0.7276, w2A = 0.9984\n",
      "Element 26: w1A = 0.0888, w2A = 0.9300\n",
      "Element 27: w1A = 0.1744, w2A = 0.0892\n",
      "Element 28: w1A = 0.6515, w2A = 0.5952\n",
      "Element 29: w1A = 0.4379, w2A = 0.1098\n",
      "Element 30: w1A = 0.3713, w2A = 0.2377\n",
      "Element 31: w1A = 0.3984, w2A = 0.4624\n",
      "Element 32: w1A = 0.4044, w2A = 0.4174\n",
      "Element 33: w1A = 0.2499, w2A = 0.2825\n",
      "Element 34: w1A = 0.4957, w2A = 0.9501\n",
      "Element 35: w1A = 0.0358, w2A = 0.1941\n",
      "Element 36: w1A = 0.5555, w2A = 0.6401\n",
      "Element 37: w1A = 0.8849, w2A = 0.6501\n",
      "Element 38: w1A = 0.6104, w2A = 0.9253\n",
      "Element 39: w1A = 0.9969, w2A = 0.8408\n",
      "Element 40: w1A = 0.7708, w2A = 0.9492\n",
      "Element 41: w1A = 0.8116, w2A = 0.2260\n",
      "Element 42: w1A = 0.2939, w2A = 0.1278\n",
      "Element 43: w1A = 0.8834, w2A = 0.9663\n",
      "Element 44: w1A = 0.1584, w2A = 0.0888\n",
      "Element 45: w1A = 0.9677, w2A = 0.0449\n",
      "Element 46: w1A = 0.4270, w2A = 0.6675\n",
      "Element 47: w1A = 0.5004, w2A = 0.9306\n",
      "Element 48: w1A = 0.5561, w2A = 0.2270\n",
      "Element 49: w1A = 0.3905, w2A = 0.2041\n",
      "Element 50: w1A = 0.1690, w2A = 0.2359\n",
      "\n",
      "The number of elements in W is: 50\n"
     ]
    },
    {
     "data": {
      "image/png": "[encoded data removed]",
      "text/plain": [
       "<Figure size 800x600 with 1 Axes>"
      ]
     },
     "metadata": {},
     "output_type": "display_data"
    }
   ],
   "source": [
    "# Call the solve_7 method to generate the set W of omega values\n",
    "W = economy.solve_7()\n",
    "\n",
    "# Call the find_market_equilibrium method with W as an argument\n",
    "market_equilibrium_allocations_A, market_equilibrium_allocations_B = economy.solve_8(W)"
   ]
  },
  {
   "cell_type": "code",
   "execution_count": 15,
   "metadata": {},
   "outputs": [
    {
     "ename": "ValueError",
     "evalue": "The truth value of an array with more than one element is ambiguous. Use a.any() or a.all()",
     "output_type": "error",
     "traceback": [
      "\u001b[1;31m---------------------------------------------------------------------------\u001b[0m",
      "\u001b[1;31mValueError\u001b[0m                                Traceback (most recent call last)",
      "Cell \u001b[1;32mIn[15], line 1\u001b[0m\n\u001b[1;32m----> 1\u001b[0m economy\u001b[38;5;241m.\u001b[39msolve_8a(W)\n",
      "File \u001b[1;32mc:\\Users\\klara\\OneDrive\\Dokumenter\\Polit\\2. Kandidat\\IntroductionProgramming\\Projects\\projects-2024-anna-signe-og-klara\\inauguralproject\\inauguralproject.py:455\u001b[0m, in \u001b[0;36mExchangeEconomyClass.solve_8a\u001b[1;34m(self, W, p1_guess, tolerance)\u001b[0m\n\u001b[0;32m    452\u001b[0m \u001b[38;5;28;01mfor\u001b[39;00m w \u001b[38;5;129;01min\u001b[39;00m W:  \u001b[38;5;66;03m# Loop over every element in W\u001b[39;00m\n\u001b[0;32m    453\u001b[0m     p1_guess \u001b[38;5;241m=\u001b[39m w  \u001b[38;5;66;03m# Set p1_guess to the current element in W\u001b[39;00m\n\u001b[1;32m--> 455\u001b[0m     \u001b[38;5;28;01mwhile\u001b[39;00m p1_guess \u001b[38;5;241m>\u001b[39m\u001b[38;5;241m=\u001b[39m \u001b[38;5;241m0\u001b[39m: \n\u001b[0;32m    456\u001b[0m         eps1, eps2 \u001b[38;5;241m=\u001b[39m \u001b[38;5;28mself\u001b[39m\u001b[38;5;241m.\u001b[39mcheck_market_clearing(p1_guess)\n\u001b[0;32m    457\u001b[0m         \u001b[38;5;28;01mif\u001b[39;00m \u001b[38;5;28mabs\u001b[39m(eps1) \u001b[38;5;241m<\u001b[39m tolerance \u001b[38;5;129;01mand\u001b[39;00m \u001b[38;5;28mabs\u001b[39m(eps2) \u001b[38;5;241m<\u001b[39m tolerance: \n",
      "\u001b[1;31mValueError\u001b[0m: The truth value of an array with more than one element is ambiguous. Use a.any() or a.all()"
     ]
    }
   ],
   "source": [
    "economy.solve_8a(W)"
   ]
  }
 ],
 "metadata": {
  "kernelspec": {
   "display_name": "base",
   "language": "python",
   "name": "python3"
  },
  "language_info": {
   "codemirror_mode": {
    "name": "ipython",
    "version": 3
   },
   "file_extension": ".py",
   "mimetype": "text/x-python",
   "name": "python",
   "nbconvert_exporter": "python",
   "pygments_lexer": "ipython3",
   "version": "3.11.7"
  },
  "toc-autonumbering": true,
  "vscode": {
   "interpreter": {
    "hash": "47ef90cdf3004d3f859f1fb202523c65c07ba7c22eefd261b181f4744e2d0403"
   }
  }
 },
 "nbformat": 4,
 "nbformat_minor": 4
}
