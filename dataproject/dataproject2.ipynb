{
 "cells": [
  {
   "cell_type": "code",
   "execution_count": 1,
   "metadata": {},
   "outputs": [],
   "source": [
    "import pandas as pd\n",
    "#%pip install matplotlib-venn\n",
    "import numpy as np\n",
    "import matplotlib.pyplot as plt\n",
    "import ipywidgets as widgets\n",
    "from matplotlib_venn import venn2\n",
    "import seaborn as sns\n",
    "import numpy as np\n",
    "import matplotlib.pyplot as plt\n",
    "from scipy import optimize\n",
    "from scipy.optimize import minimize\n",
    "\n",
    "# autoreload modules when code is run\n",
    "%load_ext autoreload\n",
    "%autoreload 2"
   ]
  },
  {
   "cell_type": "code",
   "execution_count": 3,
   "metadata": {},
   "outputs": [
    {
     "ename": "ImportError",
     "evalue": "cannot import name 'Dataproject_functions' from 'dataproject2' (c:\\Users\\annaf\\IntroProg-lectures\\projects-2024-anna-signe-og-klara\\dataproject\\dataproject2.py)",
     "output_type": "error",
     "traceback": [
      "\u001b[1;31m---------------------------------------------------------------------------\u001b[0m",
      "\u001b[1;31mImportError\u001b[0m                               Traceback (most recent call last)",
      "Cell \u001b[1;32mIn[3], line 2\u001b[0m\n\u001b[0;32m      1\u001b[0m \u001b[38;5;66;03m# Import data and dataproject functions\u001b[39;00m\n\u001b[1;32m----> 2\u001b[0m \u001b[38;5;28;01mfrom\u001b[39;00m \u001b[38;5;21;01mdataproject2\u001b[39;00m \u001b[38;5;28;01mimport\u001b[39;00m Dataproject_functions\n\u001b[0;32m      4\u001b[0m \u001b[38;5;66;03m# Initialize DataProject object\u001b[39;00m\n\u001b[0;32m      5\u001b[0m dp \u001b[38;5;241m=\u001b[39m Dataproject_functions(\u001b[38;5;124m'\u001b[39m\u001b[38;5;124mData/BIO5.xlsx\u001b[39m\u001b[38;5;124m'\u001b[39m)\n",
      "\u001b[1;31mImportError\u001b[0m: cannot import name 'Dataproject_functions' from 'dataproject2' (c:\\Users\\annaf\\IntroProg-lectures\\projects-2024-anna-signe-og-klara\\dataproject\\dataproject2.py)"
     ]
    }
   ],
   "source": [
    "# Import data and dataproject functions\n",
    "from dataproject2 import Dataproject_functions\n",
    "\n",
    "# Initialize DataProject object\n",
    "dp = Dataproject_functions('Data/BIO5.xlsx')"
   ]
  },
  {
   "cell_type": "code",
   "execution_count": null,
   "metadata": {},
   "outputs": [],
   "source": []
  }
 ],
 "metadata": {
  "kernelspec": {
   "display_name": "base",
   "language": "python",
   "name": "python3"
  },
  "language_info": {
   "codemirror_mode": {
    "name": "ipython",
    "version": 3
   },
   "file_extension": ".py",
   "mimetype": "text/x-python",
   "name": "python",
   "nbconvert_exporter": "python",
   "pygments_lexer": "ipython3",
   "version": "3.11.8"
  }
 },
 "nbformat": 4,
 "nbformat_minor": 2
}
