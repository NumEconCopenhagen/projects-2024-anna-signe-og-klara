{
 "cells": [
  {
   "cell_type": "markdown",
   "metadata": {},
   "source": [
    "# Data Project - Anna, Signe og Klara"
   ]
  },
  {
   "cell_type": "markdown",
   "metadata": {},
   "source": [
    "# Imports and set magics"
   ]
  },
  {
   "cell_type": "code",
   "execution_count": null,
   "metadata": {},
   "outputs": [],
   "source": [
    "import pandas as pd\n",
    "#%pip install matplotlib-venn\n",
    "import numpy as np\n",
    "import matplotlib.pyplot as plt\n",
    "import ipywidgets as widgets\n",
    "from matplotlib_venn import venn2\n",
    "import seaborn as sns\n",
    "import numpy as np\n",
    "import matplotlib.pyplot as plt\n",
    "from scipy import optimize\n",
    "from scipy.optimize import minimize\n",
    "\n",
    "# autoreload modules when code is run\n",
    "%load_ext autoreload\n",
    "%autoreload 2\n"
   ]
  },
  {
   "cell_type": "markdown",
   "metadata": {},
   "source": [
    "# Read and clean data"
   ]
  },
  {
   "cell_type": "markdown",
   "metadata": {},
   "source": [
    "We import the data, downloaded from DST and start the data cleaning process. \n",
    "We perform different kind of data cleaning, in order to have a more structed dataset which will be easier to work with as e.g. giving the unamed columns real names and sorting data to be a long data frame instead of a wide one."
   ]
  },
  {
   "cell_type": "code",
   "execution_count": null,
   "metadata": {},
   "outputs": [],
   "source": [
    "# Import data and dataproject functions\n",
    "from dataproject import Dataproject_functions\n",
    "\n",
    "# Initialize DataProject object\n",
    "dp = Dataproject_functions('Data/BIO5.xlsx')"
   ]
  },
  {
   "cell_type": "code",
   "execution_count": null,
   "metadata": {},
   "outputs": [],
   "source": [
    "# Load data\n",
    "dp.load_data()\n",
    "\n",
    "# Clean data\n",
    "dp.clean_data()\n",
    "\n",
    "# Melt data\n",
    "dp.melt_data()"
   ]
  },
  {
   "cell_type": "markdown",
   "metadata": {},
   "source": [
    "# Exploring the data set\n",
    "Firstly, we want to explore the dataset a bit further. We focus on movies in Denmark, the US and the EU-28 (expect Denmark), and look at the development in the number of movies and the number of sold tickets. Then we print the sumary statistics."
   ]
  },
  {
   "cell_type": "code",
   "execution_count": null,
   "metadata": {},
   "outputs": [],
   "source": [
    "# Filter data\n",
    "selected_countries = ['Danmark', 'USA', 'EU-28 udenfor Danmark']\n",
    "selected_censorship = 'Alle censurforhold'\n",
    "selected_type = ['Film (antal)', 'Solgte billetter (1.000)']\n",
    "selected_cinema_movies = 'Spillefilm og dokumentarfilm, alle målgrupper'\n",
    "\n",
    "dp.filter_data(selected_countries, selected_censorship, selected_type, selected_cinema_movies)\n",
    "dp.group_data()\n",
    "\n",
    "# Print summary statistics\n",
    "dp.print_summary_stats()\n"
   ]
  },
  {
   "cell_type": "markdown",
   "metadata": {},
   "source": [
    "From the summary statistics above we see that USA has the highest average number of cinema movies and sold tickets. \n",
    "EU-28 udenfor Danmark has the second highest average number of cinema movies and sold tickets. Danmark has the \n",
    "lowest average number of cinema movies and sold tickets, which makes sense with regards to the size of the \n",
    "country/area included in the dataset.\n",
    "\n",
    "Then we want to explore the dataset even further. We still focus on movies in Denmark, the US and the EU-28, but now explore the censorship types in the data set, with regards to  number of movies within the categories."
   ]
  },
  {
   "cell_type": "code",
   "execution_count": null,
   "metadata": {},
   "outputs": [],
   "source": [
    "# Filter and group censorship data\n",
    "selected_countries_censorship = ['Danmark', 'USA', 'EU-28 udenfor Danmark']\n",
    "selected_censorship_censorship = ['Tilladt for alle', 'Frarådet  for børn under 7 år', 'Tilladt for børn over 15 år']\n",
    "selected_type_censorship = ['Film (antal)']\n",
    "selected_cinema_movies_censorship = 'Spillefilm og dokumentarfilm, alle målgrupper'\n",
    "\n",
    "dp.filter_and_group_data_censorship(selected_countries_censorship, selected_censorship_censorship, selected_type_censorship)\n",
    "dp.compute_summary_stats_censorship()\n",
    "dp.print_summary_stats_censorship()"
   ]
  },
  {
   "cell_type": "markdown",
   "metadata": {},
   "source": [
    "From the summary statistics above we see that the mean in general is highest for the category \"Tilladt for alle\", but at the same time we see that the same category also has got the highest standard deviation, hence the biggest volatility within the observations. Again we see that US has the highest mean, minimum and maximum value, next is Denmark and EU-28 with the lowest mean, minimum and maximum. \n",
    "\n",
    "# Analysis"
   ]
  },
  {
   "cell_type": "markdown",
   "metadata": {},
   "source": [
    "Next, we want to examine the development in the number of movies and tickets sold. Therefore, we plot two figures: The number of movies and the number of sold tickets across the selected countries/areas. "
   ]
  },
  {
   "cell_type": "code",
   "execution_count": null,
   "metadata": {},
   "outputs": [],
   "source": [
    "# Plot movies by country\n",
    "dp.plot_movies_by_country_combined()\n"
   ]
  },
  {
   "cell_type": "markdown",
   "metadata": {},
   "source": [
    "Figure 1 shows the development in number of presented movies in Denmark, the United States and the EU-28. We see that the number of movies presented in Denmark generally lies at a lower level, which is not surprising. The US presents the highest number of movies - around 90 movies in 2023. We notice, that the number of movies for Denmark seems to be more stable across the period, related to movies in the US and the EU. Specifically, the number of presented movies drops considerably in 2020, due to the outbreak and lockdown following the pandemic, however less notably in Denmark. For all areas/countries, the number of movies has been increasing since the 2021, while the levels are still lower than it's peak. \n",
    "\n",
    "\n",
    "We focus on the following censorship groups: Advised against for children under 7 years, allowed for people over 15 years, and allowed for everyone. This allows us to analyze how the development of movies has been looking from different perspectives. For example we could ask - has the structure of censorship for movies changed over the last 8 years?"
   ]
  },
  {
   "cell_type": "code",
   "execution_count": null,
   "metadata": {},
   "outputs": [],
   "source": [
    "# Plot tickets by country\n",
    "dp.plot_tickets_by_country_combined()"
   ]
  },
  {
   "cell_type": "markdown",
   "metadata": {},
   "source": [
    "Figure 2 shows the number of tickets sold for the US, Denmark and EU-28 excluding Denmark. The US seems to have sold a significant larger amount of tickets for cinema movies relative Denmark and the EU-28, in the beggining of the period. In this period the US have sold around 6000-7000 tickets a year, whereas Denmark has sold between 2500-4000 tickets a year and the EU-28 between 1000-2500 a year. In the period 2019-2020 Covid-19 happens, which indeed is visible in the data. In this period the amount of tickets sold in the US decreases with almost 5000 sold tickets which makes Danmark the most ticket-selling country. It actually seems like Denmark is relatively unaffected by the crises, whereas The EU-28 decreses a bit, but not at all in the same range as the US. From 2021 and forward the US ticket sale increases again. From this it seems like the cinemas has been affected the most in the US, relative to Denmark and the EU-28, due to Covid-19. \n",
    "\n",
    "\n",
    "\n",
    "To further see the differences in the tickets sold during the period between 2019-2020, we dive into tickets sold in those years based on the censorship type."
   ]
  },
  {
   "cell_type": "code",
   "execution_count": null,
   "metadata": {},
   "outputs": [],
   "source": [
    "# Plot the censorship graph\n",
    "dp.plot_censorship_graph(dp.filtered_bio_cencorship)"
   ]
  },
  {
   "cell_type": "markdown",
   "metadata": {},
   "source": [
    "Figure 3a and 3b above shows the number of tickets sold by cencorship for 2019 and 2020. Firstly we notice that the only category where the US isn't \"leading\" regarding tickets sold was in 2020 for \"Tillads for børn over 15 år\". Here Denmark has a higher number of tickets sold, which might be due to the fact that Covid-19 closing-down happened later in Denmark compared to the US - why people where still going to the cinema.\n",
    "\n",
    "In 2019 we see, that the US has the most tickets sold for movies without censorship (\"Tilladt for alle\") and the same goes for EU-18. Whereas Denmark had the most tickets sold for \"Tilladt for børn over 15 år\". This distribution among censorhips was more or less the same in 2020, though EU-28 has a bit more tickets sold for the last censorship type \"Tilladt for børn over 15 år\", hereby following the danish distribution. \n",
    "\n",
    "\n",
    "Next, we wish to investigate the share of total movies and tickets (later divided on the censorship type)."
   ]
  },
  {
   "cell_type": "code",
   "execution_count": null,
   "metadata": {},
   "outputs": [],
   "source": [
    "# Print the shares\n",
    "dp.print_shares()"
   ]
  },
  {
   "cell_type": "markdown",
   "metadata": {},
   "source": [
    "We see again, that among all tickets sold and all movies within all three \"countries\" the US has the highest share for both variables and approximately 50 pct. of the total share. Next comes Denmark and lastly EU-28, which is kind of odd, compared to EU-28 being the 27 countries in EU. (A thought is, that the EU28 is a average for the 27 countries, though this is not mentioned in the dataset at first glance).\n",
    "\n",
    "Now we wish to investigate the share, but for each censorship category. We will do this by calculating the share of the total number of tickets sold for each country by censorship category. We zoom in on the same years as before, 2019 and 2020, and will plot to figures, one for each year."
   ]
  },
  {
   "cell_type": "code",
   "execution_count": null,
   "metadata": {},
   "outputs": [],
   "source": [
    "# Plotting the share of censorship type by country for 2019\n",
    "dp.plot_censorship_graph_new('2019', selected_countries)\n"
   ]
  },
  {
   "cell_type": "markdown",
   "metadata": {},
   "source": [
    "Figure 4a above shows the share of movies by censorship based on countries and is shown for 2019 here, and 2020 below. Due to problems we had to make two seperate plots and coding pieces.\n",
    "We will make the interpretation below figure 4b."
   ]
  },
  {
   "cell_type": "code",
   "execution_count": null,
   "metadata": {},
   "outputs": [],
   "source": [
    "# Plotting the share of censorship type by country for 2020\n",
    "dp.plot_censorship_graph_new('2020',selected_countries)\n"
   ]
  },
  {
   "cell_type": "markdown",
   "metadata": {},
   "source": [
    "Figure 4b is the same as 4a, but for 2020 instead.\n",
    "The distribution is more of less of the same trend in between the two years, where we see the highest share of movies is for the category \"Tilladt for alle\" for all three \"countries\".\n",
    "The EU-28 countries has the highest share within this category, and the lowest share of movies in the category \"Frarådet for børn under 7 år\". \n",
    "There is a slight change in the share with regards to \"tilladt for børn over 15 år\", where EU-28 passes DK in 2020 with a higher share, but is also being passed in \"Frarådet for børn under 7 år\" by the US.\n",
    "\n",
    "Funny enough we see that each of the countries has a \"dominant\" category, where they have the highest share between them.\n",
    "\n",
    "**OBS.: This interpretation is based on the \"correct\" shares. These graphs above show a to low share, which we do not know yet how to fix. Help is welcome.**"
   ]
  },
  {
   "cell_type": "markdown",
   "metadata": {},
   "source": [
    "Lastly we make an interactive plot in terms of number of movies by country"
   ]
  },
  {
   "cell_type": "code",
   "execution_count": null,
   "metadata": {},
   "outputs": [],
   "source": [
    "# Plotting the interactive plot\n",
    "dp.plot_number_of_movies_interactive(selected_countries)"
   ]
  },
  {
   "cell_type": "markdown",
   "metadata": {},
   "source": [
    "The graph above simply shows the number of movies by country, but is interactive with a dropdown menu in terms of selecting the country. The graph itself doesn't provide any new information, but is very cool :)\n",
    "\n",
    "# Conclusion\n",
    "\n",
    "In this data analysis project we looked in to the development of movies and sold tickets to the movies, where we focused on DK, US and EU. We used data stemming from DST and the time period of the dataset is from 2015 until 2023. We further analyzed the censorship types with regards to both absolute and the share of total movies. \n",
    "In general we find that the US has the highest number both for movies and for sold tickets, though to this we see that the effect of Covid-19 lock down had a huge effect on the movie-market in the US as shown in the analysis above. We see that in general there is being produced a larger share of movies which is allowed for everyone, which might be due to the fact that a larger share of people will be able to watch the movie, compared to limiting the movie to a certain age."
   ]
  }
 ],
 "metadata": {
  "kernelspec": {
   "display_name": "base",
   "language": "python",
   "name": "python3"
  },
  "language_info": {
   "codemirror_mode": {
    "name": "ipython",
    "version": 3
   },
   "file_extension": ".py",
   "mimetype": "text/x-python",
   "name": "python",
   "nbconvert_exporter": "python",
   "pygments_lexer": "ipython3",
   "version": "3.11.7"
  },
  "toc-autonumbering": true,
  "vscode": {
   "interpreter": {
    "hash": "47ef90cdf3004d3f859f1fb202523c65c07ba7c22eefd261b181f4744e2d0403"
   }
  }
 },
 "nbformat": 4,
 "nbformat_minor": 4
}
