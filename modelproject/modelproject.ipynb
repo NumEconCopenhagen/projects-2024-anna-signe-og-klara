{
 "cells": [
  {
   "cell_type": "markdown",
   "metadata": {},
   "source": [
    "# The Heckscher-Ohlin model"
   ]
  },
  {
   "cell_type": "markdown",
   "metadata": {},
   "source": [
    "Imports and set magics:"
   ]
  },
  {
   "cell_type": "code",
   "execution_count": 6,
   "metadata": {},
   "outputs": [
    {
     "name": "stdout",
     "output_type": "stream",
     "text": [
      "The autoreload extension is already loaded. To reload it, use:\n",
      "  %reload_ext autoreload\n"
     ]
    }
   ],
   "source": [
    "import numpy as np\n",
    "from scipy import optimize\n",
    "import sympy as sm\n",
    "\n",
    "# autoreload modules when code is run\n",
    "%load_ext autoreload\n",
    "%autoreload 2\n",
    "\n",
    "# local modules\n",
    "import modelproject"
   ]
  },
  {
   "cell_type": "markdown",
   "metadata": {},
   "source": [
    "# Model description"
   ]
  },
  {
   "cell_type": "markdown",
   "metadata": {},
   "source": [
    "The Heckscher-Ohlin model is a classic trading model investigating the basis for comparative advantages and possible advantages of trading. \n",
    "\n",
    "BLA BLA BLA\n",
    "\n",
    "**Model assumptions**\n",
    "\n",
    "- There are 2 countries: Denmark and China. \n",
    "- They are producing 2 goods: Wind power and textile. \n",
    "- To make these goods, they use 2 production factors: Capital and labor. The factors are assumed to move freely across the industries.\n",
    "- Wind power production is assumed to be capital intensive (i.e. to produce one amount of wind power, the countries need more capital than labor).\n",
    "- Textile production is assumed to be labor intensive (i.e. to produce one amount of textile, the countries need more labor than capital).\n",
    "- Prices on the two goods are the same across the two countries.\n",
    "- The countries have the same preferences, and therefore the same utility functions.\n",
    "- We assume perfect competition and no transportation costs.\n",
    "- We assume there are no trade restrictions. \n",
    "\n",
    "**The model equations**\n",
    "\n",
    "To calibrate this economy, we need to establish production in the two sectors. We use classical Cobb-Douglas functions for this purpose:\n",
    "\\begin{align*}\n",
    "Y_x=A_xL_x^{1-\\alpha}K_x^\\alpha \\quad where \\quad \\alpha>0 \\\\\n",
    "Y_w=A_wL_w^{1-\\beta}K_w^\\beta \\quad where \\quad \\beta>\\alpha\n",
    "\\end{align*}\n",
    "where $Y_x$ is the production of textile, and $Y_w$ is the production function for wind power. $L_x$ and $L_w$ denotes labor input in the production of the two goods, and $K_x$ and $K_w$ denotes capital input. Notice that $\\beta > \\alpha$, which shows that the production of wind power is more capital intensive than the production of textile. \n",
    "\n",
    "Furthermore we add the following ressource constraints:\n",
    "\\begin{align*}\n",
    "K_x+K_w = \\overline{K} \\quad and \\quad L_x+L_w=\\overline{L}\n",
    "\\end{align*}\n",
    "\n",
    "**The optimal use of capital and labor**\n",
    "\n",
    "Solving the model implies defining the optimal use of labor and capital in each industry. We first calculate the marginal product of labor and capital in the textile production as\n",
    "\\begin{align*}\n",
    "MPL_x=(1-\\alpha)A_x \\biggl( \\frac{K_x}{L_x}\\biggr)^{\\alpha}  \\\\\n",
    "MPK_x=\\alpha A_x\\biggl(\\frac{L_x}{K_x}\\biggr)^{1-\\alpha}\n",
    "\\end{align*}\n",
    "And next the MPL and MPK for the wind power production\n",
    "\\begin{align*}\n",
    "MPL_w=(1-\\beta)A_w\\biggl(\\frac{K_w}{L_w}\\biggr)^{\\beta}\n",
    "\\\\\n",
    "MPK_w=\\beta A_w \\biggl(\\frac{L_w}{K_w}\\biggr)^{1-\\beta}\n",
    "\\end{align*}\n",
    "\n",
    "**The utility functions**\n",
    "\n",
    "JEG ER LIDT USIKKER PÅ, HVORDAN UTILITY FUNCTIONS SKAL SE UD I DEN HER MODEL - OM MAN BARE VÆLGER EN COBB-DOUGLAS\n",
    "We use Cobb-Douglas utility functions to define the consumers' preferences:\n",
    "\\begin{align*}\n",
    "U_A = Y_x^\\phi  Y_w^{1-\\phi} \\\\\n",
    "U_B = Y_x^\\psi  Y_w^{1-\\psi}\n",
    "\\end{align*}\n",
    "\n",
    "**The market equilibrium**\n",
    "\n",
    "The market equilibria equations are derived by setting the two wage equations equal to eachother and solving for the relative price for the two goods. \n",
    "\n",
    "The labor market equilibrium \n",
    "\\begin{align*}\n",
    "w=P_x MPL_x \\quad &and \\quad w=P_w MPL_w \\\\\n",
    "\\Leftrightarrow \\frac{P_w}{P_x}&=\\frac{MPL_x}{MPL_w}\n",
    "\\end{align*}\n",
    "\n",
    "The capital market equilibrium \n",
    "\\begin{align*}\n",
    "r=P_x MPK_x \\quad &and \\quad r=P_w MPK_w \\\\\n",
    "\\Leftrightarrow \\frac{P_w}{P_x}&=\\frac{MPK_x}{MPK_w}\n",
    "\\end{align*}\n",
    "\n",
    "**Solving**\n",
    "\n",
    "VI SKAL LIGE HAVE SKREVET NOGET TIL DET HER - HVORFOR DET SKAL MED\n",
    "\\begin{align*}\n",
    "\\frac{r}{w}=\\frac{MPK_w}{MPL_w}=\\frac{\\beta}{1-\\beta}\\frac{L_w}{K_w}\n",
    "\\end{align*}\n",
    "\n",
    "\\begin{align*}\n",
    "\\beta > \\alpha \\Leftrightarrow \\frac{K_w}{L_w}=\\frac{\\beta}{1-\\beta}\\biggl(\\frac{r}{w}\\biggr)^{-1}>\\frac{K_x}{L_x}\n",
    "\\end{align*}\n"
   ]
  },
  {
   "cell_type": "markdown",
   "metadata": {},
   "source": [
    "## Analytical solution"
   ]
  },
  {
   "cell_type": "markdown",
   "metadata": {},
   "source": [
    "If your model allows for an analytical solution, you should provide here.\n",
    "\n",
    "You may use Sympy for this. Then you can characterize the solution as a function of a parameter of the model.\n",
    "\n",
    "To characterize the solution, first derive a steady state equation as a function of a parameter using Sympy.solve and then turn it into a python function by Sympy.lambdify. See the lecture notes for details. "
   ]
  },
  {
   "cell_type": "code",
   "execution_count": 7,
   "metadata": {},
   "outputs": [
    {
     "name": "stdout",
     "output_type": "stream",
     "text": [
      "alpha: 0.3333, beta: 0.6667, phi: 0.6000, psi: 1.0000, w: 1.0000, r: 0.0500, Aw: 1.0000, Ax: 1.0000\n"
     ]
    }
   ],
   "source": [
    "from modelproject import HOmodelClass\n",
    "\n",
    "# We import our class\n",
    "economy = HOmodelClass()"
   ]
  },
  {
   "cell_type": "markdown",
   "metadata": {},
   "source": [
    "Capital labor abundant"
   ]
  },
  {
   "cell_type": "code",
   "execution_count": 8,
   "metadata": {},
   "outputs": [
    {
     "name": "stdout",
     "output_type": "stream",
     "text": [
      "Denmark is capital abundant\n",
      "China is labor abundant\n"
     ]
    }
   ],
   "source": [
    "economy.capital_labor_ratio()"
   ]
  },
  {
   "cell_type": "code",
   "execution_count": 18,
   "metadata": {},
   "outputs": [
    {
     "name": "stdout",
     "output_type": "stream",
     "text": [
      "alpha: 0.3333, beta: 0.6667, phi: 0.6000, psi: 1.0000, w: 1.0000, r: 0.0500, Aw: 1.0000, Ax: 1.0000\n",
      "\n",
      "Production without trade:\n",
      "Labor DK:    75.0\n",
      "Capital DK:  250.0\n",
      "Labor CN:    250.0\n",
      "Capital CN:  75.0\n",
      "Yw DK:       112.04\n",
      "Yx DK:       112.04\n",
      "Yw CN:       502.07\n",
      "Yx CN:       112.04\n",
      "Utility DK:  112.04\n",
      "Utility CN:  112.04\n",
      "\n",
      "Production with trade:\n",
      "Labor DK:    108.2\n",
      "Capital DK:  165.31\n",
      "Labor CN:    171.19\n",
      "Capital CN:  114.08\n",
      "Yw DK:       108.2\n",
      "Yx DK:       165.31\n",
      "Yw CN:       171.19\n",
      "Yx CN:       114.08\n",
      "Utility DK:  139.53\n",
      "Utility CN:  114.08\n"
     ]
    },
    {
     "name": "stderr",
     "output_type": "stream",
     "text": [
      "c:\\Users\\klara\\OneDrive\\Dokumenter\\Polit\\2. Kandidat\\IntroductionProgramming\\Projects\\projects-2024-anna-signe-og-klara\\modelproject\\modelproject.py:36: RuntimeWarning: invalid value encountered in scalar power\n",
      "  self.Yw = lambda Lw, Kw, : par.Aw *(Lw**(1-par.alpha))*(Kw**par.alpha)\n"
     ]
    }
   ],
   "source": [
    "# Initialize HOmodelClass\n",
    "model = HOmodelClass()\n",
    "\n",
    "# Solve the model without trade\n",
    "results_without_trade = model.optimize_production_without_trade()\n",
    "\n",
    "# Solve the model with trade\n",
    "results_with_trade = model.optimize_production_with_trade()"
   ]
  },
  {
   "cell_type": "code",
   "execution_count": 15,
   "metadata": {},
   "outputs": [
    {
     "name": "stdout",
     "output_type": "stream",
     "text": [
      "alpha: 0.3333, beta: 0.6667, phi: 0.6000, psi: 1.0000, w: 1.0000, r: 0.0500, Aw: 1.0000, Ax: 1.0000\n",
      "Initial guess (x0): [75.0, 250.0, 250.0, 75.0]\n",
      "\n",
      "Production without trade (analytical):\n",
      "Labor DK:    75.0\n",
      "Capital DK:  250.0\n",
      "Labor CN:    250.0\n",
      "Capital CN:  75.0\n",
      "Yw DK:       112.04\n",
      "Yx DK:       112.04\n",
      "Utility DK:  112.04\n",
      "Utility CN:  112.04\n"
     ]
    },
    {
     "name": "stderr",
     "output_type": "stream",
     "text": [
      "c:\\Users\\klara\\OneDrive\\Dokumenter\\Polit\\2. Kandidat\\IntroductionProgramming\\Projects\\projects-2024-anna-signe-og-klara\\modelproject\\modelproject.py:36: RuntimeWarning: invalid value encountered in scalar power\n",
      "  self.Yw = lambda Lw, Kw, : par.Aw *(Lw**(1-par.alpha))*(Kw**par.alpha)\n",
      "c:\\Users\\klara\\anaconda3\\Lib\\site-packages\\scipy\\optimize\\_minpack_py.py:177: RuntimeWarning: The iteration is not making good progress, as measured by the \n",
      "  improvement from the last ten iterations.\n",
      "  warnings.warn(msg, RuntimeWarning)\n"
     ]
    },
    {
     "ename": "TypeError",
     "evalue": "fsolve: there is a mismatch between the input and output shape of the 'func' argument 'objective_function'.Shape should be (4,) but it is (1,).",
     "output_type": "error",
     "traceback": [
      "\u001b[1;31m---------------------------------------------------------------------------\u001b[0m",
      "\u001b[1;31mTypeError\u001b[0m                                 Traceback (most recent call last)",
      "Cell \u001b[1;32mIn[15], line 8\u001b[0m\n\u001b[0;32m      5\u001b[0m results_without_trade \u001b[38;5;241m=\u001b[39m model\u001b[38;5;241m.\u001b[39moptimize_production_without_trade_analytical()\n\u001b[0;32m      7\u001b[0m \u001b[38;5;66;03m# Solve the model with trade using analytical solution\u001b[39;00m\n\u001b[1;32m----> 8\u001b[0m results_with_trade \u001b[38;5;241m=\u001b[39m model\u001b[38;5;241m.\u001b[39moptimize_production_with_trade_analytical()\n",
      "File \u001b[1;32mc:\\Users\\klara\\OneDrive\\Dokumenter\\Polit\\2. Kandidat\\IntroductionProgramming\\Projects\\projects-2024-anna-signe-og-klara\\modelproject\\modelproject.py:203\u001b[0m, in \u001b[0;36mHOmodelClass.optimize_production_with_trade_analytical\u001b[1;34m(self)\u001b[0m\n\u001b[0;32m    197\u001b[0m constraints \u001b[38;5;241m=\u001b[39m ({\u001b[38;5;124m'\u001b[39m\u001b[38;5;124mtype\u001b[39m\u001b[38;5;124m'\u001b[39m: \u001b[38;5;124m'\u001b[39m\u001b[38;5;124meq\u001b[39m\u001b[38;5;124m'\u001b[39m, \u001b[38;5;124m'\u001b[39m\u001b[38;5;124mfun\u001b[39m\u001b[38;5;124m'\u001b[39m: \u001b[38;5;28;01mlambda\u001b[39;00m x: \u001b[38;5;28mself\u001b[39m\u001b[38;5;241m.\u001b[39mYw(\u001b[38;5;28mself\u001b[39m\u001b[38;5;241m.\u001b[39mLw, \u001b[38;5;28mself\u001b[39m\u001b[38;5;241m.\u001b[39mKw) \u001b[38;5;241m-\u001b[39m x[\u001b[38;5;241m0\u001b[39m] \u001b[38;5;241m-\u001b[39m x[\u001b[38;5;241m2\u001b[39m]},  \u001b[38;5;66;03m# Wind production constraint\u001b[39;00m\n\u001b[0;32m    198\u001b[0m             {\u001b[38;5;124m'\u001b[39m\u001b[38;5;124mtype\u001b[39m\u001b[38;5;124m'\u001b[39m: \u001b[38;5;124m'\u001b[39m\u001b[38;5;124meq\u001b[39m\u001b[38;5;124m'\u001b[39m, \u001b[38;5;124m'\u001b[39m\u001b[38;5;124mfun\u001b[39m\u001b[38;5;124m'\u001b[39m: \u001b[38;5;28;01mlambda\u001b[39;00m x: \u001b[38;5;28mself\u001b[39m\u001b[38;5;241m.\u001b[39mYx(\u001b[38;5;28mself\u001b[39m\u001b[38;5;241m.\u001b[39mLw, \u001b[38;5;28mself\u001b[39m\u001b[38;5;241m.\u001b[39mKw) \u001b[38;5;241m-\u001b[39m x[\u001b[38;5;241m1\u001b[39m] \u001b[38;5;241m-\u001b[39m x[\u001b[38;5;241m3\u001b[39m]},  \u001b[38;5;66;03m# Textile production constraint\u001b[39;00m\n\u001b[0;32m    199\u001b[0m             {\u001b[38;5;124m'\u001b[39m\u001b[38;5;124mtype\u001b[39m\u001b[38;5;124m'\u001b[39m: \u001b[38;5;124m'\u001b[39m\u001b[38;5;124meq\u001b[39m\u001b[38;5;124m'\u001b[39m, \u001b[38;5;124m'\u001b[39m\u001b[38;5;124mfun\u001b[39m\u001b[38;5;124m'\u001b[39m: \u001b[38;5;28;01mlambda\u001b[39;00m x: \u001b[38;5;28mself\u001b[39m\u001b[38;5;241m.\u001b[39mYw(\u001b[38;5;28mself\u001b[39m\u001b[38;5;241m.\u001b[39mLx, \u001b[38;5;28mself\u001b[39m\u001b[38;5;241m.\u001b[39mKx) \u001b[38;5;241m-\u001b[39m x[\u001b[38;5;241m2\u001b[39m] \u001b[38;5;241m-\u001b[39m x[\u001b[38;5;241m0\u001b[39m]},  \u001b[38;5;66;03m# Wind production constraint\u001b[39;00m\n\u001b[0;32m    200\u001b[0m             {\u001b[38;5;124m'\u001b[39m\u001b[38;5;124mtype\u001b[39m\u001b[38;5;124m'\u001b[39m: \u001b[38;5;124m'\u001b[39m\u001b[38;5;124meq\u001b[39m\u001b[38;5;124m'\u001b[39m, \u001b[38;5;124m'\u001b[39m\u001b[38;5;124mfun\u001b[39m\u001b[38;5;124m'\u001b[39m: \u001b[38;5;28;01mlambda\u001b[39;00m x: \u001b[38;5;28mself\u001b[39m\u001b[38;5;241m.\u001b[39mYx(\u001b[38;5;28mself\u001b[39m\u001b[38;5;241m.\u001b[39mLx, \u001b[38;5;28mself\u001b[39m\u001b[38;5;241m.\u001b[39mKx) \u001b[38;5;241m-\u001b[39m x[\u001b[38;5;241m3\u001b[39m] \u001b[38;5;241m-\u001b[39m x[\u001b[38;5;241m1\u001b[39m]})  \u001b[38;5;66;03m# Textile production constraint\u001b[39;00m\n\u001b[0;32m    202\u001b[0m \u001b[38;5;66;03m# Optimization using fsolve (analytical solution)\u001b[39;00m\n\u001b[1;32m--> 203\u001b[0m result \u001b[38;5;241m=\u001b[39m fsolve(objective_function, x0)\n\u001b[0;32m    205\u001b[0m Yw_DK \u001b[38;5;241m=\u001b[39m result[\u001b[38;5;241m0\u001b[39m]\n\u001b[0;32m    206\u001b[0m Yx_DK \u001b[38;5;241m=\u001b[39m result[\u001b[38;5;241m1\u001b[39m]\n",
      "File \u001b[1;32mc:\\Users\\klara\\anaconda3\\Lib\\site-packages\\scipy\\optimize\\_minpack_py.py:162\u001b[0m, in \u001b[0;36mfsolve\u001b[1;34m(func, x0, args, fprime, full_output, col_deriv, xtol, maxfev, band, epsfcn, factor, diag)\u001b[0m\n\u001b[0;32m     50\u001b[0m \u001b[38;5;250m\u001b[39m\u001b[38;5;124;03m\"\"\"\u001b[39;00m\n\u001b[0;32m     51\u001b[0m \u001b[38;5;124;03mFind the roots of a function.\u001b[39;00m\n\u001b[0;32m     52\u001b[0m \n\u001b[1;32m   (...)\u001b[0m\n\u001b[0;32m    152\u001b[0m \n\u001b[0;32m    153\u001b[0m \u001b[38;5;124;03m\"\"\"\u001b[39;00m\n\u001b[0;32m    154\u001b[0m options \u001b[38;5;241m=\u001b[39m {\u001b[38;5;124m'\u001b[39m\u001b[38;5;124mcol_deriv\u001b[39m\u001b[38;5;124m'\u001b[39m: col_deriv,\n\u001b[0;32m    155\u001b[0m            \u001b[38;5;124m'\u001b[39m\u001b[38;5;124mxtol\u001b[39m\u001b[38;5;124m'\u001b[39m: xtol,\n\u001b[0;32m    156\u001b[0m            \u001b[38;5;124m'\u001b[39m\u001b[38;5;124mmaxfev\u001b[39m\u001b[38;5;124m'\u001b[39m: maxfev,\n\u001b[1;32m   (...)\u001b[0m\n\u001b[0;32m    159\u001b[0m            \u001b[38;5;124m'\u001b[39m\u001b[38;5;124mfactor\u001b[39m\u001b[38;5;124m'\u001b[39m: factor,\n\u001b[0;32m    160\u001b[0m            \u001b[38;5;124m'\u001b[39m\u001b[38;5;124mdiag\u001b[39m\u001b[38;5;124m'\u001b[39m: diag}\n\u001b[1;32m--> 162\u001b[0m res \u001b[38;5;241m=\u001b[39m _root_hybr(func, x0, args, jac\u001b[38;5;241m=\u001b[39mfprime, \u001b[38;5;241m*\u001b[39m\u001b[38;5;241m*\u001b[39moptions)\n\u001b[0;32m    163\u001b[0m \u001b[38;5;28;01mif\u001b[39;00m full_output:\n\u001b[0;32m    164\u001b[0m     x \u001b[38;5;241m=\u001b[39m res[\u001b[38;5;124m'\u001b[39m\u001b[38;5;124mx\u001b[39m\u001b[38;5;124m'\u001b[39m]\n",
      "File \u001b[1;32mc:\\Users\\klara\\anaconda3\\Lib\\site-packages\\scipy\\optimize\\_minpack_py.py:228\u001b[0m, in \u001b[0;36m_root_hybr\u001b[1;34m(func, x0, args, jac, col_deriv, xtol, maxfev, band, eps, factor, diag, **unknown_options)\u001b[0m\n\u001b[0;32m    226\u001b[0m \u001b[38;5;28;01mif\u001b[39;00m \u001b[38;5;129;01mnot\u001b[39;00m \u001b[38;5;28misinstance\u001b[39m(args, \u001b[38;5;28mtuple\u001b[39m):\n\u001b[0;32m    227\u001b[0m     args \u001b[38;5;241m=\u001b[39m (args,)\n\u001b[1;32m--> 228\u001b[0m shape, dtype \u001b[38;5;241m=\u001b[39m _check_func(\u001b[38;5;124m'\u001b[39m\u001b[38;5;124mfsolve\u001b[39m\u001b[38;5;124m'\u001b[39m, \u001b[38;5;124m'\u001b[39m\u001b[38;5;124mfunc\u001b[39m\u001b[38;5;124m'\u001b[39m, func, x0, args, n, (n,))\n\u001b[0;32m    229\u001b[0m \u001b[38;5;28;01mif\u001b[39;00m epsfcn \u001b[38;5;129;01mis\u001b[39;00m \u001b[38;5;28;01mNone\u001b[39;00m:\n\u001b[0;32m    230\u001b[0m     epsfcn \u001b[38;5;241m=\u001b[39m finfo(dtype)\u001b[38;5;241m.\u001b[39meps\n",
      "File \u001b[1;32mc:\\Users\\klara\\anaconda3\\Lib\\site-packages\\scipy\\optimize\\_minpack_py.py:39\u001b[0m, in \u001b[0;36m_check_func\u001b[1;34m(checker, argname, thefunc, x0, args, numinputs, output_shape)\u001b[0m\n\u001b[0;32m     37\u001b[0m             msg \u001b[38;5;241m+\u001b[39m\u001b[38;5;241m=\u001b[39m \u001b[38;5;124m\"\u001b[39m\u001b[38;5;124m.\u001b[39m\u001b[38;5;124m\"\u001b[39m\n\u001b[0;32m     38\u001b[0m         msg \u001b[38;5;241m+\u001b[39m\u001b[38;5;241m=\u001b[39m \u001b[38;5;124mf\u001b[39m\u001b[38;5;124m'\u001b[39m\u001b[38;5;124mShape should be \u001b[39m\u001b[38;5;132;01m{\u001b[39;00moutput_shape\u001b[38;5;132;01m}\u001b[39;00m\u001b[38;5;124m but it is \u001b[39m\u001b[38;5;132;01m{\u001b[39;00mshape(res)\u001b[38;5;132;01m}\u001b[39;00m\u001b[38;5;124m.\u001b[39m\u001b[38;5;124m'\u001b[39m\n\u001b[1;32m---> 39\u001b[0m         \u001b[38;5;28;01mraise\u001b[39;00m \u001b[38;5;167;01mTypeError\u001b[39;00m(msg)\n\u001b[0;32m     40\u001b[0m \u001b[38;5;28;01mif\u001b[39;00m issubdtype(res\u001b[38;5;241m.\u001b[39mdtype, inexact):\n\u001b[0;32m     41\u001b[0m     dt \u001b[38;5;241m=\u001b[39m res\u001b[38;5;241m.\u001b[39mdtype\n",
      "\u001b[1;31mTypeError\u001b[0m: fsolve: there is a mismatch between the input and output shape of the 'func' argument 'objective_function'.Shape should be (4,) but it is (1,)."
     ]
    }
   ],
   "source": [
    "# Initialize HOmodelClass\n",
    "model = HOmodelClass()\n",
    "\n",
    "#Solve the model without trade using analytical solution\n",
    "results_without_trade = model.optimize_production_without_trade_analytical()\n",
    "\n",
    "# Solve the model with trade using analytical solution\n",
    "results_with_trade = model.optimize_production_with_trade_analytical()\n"
   ]
  },
  {
   "cell_type": "markdown",
   "metadata": {},
   "source": [
    "## Numerical solution"
   ]
  },
  {
   "cell_type": "code",
   "execution_count": null,
   "metadata": {},
   "outputs": [],
   "source": [
    "# Assuming 'model' is your instance of the ModelProject class\n",
    "model.plot_utility_surface(country='DK', trade=True)\n",
    "\n",
    "model.plot_utility_surface(country='DK', trade=False)\n",
    "\n",
    "model.plot_utility_surface(country='CN', trade=True)\n",
    "\n",
    "model.plot_utility_surface(country='CN', trade=False)"
   ]
  },
  {
   "cell_type": "markdown",
   "metadata": {},
   "source": [
    "You can always solve a model numerically. \n",
    "\n",
    "Define first the set of parameters you need. \n",
    "\n",
    "Then choose one of the optimization algorithms that we have gone through in the lectures based on what you think is most fitting for your model.\n",
    "\n",
    "Are there any problems with convergence? Does the model converge for all starting values? Make a lot of testing to figure these things out. "
   ]
  },
  {
   "cell_type": "markdown",
   "metadata": {},
   "source": [
    "# Further analysis"
   ]
  },
  {
   "cell_type": "markdown",
   "metadata": {},
   "source": [
    "Make detailed vizualizations of how your model changes with parameter values. \n",
    "\n",
    "Try to make an extension of the model. "
   ]
  },
  {
   "cell_type": "markdown",
   "metadata": {},
   "source": [
    "# Conclusion"
   ]
  },
  {
   "cell_type": "markdown",
   "metadata": {},
   "source": [
    "Add concise conclusion. "
   ]
  }
 ],
 "metadata": {
  "kernelspec": {
   "display_name": "base",
   "language": "python",
   "name": "python3"
  },
  "language_info": {
   "codemirror_mode": {
    "name": "ipython",
    "version": 3
   },
   "file_extension": ".py",
   "mimetype": "text/x-python",
   "name": "python",
   "nbconvert_exporter": "python",
   "pygments_lexer": "ipython3",
   "version": "3.11.7"
  },
  "toc-autonumbering": true,
  "vscode": {
   "interpreter": {
    "hash": "47ef90cdf3004d3f859f1fb202523c65c07ba7c22eefd261b181f4744e2d0403"
   }
  }
 },
 "nbformat": 4,
 "nbformat_minor": 4
}
