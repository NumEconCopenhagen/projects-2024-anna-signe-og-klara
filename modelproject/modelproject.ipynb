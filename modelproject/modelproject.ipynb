{
 "cells": [
  {
   "cell_type": "markdown",
   "metadata": {},
   "source": [
    "# The Heckscher-Ohlin model"
   ]
  },
  {
   "cell_type": "markdown",
   "metadata": {},
   "source": [
    "Imports and set magics:"
   ]
  },
  {
   "cell_type": "code",
   "execution_count": 1,
   "metadata": {},
   "outputs": [],
   "source": [
    "import numpy as np\n",
    "from scipy import optimize\n",
    "import sympy as sm\n",
    "\n",
    "# autoreload modules when code is run\n",
    "%load_ext autoreload\n",
    "%autoreload 2\n",
    "\n",
    "# local modules\n",
    "import modelproject"
   ]
  },
  {
   "cell_type": "markdown",
   "metadata": {},
   "source": [
    "# Model description"
   ]
  },
  {
   "cell_type": "markdown",
   "metadata": {},
   "source": [
    "The Heckscher-Ohlin model is a classic trading model investigating the basis for comparative advantages and possible advantages of trading. \n",
    "\n",
    "BLA BLA BLA\n",
    "\n",
    "**Model assumptions**\n",
    "\n",
    "- There are 2 countries: Denmark and China. \n",
    "- They are producing 2 goods: Wind power and textile. \n",
    "- To make these goods, they use 2 production factors: Capital and labor. The factors are assumed to move freely across the industries.\n",
    "- Wind power production is assumed to be capital intensive (i.e. to produce one amount of wind power, the countries need more capital than labor).\n",
    "- Textile production is assumed to be labor intensive (i.e. to produce one amount of textile, the countries need more labor than capital).\n",
    "- Prices on the two goods are the same across the two countries.\n",
    "- The countries have the same preferences, and therefore the same utility functions.\n",
    "- We assume perfect competition and no transportation costs.\n",
    "- We assume there are no trade restrictions. \n",
    "\n",
    "**The model equations**\n",
    "\n",
    "To calibrate this economy, we need to establish production in the two sectors. We use classical Cobb-Douglas functions for this purpose:\n",
    "\\begin{align*}\n",
    "Y_x=A_xL_x^{1-\\alpha}K_x^\\alpha \\quad where \\quad \\alpha>0 \\\\\n",
    "Y_w=A_wL_w^{1-\\beta}K_w^\\beta \\quad where \\quad \\beta>\\alpha\n",
    "\\end{align*}\n",
    "where $Y_x$ is the production of textile, and $Y_w$ is the production function for wind power. $L_x$ and $L_w$ denotes labor input in the production of the two goods, and $K_x$ and $K_w$ denotes capital input. Notice that $\\beta > \\alpha$, which shows that the production of wind power is more capital intensive than the production of textile. \n",
    "\n",
    "Furthermore we add the following ressource constraints:\n",
    "\\begin{align*}\n",
    "K_x+K_w = \\overline{K} \\quad and \\quad L_x+L_w=\\overline{L}\n",
    "\\end{align*}\n",
    "\n",
    "**The optimal use of capital and labor**\n",
    "\n",
    "Solving the model implies defining the optimal use of labor and capital in each industry. We first calculate the marginal product of labor and capital in the textile production as\n",
    "\\begin{align*}\n",
    "MPL_x=(1-\\alpha)A_x \\biggl( \\frac{K_x}{L_x}\\biggr)^{\\alpha}  \\\\\n",
    "MPK_x=\\alpha A_x\\biggl(\\frac{L_x}{K_x}\\biggr)^{1-\\alpha}\n",
    "\\end{align*}\n",
    "And next the MPL and MPK for the wind power production\n",
    "\\begin{align*}\n",
    "MPL_w=(1-\\beta)A_w\\biggl(\\frac{K_w}{L_w}\\biggr)^{\\beta}\n",
    "\\\\\n",
    "MPK_w=\\beta A_w \\biggl(\\frac{L_w}{K_w}\\biggr)^{1-\\beta}\n",
    "\\end{align*}\n",
    "\n",
    "**The utility functions**\n",
    "\n",
    "JEG ER LIDT USIKKER PÅ, HVORDAN UTILITY FUNCTIONS SKAL SE UD I DEN HER MODEL - OM MAN BARE VÆLGER EN COBB-DOUGLAS\n",
    "We use Cobb-Douglas utility functions to define the consumers' preferences:\n",
    "\\begin{align*}\n",
    "U_A = Y_x^\\phi  Y_w^{1-\\phi} \\\\\n",
    "U_B = Y_x^\\psi  Y_w^{1-\\psi}\n",
    "\\end{align*}\n",
    "\n",
    "**The market equilibrium**\n",
    "\n",
    "The market equilibria equations are derived by setting the two wage equations equal to eachother and solving for the relative price for the two goods. \n",
    "\n",
    "The labor market equilibrium \n",
    "\\begin{align*}\n",
    "w=P_x MPL_x \\quad &and \\quad w=P_w MPL_w \\\\\n",
    "\\Leftrightarrow \\frac{P_w}{P_x}&=\\frac{MPL_x}{MPL_w}\n",
    "\\end{align*}\n",
    "\n",
    "The capital market equilibrium \n",
    "\\begin{align*}\n",
    "r=P_x MPK_x \\quad &and \\quad r=P_w MPK_w \\\\\n",
    "\\Leftrightarrow \\frac{P_w}{P_x}&=\\frac{MPK_x}{MPK_w}\n",
    "\\end{align*}\n",
    "\n",
    "**Solving**\n",
    "\n",
    "VI SKAL LIGE HAVE SKREVET NOGET TIL DET HER - HVORFOR DET SKAL MED\n",
    "\\begin{align*}\n",
    "\\frac{r}{w}=\\frac{MPK_w}{MPL_w}=\\frac{\\beta}{1-\\beta}\\frac{L_w}{K_w}\n",
    "\\end{align*}\n",
    "\n",
    "\\begin{align*}\n",
    "\\beta > \\alpha \\Leftrightarrow \\frac{K_w}{L_w}=\\frac{\\beta}{1-\\beta}\\biggl(\\frac{r}{w}\\biggr)^{-1}>\\frac{K_x}{L_x}\n",
    "\\end{align*}\n"
   ]
  },
  {
   "cell_type": "markdown",
   "metadata": {},
   "source": [
    "## Analytical solution"
   ]
  },
  {
   "cell_type": "markdown",
   "metadata": {},
   "source": [
    "If your model allows for an analytical solution, you should provide here.\n",
    "\n",
    "You may use Sympy for this. Then you can characterize the solution as a function of a parameter of the model.\n",
    "\n",
    "To characterize the solution, first derive a steady state equation as a function of a parameter using Sympy.solve and then turn it into a python function by Sympy.lambdify. See the lecture notes for details. "
   ]
  },
  {
   "cell_type": "code",
   "execution_count": 13,
   "metadata": {},
   "outputs": [
    {
     "name": "stdout",
     "output_type": "stream",
     "text": [
      "alpha: 0.3300, beta: 0.6600, phi: 0.5000, psi: 0.5000, w: 1.0000, r: 0.0500, Aw: 1.0000, Ax: 1.0000, Lw: 400.0000, Lx: 650.0000, Kw: 700.0000, Kx: 300.0000, Uw: 433.2879, Ux: 433.2879, Yw: 481.1301, Yx: 390.2030\n"
     ]
    }
   ],
   "source": [
    "from modelproject import HOmodelClass\n",
    "\n",
    "# We import our class\n",
    "economy = HOmodelClass()"
   ]
  },
  {
   "cell_type": "code",
   "execution_count": 14,
   "metadata": {},
   "outputs": [
    {
     "name": "stdout",
     "output_type": "stream",
     "text": [
      "Uw_max: 528.1108, Ux_max: 440.5122, Lw_opt: 399.0000, Lx_opt: 649.0000, Kw_opt: 699.0000, Kx_opt: 299.0000, Yw_opt: 480.0973, Yx_opt: 389.1403\n"
     ]
    }
   ],
   "source": [
    "economy.max_utility_without_trade()"
   ]
  },
  {
   "cell_type": "markdown",
   "metadata": {},
   "source": [
    "## Numerical solution"
   ]
  },
  {
   "cell_type": "markdown",
   "metadata": {},
   "source": [
    "You can always solve a model numerically. \n",
    "\n",
    "Define first the set of parameters you need. \n",
    "\n",
    "Then choose one of the optimization algorithms that we have gone through in the lectures based on what you think is most fitting for your model.\n",
    "\n",
    "Are there any problems with convergence? Does the model converge for all starting values? Make a lot of testing to figure these things out. "
   ]
  },
  {
   "cell_type": "markdown",
   "metadata": {},
   "source": [
    "# Further analysis"
   ]
  },
  {
   "cell_type": "markdown",
   "metadata": {},
   "source": [
    "Make detailed vizualizations of how your model changes with parameter values. \n",
    "\n",
    "Try to make an extension of the model. "
   ]
  },
  {
   "cell_type": "markdown",
   "metadata": {},
   "source": [
    "# Conclusion"
   ]
  },
  {
   "cell_type": "markdown",
   "metadata": {},
   "source": [
    "Add concise conclusion. "
   ]
  }
 ],
 "metadata": {
  "kernelspec": {
   "display_name": "base",
   "language": "python",
   "name": "python3"
  },
  "language_info": {
   "codemirror_mode": {
    "name": "ipython",
    "version": 3
   },
   "file_extension": ".py",
   "mimetype": "text/x-python",
   "name": "python",
   "nbconvert_exporter": "python",
   "pygments_lexer": "ipython3",
   "version": "3.11.7"
  },
  "toc-autonumbering": true,
  "vscode": {
   "interpreter": {
    "hash": "47ef90cdf3004d3f859f1fb202523c65c07ba7c22eefd261b181f4744e2d0403"
   }
  }
 },
 "nbformat": 4,
 "nbformat_minor": 4
}
