{
 "cells": [
  {
   "cell_type": "markdown",
   "metadata": {},
   "source": [
    "# The Heckscher-Ohlin model"
   ]
  },
  {
   "cell_type": "markdown",
   "metadata": {},
   "source": [
    "Imports and set magics:"
   ]
  },
  {
   "cell_type": "code",
   "execution_count": 1,
   "metadata": {},
   "outputs": [],
   "source": [
    "import numpy as np\n",
    "from scipy import optimize\n",
    "import sympy as sm\n",
    "\n",
    "# autoreload modules when code is run\n",
    "%load_ext autoreload\n",
    "%autoreload 2\n",
    "\n",
    "# local modules\n",
    "import modelproject"
   ]
  },
  {
   "cell_type": "markdown",
   "metadata": {},
   "source": [
    "# Model description"
   ]
  },
  {
   "cell_type": "markdown",
   "metadata": {},
   "source": [
    "The Heckscher-Ohlin model is a classic trading model investigating the basis for comparative advantages and possible advantages of trading. \n",
    "\n",
    "BLA BLA BLA\n",
    "\n",
    "**Model assumptions**\n",
    "\n",
    "- There are 2 countries: Denmark and China. \n",
    "- They are producing 2 goods: Wind power and textile. \n",
    "- To make these goods, they use 2 production factors: Capital and labor. The factors are assumed to move freely across the industries.\n",
    "- Wind power production is assumed to be capital intensive (i.e. to produce one amount of wind power, the countries need more capital than labor).\n",
    "- Textile production is assumed to be labor intensive (i.e. to produce one amount of textile, the countries need more labor than capital).\n",
    "- Prices on the two goods are the same across the two countries.\n",
    "- The countries have the same preferences, and therefore the same utility functions.\n",
    "- We assume perfect competition and no transportation costs.\n",
    "- We assume there are no trade restrictions. \n",
    "\n",
    "**The model equations**\n",
    "\n",
    "Production functions:\n",
    "\\begin{align}\n",
    "Y_x=a_xL_x^{1-\\alpha}K_x^\\alpha \\quad where \\quad \\alpha>0 \\\\\n",
    "Y_w=a_wL_x^{1-\\beta}K_w^\\beta \\quad where \\quad \\beta>\\alpha\n",
    "\\end{align}\n",
    "where $Y_x$ is the production of textile, and $Y_w$ is the production function for wind power. $L_x$ and $L_w$ denotes labor input in the production of the two goods, and $K_x$ and $K_w$ denotes capital input. Notice that $\\beta > \\alpha$, which shows that the production of wind power is more capital intensive than the production of textile. \n",
    "\n",
    "**SKRIV MPK OG MPL OG PRISER IND**\n",
    "\n",
    "\n"
   ]
  },
  {
   "cell_type": "markdown",
   "metadata": {},
   "source": [
    "## Analytical solution"
   ]
  },
  {
   "cell_type": "markdown",
   "metadata": {},
   "source": [
    "If your model allows for an analytical solution, you should provide here.\n",
    "\n",
    "You may use Sympy for this. Then you can characterize the solution as a function of a parameter of the model.\n",
    "\n",
    "To characterize the solution, first derive a steady state equation as a function of a parameter using Sympy.solve and then turn it into a python function by Sympy.lambdify. See the lecture notes for details. "
   ]
  },
  {
   "cell_type": "markdown",
   "metadata": {},
   "source": [
    "## Numerical solution"
   ]
  },
  {
   "cell_type": "markdown",
   "metadata": {},
   "source": [
    "You can always solve a model numerically. \n",
    "\n",
    "Define first the set of parameters you need. \n",
    "\n",
    "Then choose one of the optimization algorithms that we have gone through in the lectures based on what you think is most fitting for your model.\n",
    "\n",
    "Are there any problems with convergence? Does the model converge for all starting values? Make a lot of testing to figure these things out. "
   ]
  },
  {
   "cell_type": "markdown",
   "metadata": {},
   "source": [
    "# Further analysis"
   ]
  },
  {
   "cell_type": "markdown",
   "metadata": {},
   "source": [
    "Make detailed vizualizations of how your model changes with parameter values. \n",
    "\n",
    "Try to make an extension of the model. "
   ]
  },
  {
   "cell_type": "markdown",
   "metadata": {},
   "source": [
    "# Conclusion"
   ]
  },
  {
   "cell_type": "markdown",
   "metadata": {},
   "source": [
    "Add concise conclusion. "
   ]
  }
 ],
 "metadata": {
  "kernelspec": {
   "display_name": "base",
   "language": "python",
   "name": "python3"
  },
  "language_info": {
   "codemirror_mode": {
    "name": "ipython",
    "version": 3
   },
   "file_extension": ".py",
   "mimetype": "text/x-python",
   "name": "python",
   "nbconvert_exporter": "python",
   "pygments_lexer": "ipython3",
   "version": "3.11.8"
  },
  "toc-autonumbering": true,
  "vscode": {
   "interpreter": {
    "hash": "47ef90cdf3004d3f859f1fb202523c65c07ba7c22eefd261b181f4744e2d0403"
   }
  }
 },
 "nbformat": 4,
 "nbformat_minor": 4
}
